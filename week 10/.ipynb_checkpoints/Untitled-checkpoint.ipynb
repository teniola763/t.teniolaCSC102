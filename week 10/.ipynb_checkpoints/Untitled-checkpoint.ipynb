{
 "cells": [
  {
   "cell_type": "code",
   "execution_count": null,
   "metadata": {},
   "outputs": [],
   "source": [
    "#oranges\n",
    "class Oranges();\n",
    "def self__innit__(self,stock quantity)\n",
    "input number of oranges == a\n",
    "obj = oranges \n",
    "def under the stock quantity(number , a= 20)\n",
    "print(\" sorry we do not  sell that amount   \")\n"
   ]
  },
  {
   "cell_type": "code",
   "execution_count": 26,
   "metadata": {},
   "outputs": [
    {
     "name": "stdout",
     "output_type": "stream",
     "text": [
      "press a = if you want to calculate the area of a trapezium\n",
      "press b = if you want to calculate the area of a rhombus\n",
      "press c = if you want to calculate the area of a parallelogram\n",
      "press d = if you want to calculate the area of a cube\n",
      "press e = if you want to calculate the area of a cylinder\n",
      "what you would like to calculatea\n",
      "Height: 2\n",
      "Base1: 3\n",
      "Base2: 4\n",
      "The value is 7.0\n"
     ]
    }
   ],
   "source": [
    "class form():\n",
    "\n",
    "    def trapezium(self, height, base1, base2):\n",
    "        self.height = height\n",
    "        self.base1 = base1\n",
    "        self.base2 = base2\n",
    "\n",
    "\n",
    "    def rhombus(self, diagonal1, diagonal2):\n",
    "        self.diagonal1 = diagonal1\n",
    "        self.diagonal2 = diagonal2\n",
    "\n",
    "\n",
    "    def parallelogram(self,base,altitude):\n",
    "        self.base = base\n",
    "        self.altitude = altitude\n",
    "\n",
    "\n",
    "    def cube(self, length):\n",
    "        self.length = length\n",
    "\n",
    "    def cylinder(self,radius,height1):\n",
    "        self.radius = radius\n",
    "        self.height1 = height1\n",
    "            \n",
    "        \n",
    "object = form()\n",
    "print (\"press a = if you want to calculate the area of a trapezium\")\n",
    "print (\"press b = if you want to calculate the area of a rhombus\")\n",
    "print (\"press c = if you want to calculate the area of a parallelogram\")\n",
    "print (\"press d = if you want to calculate the area of a cube\")\n",
    "print (\"press e = if you want to calculate the area of a cylinder\")\n",
    "choice = (input(\"what you would like to calculate\"))\n",
    "\n",
    "if choice == \"a\":\n",
    "    height = int(input(\"Height: \"))\n",
    "    base1 = int(input(\"Base1: \"))\n",
    "    base2 = int(input(\"Base2: \"))\n",
    "    trap = height/2*(base1 + base2)\n",
    "    print(f\"The value is {trap}\")\n",
    "    object.trapezium(height, base1, base2)\n",
    "    \n",
    "elif choice == \"b\":\n",
    "    diagonal1 = int(input(\"Diagonal 1: \"))\n",
    "    diagonal2 = int(input(\"Diagonal2: \"))\n",
    "    rhom =  (0.5 * diagonal1 * diagonal2)\n",
    "    print (f\"The value is {rhom}\")\n",
    "    object.rhombus(diagonal1, diagonal2)\n",
    "        \n",
    "elif choice == \"c\":\n",
    "    base = int(input(\"Base: \"))\n",
    "    altitude = int(input(\"Altitude: \"))\n",
    "    para = (base * altitude)\n",
    "    print(f\"The value is {para}\")\n",
    "    object.parallelogram(base, altitude)\n",
    "\n",
    "elif choice == \"d\":\n",
    "    length = int(input(\"Length: \"))\n",
    "    cub =  6 *(length)*2\n",
    "    print(f\"The value is {cub}\")\n",
    "    object.cube(length)\n",
    "            \n",
    "elif choice == \"e\":\n",
    "    radius = int(input(\"Radius: \"))\n",
    "    height1 = int(input(\"Height: \"))\n",
    "    cylin = (22/7*(radius)** 2) * height1\n",
    "    print (f\"The value is {cylin}\")\n",
    "    object.cylinder(radius, height1)\n",
    "else:\n",
    "    print(\"You have made an invalid selection\")"
   ]
  },
  {
   "cell_type": "code",
   "execution_count": null,
   "metadata": {},
   "outputs": [],
   "source": [
    "#a python program that saves the high-quality categories of drinks\n",
    "import pandas as pd\n",
    "print(\"You are welcome to NIgerian Brewery Limited\")\n",
    "\n",
    "class breweries():\n",
    "    \n",
    "    def drinks(self, list):\n",
    "        self.list = list1\n",
    "\n",
    "        print(\"A file has been made for the available drinks\")\n",
    "    \n",
    "data = ()\n",
    "data[\"Non- alcoholic\"] = [\"Maltina\",\"Amstel Malta\",\"Malta Gold\",\"Fayrouz\"]\n",
    "data[\"Stout\"] = [\"Legend\",\"Turbo King\",\"Willaims\"]\n",
    "data[\"Lager\"] = [\"33 legend\",\"Desperados\",\"Goldberg\",\"Gulder\",\"Heineken\",\"star\"]\n",
    "\n",
    "df = pd.DataFrame(data)\n",
    "\n",
    "df.to_csv(\"Nigerian_brewies.csv\")\n",
    "\n",
    "object = breweries()\n",
    "name = input(\"Name: \")\n",
    "print (f\"Hey{name}\")\n",
    "object.drinks(data)\n",
    "                \n",
    "                \n",
    "\n",
    "\n",
    "                    \n",
    "\n"
   ]
  },
  {
   "cell_type": "raw",
   "metadata": {},
   "source": []
  }
 ],
 "metadata": {
  "kernelspec": {
   "display_name": "Python 3",
   "language": "python",
   "name": "python3"
  },
  "language_info": {
   "codemirror_mode": {
    "name": "ipython",
    "version": 3
   },
   "file_extension": ".py",
   "mimetype": "text/x-python",
   "name": "python",
   "nbconvert_exporter": "python",
   "pygments_lexer": "ipython3",
   "version": "3.8.5"
  },
  "widgets": {
   "application/vnd.jupyter.widget-state+json": {
    "state": {},
    "version_major": 2,
    "version_minor": 0
   }
  }
 },
 "nbformat": 4,
 "nbformat_minor": 5
}
