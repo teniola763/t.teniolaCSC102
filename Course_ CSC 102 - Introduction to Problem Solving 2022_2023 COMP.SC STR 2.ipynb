<!DOCTYPE html>
<!-- saved from url=(0052)https://elearning.pau.edu.ng/course/view.php?id=2266 -->
<html dir="ltr" lang="en" xml:lang="en" class="yui3-js-enabled"><head><meta http-equiv="Content-Type" content="text/html; charset=UTF-8">
    <title>Course: CSC 102 - Introduction to Problem Solving    2022/2023    COMP.SC STR 2</title>
    <link rel="shortcut icon" href="https://elearning.pau.edu.ng/theme/image.php/eguru/theme/1678713699/favicon">
    
<meta name="keywords" content="moodle, Course: CSC 102 - Introduction to Problem Solving    2022/2023    COMP.SC STR 2">
<link rel="stylesheet" type="text/css" href="./Course_ CSC 102 - Introduction to Problem Solving 2022_2023 COMP.SC STR 2_files/combo"><script charset="utf-8" id="yui_3_17_2_1_1683732347144_8" src="./Course_ CSC 102 - Introduction to Problem Solving 2022_2023 COMP.SC STR 2_files/combo(1)" async=""></script><script charset="utf-8" id="yui_3_17_2_1_1683732347144_19" src="./Course_ CSC 102 - Introduction to Problem Solving 2022_2023 COMP.SC STR 2_files/javascript.php" async=""></script><script charset="utf-8" id="yui_3_17_2_1_1683732347144_67" src="./Course_ CSC 102 - Introduction to Problem Solving 2022_2023 COMP.SC STR 2_files/combo(2)" async=""></script><script charset="utf-8" id="yui_3_17_2_1_1683732347144_104" src="./Course_ CSC 102 - Introduction to Problem Solving 2022_2023 COMP.SC STR 2_files/MathJax.js.download" async=""></script><script id="firstthemesheet" type="text/css">/** Required in order to fix style inclusion problems in IE with YUI **/</script><link rel="stylesheet" type="text/css" href="./Course_ CSC 102 - Introduction to Problem Solving 2022_2023 COMP.SC STR 2_files/styles.php">
<script>
//<![CDATA[
var M = {}; M.yui = {};
M.pageloadstarttime = new Date();
M.cfg = {"wwwroot":"https:\/\/elearning.pau.edu.ng","sesskey":"XbvngjAGmt","sessiontimeout":"7200","themerev":"1678713699","slasharguments":1,"theme":"eguru","iconsystemmodule":"core\/icon_system_fontawesome","jsrev":"1678713699","admin":"admin","svgicons":true,"usertimezone":"Africa\/Lagos","contextid":73737,"langrev":1678713699,"templaterev":"1678713699"};var yui1ConfigFn = function(me) {if(/-skin|reset|fonts|grids|base/.test(me.name)){me.type='css';me.path=me.path.replace(/\.js/,'.css');me.path=me.path.replace(/\/yui2-skin/,'/assets/skins/sam/yui2-skin')}};
var yui2ConfigFn = function(me) {var parts=me.name.replace(/^moodle-/,'').split('-'),component=parts.shift(),module=parts[0],min='-min';if(/-(skin|core)$/.test(me.name)){parts.pop();me.type='css';min=''}
if(module){var filename=parts.join('-');me.path=component+'/'+module+'/'+filename+min+'.'+me.type}else{me.path=component+'/'+component+'.'+me.type}};
YUI_config = {"debug":false,"base":"https:\/\/elearning.pau.edu.ng\/lib\/yuilib\/3.17.2\/","comboBase":"https:\/\/elearning.pau.edu.ng\/theme\/yui_combo.php?","combine":true,"filter":null,"insertBefore":"firstthemesheet","groups":{"yui2":{"base":"https:\/\/elearning.pau.edu.ng\/lib\/yuilib\/2in3\/2.9.0\/build\/","comboBase":"https:\/\/elearning.pau.edu.ng\/theme\/yui_combo.php?","combine":true,"ext":false,"root":"2in3\/2.9.0\/build\/","patterns":{"yui2-":{"group":"yui2","configFn":yui1ConfigFn}}},"moodle":{"name":"moodle","base":"https:\/\/elearning.pau.edu.ng\/theme\/yui_combo.php?m\/1678713699\/","combine":true,"comboBase":"https:\/\/elearning.pau.edu.ng\/theme\/yui_combo.php?","ext":false,"root":"m\/1678713699\/","patterns":{"moodle-":{"group":"moodle","configFn":yui2ConfigFn}},"filter":null,"modules":{"moodle-core-event":{"requires":["event-custom"]},"moodle-core-notification":{"requires":["moodle-core-notification-dialogue","moodle-core-notification-alert","moodle-core-notification-confirm","moodle-core-notification-exception","moodle-core-notification-ajaxexception"]},"moodle-core-notification-dialogue":{"requires":["base","node","panel","escape","event-key","dd-plugin","moodle-core-widget-focusafterclose","moodle-core-lockscroll"]},"moodle-core-notification-alert":{"requires":["moodle-core-notification-dialogue"]},"moodle-core-notification-confirm":{"requires":["moodle-core-notification-dialogue"]},"moodle-core-notification-exception":{"requires":["moodle-core-notification-dialogue"]},"moodle-core-notification-ajaxexception":{"requires":["moodle-core-notification-dialogue"]},"moodle-core-handlebars":{"condition":{"trigger":"handlebars","when":"after"}},"moodle-core-lockscroll":{"requires":["plugin","base-build"]},"moodle-core-dragdrop":{"requires":["base","node","io","dom","dd","event-key","event-focus","moodle-core-notification"]},"moodle-core-languninstallconfirm":{"requires":["base","node","moodle-core-notification-confirm","moodle-core-notification-alert"]},"moodle-core-chooserdialogue":{"requires":["base","panel","moodle-core-notification"]},"moodle-core-blocks":{"requires":["base","node","io","dom","dd","dd-scroll","moodle-core-dragdrop","moodle-core-notification"]},"moodle-core-formchangechecker":{"requires":["base","event-focus","moodle-core-event"]},"moodle-core-tooltip":{"requires":["base","node","io-base","moodle-core-notification-dialogue","json-parse","widget-position","widget-position-align","event-outside","cache-base"]},"moodle-core-maintenancemodetimer":{"requires":["base","node"]},"moodle-core-actionmenu":{"requires":["base","event","node-event-simulate"]},"moodle-core-popuphelp":{"requires":["moodle-core-tooltip"]},"moodle-core_availability-form":{"requires":["base","node","event","event-delegate","panel","moodle-core-notification-dialogue","json"]},"moodle-backup-confirmcancel":{"requires":["node","node-event-simulate","moodle-core-notification-confirm"]},"moodle-backup-backupselectall":{"requires":["node","event","node-event-simulate","anim"]},"moodle-course-formatchooser":{"requires":["base","node","node-event-simulate"]},"moodle-course-dragdrop":{"requires":["base","node","io","dom","dd","dd-scroll","moodle-core-dragdrop","moodle-core-notification","moodle-course-coursebase","moodle-course-util"]},"moodle-course-management":{"requires":["base","node","io-base","moodle-core-notification-exception","json-parse","dd-constrain","dd-proxy","dd-drop","dd-delegate","node-event-delegate"]},"moodle-course-categoryexpander":{"requires":["node","event-key"]},"moodle-course-util":{"requires":["node"],"use":["moodle-course-util-base"],"submodules":{"moodle-course-util-base":{},"moodle-course-util-section":{"requires":["node","moodle-course-util-base"]},"moodle-course-util-cm":{"requires":["node","moodle-course-util-base"]}}},"moodle-form-passwordunmask":{"requires":[]},"moodle-form-shortforms":{"requires":["node","base","selector-css3","moodle-core-event"]},"moodle-form-dateselector":{"requires":["base","node","overlay","calendar"]},"moodle-question-preview":{"requires":["base","dom","event-delegate","event-key","core_question_engine"]},"moodle-question-chooser":{"requires":["moodle-core-chooserdialogue"]},"moodle-question-searchform":{"requires":["base","node"]},"moodle-availability_completion-form":{"requires":["base","node","event","moodle-core_availability-form"]},"moodle-availability_date-form":{"requires":["base","node","event","io","moodle-core_availability-form"]},"moodle-availability_grade-form":{"requires":["base","node","event","moodle-core_availability-form"]},"moodle-availability_group-form":{"requires":["base","node","event","moodle-core_availability-form"]},"moodle-availability_grouping-form":{"requires":["base","node","event","moodle-core_availability-form"]},"moodle-availability_profile-form":{"requires":["base","node","event","moodle-core_availability-form"]},"moodle-mod_assign-history":{"requires":["node","transition"]},"moodle-mod_quiz-dragdrop":{"requires":["base","node","io","dom","dd","dd-scroll","moodle-core-dragdrop","moodle-core-notification","moodle-mod_quiz-quizbase","moodle-mod_quiz-util-base","moodle-mod_quiz-util-page","moodle-mod_quiz-util-slot","moodle-course-util"]},"moodle-mod_quiz-questionchooser":{"requires":["moodle-core-chooserdialogue","moodle-mod_quiz-util","querystring-parse"]},"moodle-mod_quiz-util":{"requires":["node","moodle-core-actionmenu"],"use":["moodle-mod_quiz-util-base"],"submodules":{"moodle-mod_quiz-util-base":{},"moodle-mod_quiz-util-slot":{"requires":["node","moodle-mod_quiz-util-base"]},"moodle-mod_quiz-util-page":{"requires":["node","moodle-mod_quiz-util-base"]}}},"moodle-mod_quiz-modform":{"requires":["base","node","event"]},"moodle-mod_quiz-toolboxes":{"requires":["base","node","event","event-key","io","moodle-mod_quiz-quizbase","moodle-mod_quiz-util-slot","moodle-core-notification-ajaxexception"]},"moodle-mod_quiz-quizbase":{"requires":["base","node"]},"moodle-mod_quiz-autosave":{"requires":["base","node","event","event-valuechange","node-event-delegate","io-form"]},"moodle-message_airnotifier-toolboxes":{"requires":["base","node","io"]},"moodle-filter_glossary-autolinker":{"requires":["base","node","io-base","json-parse","event-delegate","overlay","moodle-core-event","moodle-core-notification-alert","moodle-core-notification-exception","moodle-core-notification-ajaxexception"]},"moodle-filter_mathjaxloader-loader":{"requires":["moodle-core-event"]},"moodle-editor_atto-rangy":{"requires":[]},"moodle-editor_atto-editor":{"requires":["node","transition","io","overlay","escape","event","event-simulate","event-custom","node-event-html5","node-event-simulate","yui-throttle","moodle-core-notification-dialogue","moodle-core-notification-confirm","moodle-editor_atto-rangy","handlebars","timers","querystring-stringify"]},"moodle-editor_atto-plugin":{"requires":["node","base","escape","event","event-outside","handlebars","event-custom","timers","moodle-editor_atto-menu"]},"moodle-editor_atto-menu":{"requires":["moodle-core-notification-dialogue","node","event","event-custom"]},"moodle-report_eventlist-eventfilter":{"requires":["base","event","node","node-event-delegate","datatable","autocomplete","autocomplete-filters"]},"moodle-report_loglive-fetchlogs":{"requires":["base","event","node","io","node-event-delegate"]},"moodle-gradereport_grader-gradereporttable":{"requires":["base","node","event","handlebars","overlay","event-hover"]},"moodle-gradereport_history-userselector":{"requires":["escape","event-delegate","event-key","handlebars","io-base","json-parse","moodle-core-notification-dialogue"]},"moodle-tool_capability-search":{"requires":["base","node"]},"moodle-tool_lp-dragdrop-reorder":{"requires":["moodle-core-dragdrop"]},"moodle-tool_monitor-dropdown":{"requires":["base","event","node"]},"moodle-assignfeedback_editpdf-editor":{"requires":["base","event","node","io","graphics","json","event-move","event-resize","transition","querystring-stringify-simple","moodle-core-notification-dialog","moodle-core-notification-alert","moodle-core-notification-warning","moodle-core-notification-exception","moodle-core-notification-ajaxexception"]},"moodle-atto_accessibilitychecker-button":{"requires":["color-base","moodle-editor_atto-plugin"]},"moodle-atto_accessibilityhelper-button":{"requires":["moodle-editor_atto-plugin"]},"moodle-atto_align-button":{"requires":["moodle-editor_atto-plugin"]},"moodle-atto_bold-button":{"requires":["moodle-editor_atto-plugin"]},"moodle-atto_charmap-button":{"requires":["moodle-editor_atto-plugin"]},"moodle-atto_clear-button":{"requires":["moodle-editor_atto-plugin"]},"moodle-atto_collapse-button":{"requires":["moodle-editor_atto-plugin"]},"moodle-atto_emojipicker-button":{"requires":["moodle-editor_atto-plugin"]},"moodle-atto_emoticon-button":{"requires":["moodle-editor_atto-plugin"]},"moodle-atto_equation-button":{"requires":["moodle-editor_atto-plugin","moodle-core-event","io","event-valuechange","tabview","array-extras"]},"moodle-atto_h5p-button":{"requires":["moodle-editor_atto-plugin"]},"moodle-atto_html-button":{"requires":["promise","moodle-editor_atto-plugin","moodle-atto_html-beautify","moodle-atto_html-codemirror","event-valuechange"]},"moodle-atto_html-beautify":{},"moodle-atto_html-codemirror":{"requires":["moodle-atto_html-codemirror-skin"]},"moodle-atto_image-button":{"requires":["moodle-editor_atto-plugin"]},"moodle-atto_indent-button":{"requires":["moodle-editor_atto-plugin"]},"moodle-atto_italic-button":{"requires":["moodle-editor_atto-plugin"]},"moodle-atto_link-button":{"requires":["moodle-editor_atto-plugin"]},"moodle-atto_managefiles-button":{"requires":["moodle-editor_atto-plugin"]},"moodle-atto_managefiles-usedfiles":{"requires":["node","escape"]},"moodle-atto_media-button":{"requires":["moodle-editor_atto-plugin","moodle-form-shortforms"]},"moodle-atto_noautolink-button":{"requires":["moodle-editor_atto-plugin"]},"moodle-atto_orderedlist-button":{"requires":["moodle-editor_atto-plugin"]},"moodle-atto_recordrtc-button":{"requires":["moodle-editor_atto-plugin","moodle-atto_recordrtc-recording"]},"moodle-atto_recordrtc-recording":{"requires":["moodle-atto_recordrtc-button"]},"moodle-atto_rtl-button":{"requires":["moodle-editor_atto-plugin"]},"moodle-atto_strike-button":{"requires":["moodle-editor_atto-plugin"]},"moodle-atto_subscript-button":{"requires":["moodle-editor_atto-plugin"]},"moodle-atto_superscript-button":{"requires":["moodle-editor_atto-plugin"]},"moodle-atto_table-button":{"requires":["moodle-editor_atto-plugin","moodle-editor_atto-menu","event","event-valuechange"]},"moodle-atto_teamsmeeting-button":{"requires":["moodle-editor_atto-plugin"]},"moodle-atto_title-button":{"requires":["moodle-editor_atto-plugin"]},"moodle-atto_underline-button":{"requires":["moodle-editor_atto-plugin"]},"moodle-atto_undo-button":{"requires":["moodle-editor_atto-plugin"]},"moodle-atto_unorderedlist-button":{"requires":["moodle-editor_atto-plugin"]}}},"gallery":{"name":"gallery","base":"https:\/\/elearning.pau.edu.ng\/lib\/yuilib\/gallery\/","combine":true,"comboBase":"https:\/\/elearning.pau.edu.ng\/theme\/yui_combo.php?","ext":false,"root":"gallery\/1678713699\/","patterns":{"gallery-":{"group":"gallery"}}}},"modules":{"core_filepicker":{"name":"core_filepicker","fullpath":"https:\/\/elearning.pau.edu.ng\/lib\/javascript.php\/1678713699\/repository\/filepicker.js","requires":["base","node","node-event-simulate","json","async-queue","io-base","io-upload-iframe","io-form","yui2-treeview","panel","cookie","datatable","datatable-sort","resize-plugin","dd-plugin","escape","moodle-core_filepicker","moodle-core-notification-dialogue"]},"core_comment":{"name":"core_comment","fullpath":"https:\/\/elearning.pau.edu.ng\/lib\/javascript.php\/1678713699\/comment\/comment.js","requires":["base","io-base","node","json","yui2-animation","overlay","escape"]},"mathjax":{"name":"mathjax","fullpath":"https:\/\/cdn.jsdelivr.net\/npm\/mathjax@2.7.8\/MathJax.js?delayStartupUntil=configured"},"core_completion":{"name":"core_completion","fullpath":"https:\/\/elearning.pau.edu.ng\/lib\/javascript.php\/1678713699\/course\/completion.js"}}};
M.yui.loader = {modules: {}};

//]]>
</script>

    <meta name="viewport" content="width=device-width, initial-scale=1.0">
<script type="text/javascript" charset="utf-8" async="" data-requirecontext="_" data-requiremodule="core/first" src="./Course_ CSC 102 - Introduction to Problem Solving 2022_2023 COMP.SC STR 2_files/requirejs.php"></script><script type="text/x-mathjax-config;executed=true">
MathJax.Hub.Config({
    config: ["Accessible.js", "Safe.js"],
    errorSettings: { message: ["!"] },
    skipStartupTypeset: true,
    messageStyle: "none"
});
</script><script type="text/javascript" charset="utf-8" async="" data-requirecontext="_" data-requiremodule="jquery" src="./Course_ CSC 102 - Introduction to Problem Solving 2022_2023 COMP.SC STR 2_files/javascript(1).php"></script><script type="text/javascript">$(document.getElementById("yui_3_17_2_1_1683732347144_69")).focus();</script><style type="text/css">.MathJax_Hover_Frame {border-radius: .25em; -webkit-border-radius: .25em; -moz-border-radius: .25em; -khtml-border-radius: .25em; box-shadow: 0px 0px 15px #83A; -webkit-box-shadow: 0px 0px 15px #83A; -moz-box-shadow: 0px 0px 15px #83A; -khtml-box-shadow: 0px 0px 15px #83A; border: 1px solid #A6D ! important; display: inline-block; position: absolute}
.MathJax_Menu_Button .MathJax_Hover_Arrow {position: absolute; cursor: pointer; display: inline-block; border: 2px solid #AAA; border-radius: 4px; -webkit-border-radius: 4px; -moz-border-radius: 4px; -khtml-border-radius: 4px; font-family: 'Courier New',Courier; font-size: 9px; color: #F0F0F0}
.MathJax_Menu_Button .MathJax_Hover_Arrow span {display: block; background-color: #AAA; border: 1px solid; border-radius: 3px; line-height: 0; padding: 4px}
.MathJax_Hover_Arrow:hover {color: white!important; border: 2px solid #CCC!important}
.MathJax_Hover_Arrow:hover span {background-color: #CCC!important}
</style><style type="text/css">#MathJax_About {position: fixed; left: 50%; width: auto; text-align: center; border: 3px outset; padding: 1em 2em; background-color: #DDDDDD; color: black; cursor: default; font-family: message-box; font-size: 120%; font-style: normal; text-indent: 0; text-transform: none; line-height: normal; letter-spacing: normal; word-spacing: normal; word-wrap: normal; white-space: nowrap; float: none; z-index: 201; border-radius: 15px; -webkit-border-radius: 15px; -moz-border-radius: 15px; -khtml-border-radius: 15px; box-shadow: 0px 10px 20px #808080; -webkit-box-shadow: 0px 10px 20px #808080; -moz-box-shadow: 0px 10px 20px #808080; -khtml-box-shadow: 0px 10px 20px #808080; filter: progid:DXImageTransform.Microsoft.dropshadow(OffX=2, OffY=2, Color='gray', Positive='true')}
#MathJax_About.MathJax_MousePost {outline: none}
.MathJax_Menu {position: absolute; background-color: white; color: black; width: auto; padding: 2px; border: 1px solid #CCCCCC; margin: 0; cursor: default; font: menu; text-align: left; text-indent: 0; text-transform: none; line-height: normal; letter-spacing: normal; word-spacing: normal; word-wrap: normal; white-space: nowrap; float: none; z-index: 201; box-shadow: 0px 10px 20px #808080; -webkit-box-shadow: 0px 10px 20px #808080; -moz-box-shadow: 0px 10px 20px #808080; -khtml-box-shadow: 0px 10px 20px #808080; filter: progid:DXImageTransform.Microsoft.dropshadow(OffX=2, OffY=2, Color='gray', Positive='true')}
.MathJax_MenuItem {padding: 2px 2em; background: transparent}
.MathJax_MenuArrow {position: absolute; right: .5em; padding-top: .25em; color: #666666; font-size: .75em}
.MathJax_MenuActive .MathJax_MenuArrow {color: white}
.MathJax_MenuArrow.RTL {left: .5em; right: auto}
.MathJax_MenuCheck {position: absolute; left: .7em}
.MathJax_MenuCheck.RTL {right: .7em; left: auto}
.MathJax_MenuRadioCheck {position: absolute; left: 1em}
.MathJax_MenuRadioCheck.RTL {right: 1em; left: auto}
.MathJax_MenuLabel {padding: 2px 2em 4px 1.33em; font-style: italic}
.MathJax_MenuRule {border-top: 1px solid #CCCCCC; margin: 4px 1px 0px}
.MathJax_MenuDisabled {color: GrayText}
.MathJax_MenuActive {background-color: Highlight; color: HighlightText}
.MathJax_MenuDisabled:focus, .MathJax_MenuLabel:focus {background-color: #E8E8E8}
.MathJax_ContextMenu:focus {outline: none}
.MathJax_ContextMenu .MathJax_MenuItem:focus {outline: none}
#MathJax_AboutClose {top: .2em; right: .2em}
.MathJax_Menu .MathJax_MenuClose {top: -10px; left: -10px}
.MathJax_MenuClose {position: absolute; cursor: pointer; display: inline-block; border: 2px solid #AAA; border-radius: 18px; -webkit-border-radius: 18px; -moz-border-radius: 18px; -khtml-border-radius: 18px; font-family: 'Courier New',Courier; font-size: 24px; color: #F0F0F0}
.MathJax_MenuClose span {display: block; background-color: #AAA; border: 1.5px solid; border-radius: 18px; -webkit-border-radius: 18px; -moz-border-radius: 18px; -khtml-border-radius: 18px; line-height: 0; padding: 8px 0 6px}
.MathJax_MenuClose:hover {color: white!important; border: 2px solid #CCC!important}
.MathJax_MenuClose:hover span {background-color: #CCC!important}
.MathJax_MenuClose:hover:focus {outline: none}
</style><style type="text/css">.MathJax_Preview .MJXf-math {color: inherit!important}
</style><style type="text/css">.MJX_Assistive_MathML {position: absolute!important; top: 0; left: 0; clip: rect(1px, 1px, 1px, 1px); padding: 1px 0 0 0!important; border: 0!important; height: 1px!important; width: 1px!important; overflow: hidden!important; display: block!important; -webkit-touch-callout: none; -webkit-user-select: none; -khtml-user-select: none; -moz-user-select: none; -ms-user-select: none; user-select: none}
.MJX_Assistive_MathML.MJX_Assistive_MathML_Block {width: 100%!important}
</style><style type="text/css">#MathJax_Zoom {position: absolute; background-color: #F0F0F0; overflow: auto; display: block; z-index: 301; padding: .5em; border: 1px solid black; margin: 0; font-weight: normal; font-style: normal; text-align: left; text-indent: 0; text-transform: none; line-height: normal; letter-spacing: normal; word-spacing: normal; word-wrap: normal; white-space: nowrap; float: none; -webkit-box-sizing: content-box; -moz-box-sizing: content-box; box-sizing: content-box; box-shadow: 5px 5px 15px #AAAAAA; -webkit-box-shadow: 5px 5px 15px #AAAAAA; -moz-box-shadow: 5px 5px 15px #AAAAAA; -khtml-box-shadow: 5px 5px 15px #AAAAAA; filter: progid:DXImageTransform.Microsoft.dropshadow(OffX=2, OffY=2, Color='gray', Positive='true')}
#MathJax_ZoomOverlay {position: absolute; left: 0; top: 0; z-index: 300; display: inline-block; width: 100%; height: 100%; border: 0; padding: 0; margin: 0; background-color: white; opacity: 0; filter: alpha(opacity=0)}
#MathJax_ZoomFrame {position: relative; display: inline-block; height: 0; width: 0}
#MathJax_ZoomEventTrap {position: absolute; left: 0; top: 0; z-index: 302; display: inline-block; border: 0; padding: 0; margin: 0; background-color: white; opacity: 0; filter: alpha(opacity=0)}
</style><style type="text/css">.MathJax_Preview {color: #888; display: contents}
#MathJax_Message {position: fixed; left: 1em; bottom: 1.5em; background-color: #E6E6E6; border: 1px solid #959595; margin: 0px; padding: 2px 8px; z-index: 102; color: black; font-size: 80%; width: auto; white-space: nowrap}
#MathJax_MSIE_Frame {position: absolute; top: 0; left: 0; width: 0px; z-index: 101; border: 0px; margin: 0px; padding: 0px}
.MathJax_Error {color: #CC0000; font-style: italic}
</style><style type="text/css">.MJXp-script {font-size: .8em}
.MJXp-right {-webkit-transform-origin: right; -moz-transform-origin: right; -ms-transform-origin: right; -o-transform-origin: right; transform-origin: right}
.MJXp-bold {font-weight: bold}
.MJXp-italic {font-style: italic}
.MJXp-scr {font-family: MathJax_Script,'Times New Roman',Times,STIXGeneral,serif}
.MJXp-frak {font-family: MathJax_Fraktur,'Times New Roman',Times,STIXGeneral,serif}
.MJXp-sf {font-family: MathJax_SansSerif,'Times New Roman',Times,STIXGeneral,serif}
.MJXp-cal {font-family: MathJax_Caligraphic,'Times New Roman',Times,STIXGeneral,serif}
.MJXp-mono {font-family: MathJax_Typewriter,'Times New Roman',Times,STIXGeneral,serif}
.MJXp-largeop {font-size: 150%}
.MJXp-largeop.MJXp-int {vertical-align: -.2em}
.MJXp-math {display: inline-block; line-height: 1.2; text-indent: 0; font-family: 'Times New Roman',Times,STIXGeneral,serif; white-space: nowrap; border-collapse: collapse}
.MJXp-display {display: block; text-align: center; margin: 1em 0}
.MJXp-math span {display: inline-block}
.MJXp-box {display: block!important; text-align: center}
.MJXp-box:after {content: " "}
.MJXp-rule {display: block!important; margin-top: .1em}
.MJXp-char {display: block!important}
.MJXp-mo {margin: 0 .15em}
.MJXp-mfrac {margin: 0 .125em; vertical-align: .25em}
.MJXp-denom {display: inline-table!important; width: 100%}
.MJXp-denom > * {display: table-row!important}
.MJXp-surd {vertical-align: top}
.MJXp-surd > * {display: block!important}
.MJXp-script-box > *  {display: table!important; height: 50%}
.MJXp-script-box > * > * {display: table-cell!important; vertical-align: top}
.MJXp-script-box > *:last-child > * {vertical-align: bottom}
.MJXp-script-box > * > * > * {display: block!important}
.MJXp-mphantom {visibility: hidden}
.MJXp-munderover, .MJXp-munder {display: inline-table!important}
.MJXp-over {display: inline-block!important; text-align: center}
.MJXp-over > * {display: block!important}
.MJXp-munderover > *, .MJXp-munder > * {display: table-row!important}
.MJXp-mtable {vertical-align: .25em; margin: 0 .125em}
.MJXp-mtable > * {display: inline-table!important; vertical-align: middle}
.MJXp-mtr {display: table-row!important}
.MJXp-mtd {display: table-cell!important; text-align: center; padding: .5em 0 0 .5em}
.MJXp-mtr > .MJXp-mtd:first-child {padding-left: 0}
.MJXp-mtr:first-child > .MJXp-mtd {padding-top: 0}
.MJXp-mlabeledtr {display: table-row!important}
.MJXp-mlabeledtr > .MJXp-mtd:first-child {padding-left: 0}
.MJXp-mlabeledtr:first-child > .MJXp-mtd {padding-top: 0}
.MJXp-merror {background-color: #FFFF88; color: #CC0000; border: 1px solid #CC0000; padding: 1px 3px; font-style: normal; font-size: 90%}
.MJXp-scale0 {-webkit-transform: scaleX(.0); -moz-transform: scaleX(.0); -ms-transform: scaleX(.0); -o-transform: scaleX(.0); transform: scaleX(.0)}
.MJXp-scale1 {-webkit-transform: scaleX(.1); -moz-transform: scaleX(.1); -ms-transform: scaleX(.1); -o-transform: scaleX(.1); transform: scaleX(.1)}
.MJXp-scale2 {-webkit-transform: scaleX(.2); -moz-transform: scaleX(.2); -ms-transform: scaleX(.2); -o-transform: scaleX(.2); transform: scaleX(.2)}
.MJXp-scale3 {-webkit-transform: scaleX(.3); -moz-transform: scaleX(.3); -ms-transform: scaleX(.3); -o-transform: scaleX(.3); transform: scaleX(.3)}
.MJXp-scale4 {-webkit-transform: scaleX(.4); -moz-transform: scaleX(.4); -ms-transform: scaleX(.4); -o-transform: scaleX(.4); transform: scaleX(.4)}
.MJXp-scale5 {-webkit-transform: scaleX(.5); -moz-transform: scaleX(.5); -ms-transform: scaleX(.5); -o-transform: scaleX(.5); transform: scaleX(.5)}
.MJXp-scale6 {-webkit-transform: scaleX(.6); -moz-transform: scaleX(.6); -ms-transform: scaleX(.6); -o-transform: scaleX(.6); transform: scaleX(.6)}
.MJXp-scale7 {-webkit-transform: scaleX(.7); -moz-transform: scaleX(.7); -ms-transform: scaleX(.7); -o-transform: scaleX(.7); transform: scaleX(.7)}
.MJXp-scale8 {-webkit-transform: scaleX(.8); -moz-transform: scaleX(.8); -ms-transform: scaleX(.8); -o-transform: scaleX(.8); transform: scaleX(.8)}
.MJXp-scale9 {-webkit-transform: scaleX(.9); -moz-transform: scaleX(.9); -ms-transform: scaleX(.9); -o-transform: scaleX(.9); transform: scaleX(.9)}
.MathJax_PHTML .noError {vertical-align: ; font-size: 90%; text-align: left; color: black; padding: 1px 3px; border: 1px solid}
</style></head>
<body id="page-course-view-weeks" class="format-weeks  path-course path-course-view chrome dir-ltr lang-en yui-skin-sam yui3-skin-sam elearning-pau-edu-ng pagelayout-course course-2266 context-73737 category-326  jsenabled"><div id="MathJax_Message" style="display: none;"></div>

<div id="page-wrapper">

    <div>
    <a class="sr-only sr-only-focusable" href="https://elearning.pau.edu.ng/course/view.php?id=2266#maincontent">Skip to main content</a>
</div><script src="./Course_ CSC 102 - Introduction to Problem Solving 2022_2023 COMP.SC STR 2_files/javascript(2).php"></script>
<script src="./Course_ CSC 102 - Introduction to Problem Solving 2022_2023 COMP.SC STR 2_files/javascript(3).php"></script>
<script src="./Course_ CSC 102 - Introduction to Problem Solving 2022_2023 COMP.SC STR 2_files/combo(3)"></script><script src="./Course_ CSC 102 - Introduction to Problem Solving 2022_2023 COMP.SC STR 2_files/jquery-3.4.1.min.js.download"></script>
<script src="./Course_ CSC 102 - Introduction to Problem Solving 2022_2023 COMP.SC STR 2_files/javascript(4).php"></script>
<script>
//<![CDATA[
document.body.className += ' jsenabled';
//]]>
</script>



    
<nav id="header" role="banner" class="fixed-top navbar navbar-light bg-white navbar-expand moodle-has-zindex">
    <!-- LMSACE S.o -->
    <div class="header-menubar">
        <div class="container">
            <div class="navbar">
             <div class="navbar-inner">
                <div data-region="drawer-toggle" class="d-inline-block mr-3">
                    <button aria-expanded="false" aria-controls="nav-drawer" type="button" class="btn nav-link float-sm-left mr-1 btn-secondary" data-action="toggle-drawer" data-side="left" data-preference="drawer-open-nav"><i class="icon fa fa-bars fa-fw " aria-hidden="true"></i><span class="sr-only">Side panel</span>
                    <span></span>
                    <span></span>
                    <span></span>

                    </button>
                </div>
        </div>

        <ul class="nav navbar-nav ml-auto">
            <div class="d-none d-lg-block">
                
            </div>
            <!-- navbar_plugin_output -->
            <li class="nav-item">
            <div class="popover-region collapsed popover-region-notifications" id="nav-notification-popover-container" data-userid="3334" data-region="popover-region">
    <div class="popover-region-toggle nav-link" data-region="popover-region-toggle" role="button" aria-controls="popover-region-container-645bb7966a2e1645bb79664e1a9" aria-haspopup="true" aria-label="Show notification window with no new notifications" tabindex="0">
                <i class="icon fa fa-bell fa-fw " title="Toggle notifications menu" aria-label="Toggle notifications menu"></i>
        <div class="count-container hidden" data-region="count-container" aria-label="There are 0 unread notifications">0</div>

    </div>
    <div id="popover-region-container-645bb7966a2e1645bb79664e1a9" class="popover-region-container" data-region="popover-region-container" aria-expanded="false" aria-hidden="true" aria-label="Notification window" role="region">
        <div class="popover-region-header-container">
            <h3 class="popover-region-header-text" data-region="popover-region-header-text">Notifications</h3>
            <div class="popover-region-header-actions" data-region="popover-region-header-actions">        <a class="mark-all-read-button" href="https://elearning.pau.edu.ng/course/view.php?id=2266#" title="Mark all as read" data-action="mark-all-read" role="button" aria-label="Mark all as read">
            <span class="normal-icon"><i class="icon fa fa-check fa-fw " aria-hidden="true"></i></span>
            <span class="loading-icon icon-no-margin"><i class="icon fa fa-circle-o-notch fa-spin fa-fw " title="Loading" aria-label="Loading"></i></span>
        </a>
        <a href="https://elearning.pau.edu.ng/message/notificationpreferences.php?userid=3334" title="Notification preferences" aria-label="Notification preferences">
            <i class="icon fa fa-cog fa-fw " aria-hidden="true"></i>
        </a>
</div>
        </div>
        <div class="popover-region-content-container" data-region="popover-region-content-container">
            <div class="popover-region-content" data-region="popover-region-content">
                        <div class="all-notifications" data-region="all-notifications" role="log" aria-busy="false" aria-atomic="false" aria-relevant="additions"></div>
        <div class="empty-message" tabindex="0" data-region="empty-message">You have no notifications</div>

            </div>
            <span class="loading-icon icon-no-margin"><i class="icon fa fa-circle-o-notch fa-spin fa-fw " title="Loading" aria-label="Loading"></i></span>
        </div>
                <a class="see-all-link" href="https://elearning.pau.edu.ng/message/output/popup/notifications.php">
                    <div class="popover-region-footer-container">
                        <div class="popover-region-seeall-text">See all</div>
                    </div>
                </a>
    </div>
</div><div class="popover-region collapsed" data-region="popover-region-messages">
    <a id="message-drawer-toggle-645bb7966ace0645bb79664e1a10" class="nav-link d-inline-block popover-region-toggle position-relative" href="https://elearning.pau.edu.ng/course/view.php?id=2266#" role="button">
        <i class="icon fa fa-comment fa-fw " title="Toggle messaging drawer" aria-label="Toggle messaging drawer"></i>
        <div class="count-container hidden" data-region="count-container" aria-label="There are 0 unread conversations">0</div>
    </a>
    <span class="sr-only sr-only-focusable" data-region="jumpto" tabindex="-1"></span></div>
            </li>
            
            <!-- user_menu -->
            <li class="nav-item d-flex align-items-center">
                <div class="usermenu"><div class="action-menu moodle-actionmenu nowrap-items d-inline" id="action-menu-1" data-enhance="moodle-core-actionmenu">

        <div class="menubar d-flex " id="action-menu-1-menubar" role="menubar">

            


                <div class="action-menu-trigger">
                    <div class="dropdown">
                        <a href="https://elearning.pau.edu.ng/course/view.php?id=2266#" tabindex="0" class="d-inline-block  dropdown-toggle icon-no-margin" id="action-menu-toggle-1" aria-label="User menu" data-toggle="dropdown" role="button" aria-haspopup="true" aria-expanded="false" aria-controls="action-menu-1-menu">
                            
                            <span class="userbutton"><span class="usertext mr-1">Teniola Tedlance</span><span class="avatars"><span class="avatar current"><img src="./Course_ CSC 102 - Introduction to Problem Solving 2022_2023 COMP.SC STR 2_files/f2_white.svg" class="userpicture defaultuserpic" width="35" height="35" aria-hidden="true"></span></span></span>
                                
                            <b class="caret"></b>
                        </a>
                            <div class="dropdown-menu dropdown-menu-right menu  align-tr-br" id="action-menu-1-menu" data-rel="menu-content" aria-labelledby="action-menu-toggle-1" role="menu" data-align="tr-br">
                                                                <a href="https://elearning.pau.edu.ng/my/" class="dropdown-item menu-action" role="menuitem" data-title="mymoodle,admin" aria-labelledby="actionmenuaction-1">
                                <i class="icon fa fa-tachometer fa-fw " aria-hidden="true"></i>
                                <span class="menu-action-text" id="actionmenuaction-1">Dashboard</span>
                        </a>
                    <div class="dropdown-divider" role="presentation"><span class="filler">&nbsp;</span></div>
                                                                <a href="https://elearning.pau.edu.ng/user/profile.php?id=3334" class="dropdown-item menu-action" role="menuitem" data-title="profile,moodle" aria-labelledby="actionmenuaction-2">
                                <i class="icon fa fa-user fa-fw " aria-hidden="true"></i>
                                <span class="menu-action-text" id="actionmenuaction-2">Profile</span>
                        </a>
                                                                <a href="https://elearning.pau.edu.ng/grade/report/overview/index.php" class="dropdown-item menu-action" role="menuitem" data-title="grades,grades" aria-labelledby="actionmenuaction-3">
                                <i class="icon fa fa-table fa-fw " aria-hidden="true"></i>
                                <span class="menu-action-text" id="actionmenuaction-3">Grades</span>
                        </a>
                                                                <a href="https://elearning.pau.edu.ng/message/index.php" class="dropdown-item menu-action" role="menuitem" data-title="messages,message" aria-labelledby="actionmenuaction-4">
                                <i class="icon fa fa-comment fa-fw " aria-hidden="true"></i>
                                <span class="menu-action-text" id="actionmenuaction-4">Messages</span>
                        </a>
                                                                <a href="https://elearning.pau.edu.ng/user/preferences.php" class="dropdown-item menu-action" role="menuitem" data-title="preferences,moodle" aria-labelledby="actionmenuaction-5">
                                <i class="icon fa fa-wrench fa-fw " aria-hidden="true"></i>
                                <span class="menu-action-text" id="actionmenuaction-5">Preferences</span>
                        </a>
                    <div class="dropdown-divider" role="presentation"><span class="filler">&nbsp;</span></div>
                                                                <a href="https://elearning.pau.edu.ng/login/logout.php?sesskey=XbvngjAGmt" class="dropdown-item menu-action" role="menuitem" data-title="logout,moodle" aria-labelledby="actionmenuaction-6">
                                <i class="icon fa fa-sign-out fa-fw " aria-hidden="true"></i>
                                <span class="menu-action-text" id="actionmenuaction-6">Log out</span>
                        </a>
                            </div>
                    </div>
                </div>

        </div>

</div></div>
            </li>
        </ul>
        <!-- search_box -->

          <div id="Mainmenu" class="nav-collapse collapse navbar-responsive-collapse">

            <li class="dropdown nav-item">
    <a class="dropdown-toggle nav-link" id="drop-down-645bb7966b41b645bb79664e1a19" data-toggle="dropdown" aria-haspopup="true" aria-expanded="false" href="https://elearning.pau.edu.ng/course/view.php?id=2266#" aria-controls="drop-down-menu-645bb7966b41b645bb79664e1a19">
        SST
    </a>
    <div class="dropdown-menu" role="menu" id="drop-down-menu-645bb7966b41b645bb79664e1a19" aria-labelledby="drop-down-645bb7966b41b645bb79664e1a19">
                <a class="dropdown-item" role="menuitem" href="https://elearning.pau.edu.ng/course/index.php?categoryid=326">Year 1 Semester 2</a>
                <a class="dropdown-item" role="menuitem" href="https://elearning.pau.edu.ng/course/index.php?categoryid=327">Year 2 Semester 2</a>
                <a class="dropdown-item" role="menuitem" href="https://elearning.pau.edu.ng/course/index.php?categoryid=328">Year 3 Semester 2</a>
    </div>
</li><li class="dropdown nav-item">
    <a class="dropdown-toggle nav-link" id="drop-down-645bb7966b44a645bb79664e1a20" data-toggle="dropdown" aria-haspopup="true" aria-expanded="false" href="https://elearning.pau.edu.ng/course/view.php?id=2266#" aria-controls="drop-down-menu-645bb7966b44a645bb79664e1a20">
        MassComm
    </a>
    <div class="dropdown-menu" role="menu" id="drop-down-menu-645bb7966b44a645bb79664e1a20" aria-labelledby="drop-down-645bb7966b44a645bb79664e1a20">
                <a class="dropdown-item" role="menuitem" href="https://elearning.pau.edu.ng/course/index.php?categoryid=329">Year 1 Semester 2</a>
                <a class="dropdown-item" role="menuitem" href="https://elearning.pau.edu.ng/course/index.php?categoryid=330">Year 2 Semester 2</a>
                <a class="dropdown-item" role="menuitem" href="https://elearning.pau.edu.ng/course/index.php?categoryid=331">Year 3 Semester 2</a>
                <a class="dropdown-item" role="menuitem" href="https://elearning.pau.edu.ng/course/index.php?categoryid=332">Year 4 Semester 2</a>
    </div>
</li><li class="dropdown nav-item">
    <a class="dropdown-toggle nav-link" id="drop-down-645bb7966b476645bb79664e1a21" data-toggle="dropdown" aria-haspopup="true" aria-expanded="false" href="https://elearning.pau.edu.ng/course/view.php?id=2266#" aria-controls="drop-down-menu-645bb7966b476645bb79664e1a21">
        SMSS
    </a>
    <div class="dropdown-menu" role="menu" id="drop-down-menu-645bb7966b476645bb79664e1a21" aria-labelledby="drop-down-645bb7966b476645bb79664e1a21">
                <a class="dropdown-item" role="menuitem" href="https://elearning.pau.edu.ng/course/index.php?categoryid=333">Year 4 Semester 2</a>
                <a class="dropdown-item" role="menuitem" href="https://elearning.pau.edu.ng/course/index.php?categoryid=322">Year 3 Semester 2</a>
                <a class="dropdown-item" role="menuitem" href="https://elearning.pau.edu.ng/course/index.php?categoryid=335">Year 2 Semester 2</a>
                <a class="dropdown-item" role="menuitem" href="https://elearning.pau.edu.ng/course/index.php?categoryid=336">Year 1 Semester 2</a>
    </div>
</li><li class="dropdown nav-item">
    <a class="dropdown-toggle nav-link" id="drop-down-645bb7966b4a1645bb79664e1a22" data-toggle="dropdown" aria-haspopup="true" aria-expanded="false" href="https://elearning.pau.edu.ng/course/view.php?id=2266#" aria-controls="drop-down-menu-645bb7966b4a1645bb79664e1a22">
        ISMS
    </a>
    <div class="dropdown-menu" role="menu" id="drop-down-menu-645bb7966b4a1645bb79664e1a22" aria-labelledby="drop-down-645bb7966b4a1645bb79664e1a22">
                <a class="dropdown-item" role="menuitem" href="https://elearning.pau.edu.ng/course/index.php?categoryid=337">Year 4 Semester 2</a>
                <a class="dropdown-item" role="menuitem" href="https://elearning.pau.edu.ng/course/index.php?categoryid=338">Year 3 Semester 2</a>
                <a class="dropdown-item" role="menuitem" href="https://elearning.pau.edu.ng/course/index.php?categoryid=339">Year 2 Semester 2</a>
                <a class="dropdown-item" role="menuitem" href="https://elearning.pau.edu.ng/course/index.php?categoryid=342">Year 1 Semester 2</a>
    </div>
</li><li class="dropdown nav-item">
    <a class="dropdown-toggle nav-link" id="drop-down-645bb7966b4c7645bb79664e1a23" data-toggle="dropdown" aria-haspopup="true" aria-expanded="false" href="https://elearning.pau.edu.ng/course/view.php?id=2266#" aria-controls="drop-down-menu-645bb7966b4c7645bb79664e1a23">
        IoH
    </a>
    <div class="dropdown-menu" role="menu" id="drop-down-menu-645bb7966b4c7645bb79664e1a23" aria-labelledby="drop-down-645bb7966b4c7645bb79664e1a23">
                <a class="dropdown-item" role="menuitem" href="https://elearning.pau.edu.ng/course/index.php?categoryid=304">Year 3 Semester 2</a>
                <a class="dropdown-item" role="menuitem" href="https://elearning.pau.edu.ng/course/index.php?categoryid=340">Year 2 Semester 2</a>
                <a class="dropdown-item" role="menuitem" href="https://elearning.pau.edu.ng/course/index.php?categoryid=301">Year 1 Semester 2</a>
    </div>
</li><li class="dropdown nav-item">
    <a class="dropdown-toggle nav-link" id="drop-down-645bb7966b511645bb79664e1a24" data-toggle="dropdown" aria-haspopup="true" aria-expanded="false" href="https://elearning.pau.edu.ng/course/view.php?id=2266#" aria-controls="drop-down-menu-645bb7966b511645bb79664e1a24">
        Post Graduate
    </a>
    <div class="dropdown-menu" role="menu" id="drop-down-menu-645bb7966b511645bb79664e1a24" aria-labelledby="drop-down-645bb7966b511645bb79664e1a24">
                <a class="dropdown-item" role="menuitem" href="https://elearning.pau.edu.ng/course/index.php?categoryid=270">MSc-Data Science</a>
                <a class="dropdown-item" role="menuitem" href="https://elearning.pau.edu.ng/course/index.php?categoryid=334">MSc-FT15 Semester 2</a>
                <a class="dropdown-item" role="menuitem" href="https://elearning.pau.edu.ng/course/index.php?categoryid=343">MSc-Film Production</a>
                <a class="dropdown-item" role="menuitem" href="https://elearning.pau.edu.ng/course/index.php?categoryid=341">MSc-PT13</a>
                <a class="dropdown-item" role="menuitem" href="https://elearning.pau.edu.ng/course/index.php?categoryid=148">PHD 1 SMSS</a>
                <a class="dropdown-item" role="menuitem" href="https://elearning.pau.edu.ng/course/index.php?categoryid=224">PHD 2 SMSS</a>
                <a class="dropdown-item" role="menuitem" href="https://elearning.pau.edu.ng/course/index.php?categoryid=344">PHD 3 SMSS</a>
                <a class="dropdown-item" role="menuitem" href="https://elearning.pau.edu.ng/course/index.php?categoryid=228">PhD1 SMC</a>
                <a class="dropdown-item" role="menuitem" href="https://elearning.pau.edu.ng/course/index.php?categoryid=235">PhD2 SMC</a>
                <a class="dropdown-item" role="menuitem" href="https://elearning.pau.edu.ng/course/index.php?categoryid=25">PhD5 SMC</a>
                <a class="dropdown-item" role="menuitem" href="https://elearning.pau.edu.ng/course/index.php?categoryid=150">PhD6 SMC</a>
                <a class="dropdown-item" role="menuitem" href="https://elearning.pau.edu.ng/course/index.php?categoryid=261">PHD 7 SMC</a>
    </div>
</li>

            <div class="custom-nav-search">

                <form action="https://elearning.pau.edu.ng/course/search.php" method="get">
                    <div class="fields-wrap">
                        <input type="text" placeholder="&lt;?php echo get_string(&#39;searchcourses&#39;); ?&gt;" name="search">
                        <div class="btn-search fa fa-search"><input type="submit" value="Search"></div>
                    </div>
                </form>

            </div>
          </div>

        </div>
      </div>
    </div>



</nav>

    
    <div class="header-main">
      <div class="container">
    	<nav class="navbar navbar-toggleable-md">
    		<div class="header-logo">
    		  <a class="navbar-brand" href="https://elearning.pau.edu.ng/?redirect=0">
    			<img src="./Course_ CSC 102 - Introduction to Problem Solving 2022_2023 COMP.SC STR 2_files/PAU Logo - Pius2.png" width="183" height="67" alt="Eguru">
    		  </a>
    		</div>
    
    		<button class="navbar-toggler navbar-toggler-right d-lg-none" type="button" data-toggle="collapse" data-target="#navbarSupportedContent" aria-controls="navbarSupportedContent" aria-expanded="false" aria-label="Toggle navigation">
    		  <span class="navbar-toggler-icon"></span>
    		</button>
    
    		<div class="collapse navbar-collapse" id="navbarSupportedContent">
    		  <div class="custom-menu">
    			<ul class="navbar-nav mr-auto">
    			  <li class="dropdown nav-item">
    <a class="dropdown-toggle nav-link" id="drop-down-645bb7966b5a9645bb79664e1a25" data-toggle="dropdown" aria-haspopup="true" aria-expanded="false" href="https://elearning.pau.edu.ng/course/view.php?id=2266#" aria-controls="drop-down-menu-645bb7966b5a9645bb79664e1a25">
        SST
    </a>
    <div class="dropdown-menu" role="menu" id="drop-down-menu-645bb7966b5a9645bb79664e1a25" aria-labelledby="drop-down-645bb7966b5a9645bb79664e1a25">
                <a class="dropdown-item" role="menuitem" href="https://elearning.pau.edu.ng/course/index.php?categoryid=326">Year 1 Semester 2</a>
                <a class="dropdown-item" role="menuitem" href="https://elearning.pau.edu.ng/course/index.php?categoryid=327">Year 2 Semester 2</a>
                <a class="dropdown-item" role="menuitem" href="https://elearning.pau.edu.ng/course/index.php?categoryid=328">Year 3 Semester 2</a>
    </div>
</li><li class="dropdown nav-item">
    <a class="dropdown-toggle nav-link" id="drop-down-645bb7966b5d5645bb79664e1a26" data-toggle="dropdown" aria-haspopup="true" aria-expanded="false" href="https://elearning.pau.edu.ng/course/view.php?id=2266#" aria-controls="drop-down-menu-645bb7966b5d5645bb79664e1a26">
        MassComm
    </a>
    <div class="dropdown-menu" role="menu" id="drop-down-menu-645bb7966b5d5645bb79664e1a26" aria-labelledby="drop-down-645bb7966b5d5645bb79664e1a26">
                <a class="dropdown-item" role="menuitem" href="https://elearning.pau.edu.ng/course/index.php?categoryid=329">Year 1 Semester 2</a>
                <a class="dropdown-item" role="menuitem" href="https://elearning.pau.edu.ng/course/index.php?categoryid=330">Year 2 Semester 2</a>
                <a class="dropdown-item" role="menuitem" href="https://elearning.pau.edu.ng/course/index.php?categoryid=331">Year 3 Semester 2</a>
                <a class="dropdown-item" role="menuitem" href="https://elearning.pau.edu.ng/course/index.php?categoryid=332">Year 4 Semester 2</a>
    </div>
</li><li class="dropdown nav-item">
    <a class="dropdown-toggle nav-link" id="drop-down-645bb7966b600645bb79664e1a27" data-toggle="dropdown" aria-haspopup="true" aria-expanded="false" href="https://elearning.pau.edu.ng/course/view.php?id=2266#" aria-controls="drop-down-menu-645bb7966b600645bb79664e1a27">
        SMSS
    </a>
    <div class="dropdown-menu" role="menu" id="drop-down-menu-645bb7966b600645bb79664e1a27" aria-labelledby="drop-down-645bb7966b600645bb79664e1a27">
                <a class="dropdown-item" role="menuitem" href="https://elearning.pau.edu.ng/course/index.php?categoryid=333">Year 4 Semester 2</a>
                <a class="dropdown-item" role="menuitem" href="https://elearning.pau.edu.ng/course/index.php?categoryid=322">Year 3 Semester 2</a>
                <a class="dropdown-item" role="menuitem" href="https://elearning.pau.edu.ng/course/index.php?categoryid=335">Year 2 Semester 2</a>
                <a class="dropdown-item" role="menuitem" href="https://elearning.pau.edu.ng/course/index.php?categoryid=336">Year 1 Semester 2</a>
    </div>
</li><li class="dropdown nav-item">
    <a class="dropdown-toggle nav-link" id="drop-down-645bb7966b62a645bb79664e1a28" data-toggle="dropdown" aria-haspopup="true" aria-expanded="false" href="https://elearning.pau.edu.ng/course/view.php?id=2266#" aria-controls="drop-down-menu-645bb7966b62a645bb79664e1a28">
        ISMS
    </a>
    <div class="dropdown-menu" role="menu" id="drop-down-menu-645bb7966b62a645bb79664e1a28" aria-labelledby="drop-down-645bb7966b62a645bb79664e1a28">
                <a class="dropdown-item" role="menuitem" href="https://elearning.pau.edu.ng/course/index.php?categoryid=337">Year 4 Semester 2</a>
                <a class="dropdown-item" role="menuitem" href="https://elearning.pau.edu.ng/course/index.php?categoryid=338">Year 3 Semester 2</a>
                <a class="dropdown-item" role="menuitem" href="https://elearning.pau.edu.ng/course/index.php?categoryid=339">Year 2 Semester 2</a>
                <a class="dropdown-item" role="menuitem" href="https://elearning.pau.edu.ng/course/index.php?categoryid=342">Year 1 Semester 2</a>
    </div>
</li><li class="dropdown nav-item">
    <a class="dropdown-toggle nav-link" id="drop-down-645bb7966b651645bb79664e1a29" data-toggle="dropdown" aria-haspopup="true" aria-expanded="false" href="https://elearning.pau.edu.ng/course/view.php?id=2266#" aria-controls="drop-down-menu-645bb7966b651645bb79664e1a29">
        IoH
    </a>
    <div class="dropdown-menu" role="menu" id="drop-down-menu-645bb7966b651645bb79664e1a29" aria-labelledby="drop-down-645bb7966b651645bb79664e1a29">
                <a class="dropdown-item" role="menuitem" href="https://elearning.pau.edu.ng/course/index.php?categoryid=304">Year 3 Semester 2</a>
                <a class="dropdown-item" role="menuitem" href="https://elearning.pau.edu.ng/course/index.php?categoryid=340">Year 2 Semester 2</a>
                <a class="dropdown-item" role="menuitem" href="https://elearning.pau.edu.ng/course/index.php?categoryid=301">Year 1 Semester 2</a>
    </div>
</li><li class="dropdown nav-item">
    <a class="dropdown-toggle nav-link" id="drop-down-645bb7966b69b645bb79664e1a30" data-toggle="dropdown" aria-haspopup="true" aria-expanded="false" href="https://elearning.pau.edu.ng/course/view.php?id=2266#" aria-controls="drop-down-menu-645bb7966b69b645bb79664e1a30">
        Post Graduate
    </a>
    <div class="dropdown-menu" role="menu" id="drop-down-menu-645bb7966b69b645bb79664e1a30" aria-labelledby="drop-down-645bb7966b69b645bb79664e1a30">
                <a class="dropdown-item" role="menuitem" href="https://elearning.pau.edu.ng/course/index.php?categoryid=270">MSc-Data Science</a>
                <a class="dropdown-item" role="menuitem" href="https://elearning.pau.edu.ng/course/index.php?categoryid=334">MSc-FT15 Semester 2</a>
                <a class="dropdown-item" role="menuitem" href="https://elearning.pau.edu.ng/course/index.php?categoryid=343">MSc-Film Production</a>
                <a class="dropdown-item" role="menuitem" href="https://elearning.pau.edu.ng/course/index.php?categoryid=341">MSc-PT13</a>
                <a class="dropdown-item" role="menuitem" href="https://elearning.pau.edu.ng/course/index.php?categoryid=148">PHD 1 SMSS</a>
                <a class="dropdown-item" role="menuitem" href="https://elearning.pau.edu.ng/course/index.php?categoryid=224">PHD 2 SMSS</a>
                <a class="dropdown-item" role="menuitem" href="https://elearning.pau.edu.ng/course/index.php?categoryid=344">PHD 3 SMSS</a>
                <a class="dropdown-item" role="menuitem" href="https://elearning.pau.edu.ng/course/index.php?categoryid=228">PhD1 SMC</a>
                <a class="dropdown-item" role="menuitem" href="https://elearning.pau.edu.ng/course/index.php?categoryid=235">PhD2 SMC</a>
                <a class="dropdown-item" role="menuitem" href="https://elearning.pau.edu.ng/course/index.php?categoryid=25">PhD5 SMC</a>
                <a class="dropdown-item" role="menuitem" href="https://elearning.pau.edu.ng/course/index.php?categoryid=150">PhD6 SMC</a>
                <a class="dropdown-item" role="menuitem" href="https://elearning.pau.edu.ng/course/index.php?categoryid=261">PHD 7 SMC</a>
    </div>
</li>
    			</ul>
    			
    		  </div>
    		  <div class="clearfix"></div>
    		</div>
    	</nav>
      </div>
      <div id="drawer-645bb7966bb78645bb79664e1a31" class=" drawer bg-white hidden" aria-expanded="false" aria-hidden="true" data-region="right-hand-drawer" role="region" tabindex="0">
            <div id="message-drawer-645bb7966bb78645bb79664e1a31" class="message-app" data-region="message-drawer" role="region">
            <div class="closewidget bg-light border-bottom text-right">
                <a class="text-dark" data-action="closedrawer" href="https://elearning.pau.edu.ng/course/view.php?id=2266#">
                     <i class="icon fa fa-window-close fa-fw " title="Close" aria-label="Close"></i>
                </a>
            </div>
            <div class="header-container position-relative" data-region="header-container">
                <div class="hidden border-bottom px-2 py-3" aria-hidden="true" data-region="view-contacts">
                    <div class="d-flex align-items-center">
                        <div class="align-self-stretch">
                            <a class="h-100 d-flex align-items-center mr-2" href="https://elearning.pau.edu.ng/course/view.php?id=2266#" data-route-back="" role="button">
                                <div class="icon-back-in-drawer">
                                    <span class="dir-rtl-hide"><i class="icon fa fa-chevron-left fa-fw " aria-hidden="true"></i></span>
                                    <span class="dir-ltr-hide"><i class="icon fa fa-chevron-right fa-fw " aria-hidden="true"></i></span>
                                </div>
                                <div class="icon-back-in-app">
                                    <span class="dir-rtl-hide"><i class="icon fa fa-times fa-fw " aria-hidden="true"></i></span>
                                </div>                            </a>
                        </div>
                        <div>
                            Contacts
                        </div>
                        <div class="ml-auto">
                            <a href="https://elearning.pau.edu.ng/course/view.php?id=2266#" data-route="view-search" role="button" aria-label="Search">
                                <i class="icon fa fa-search fa-fw " aria-hidden="true"></i>
                            </a>
                        </div>
                    </div>
                </div>                
                <div class="hidden bg-white position-relative border-bottom p-1 p-sm-2" aria-hidden="true" data-region="view-conversation">
                    <div class="hidden" data-region="header-content"></div>
                    <div class="hidden" data-region="header-edit-mode">
                        
                        <div class="d-flex p-2 align-items-center">
                            Messages selected:
                            <span class="ml-1" data-region="message-selected-court">1</span>
                            <button type="button" class="ml-auto close" aria-label="Cancel message selection" data-action="cancel-edit-mode">
                                    <span aria-hidden="true">×</span>
                            </button>
                        </div>
                    </div>
                    <div data-region="header-placeholder">
                        <div class="d-flex">
                            <div class="ml-2 rounded-circle bg-pulse-grey align-self-center" style="height: 38px; width: 38px">
                            </div>
                            <div class="ml-2 " style="flex: 1">
                                <div class="mt-1 bg-pulse-grey w-75" style="height: 16px;">
                                </div>
                            </div>
                            <div class="ml-2 bg-pulse-grey align-self-center" style="height: 16px; width: 20px">
                            </div>
                        </div>
                    </div>
                    <div class="hidden position-absolute" data-region="confirm-dialogue-container" style="top: 0; bottom: -1px; right: 0; left: 0; background: rgba(0,0,0,0.3);"></div>
                </div>                <div class="border-bottom  p-1 px-sm-2 py-sm-3" aria-hidden="false" data-region="view-overview">
                    <div class="d-flex align-items-center">
                        <div class="input-group">
                            <div class="input-group-prepend">
                                <span class="input-group-text pr-2 bg-white">
                                    <i class="icon fa fa-search fa-fw " aria-hidden="true"></i>
                                </span>
                            </div>
                            <input type="text" class="form-control border-left-0" placeholder="Search" aria-label="Search" data-region="view-overview-search-input">
                        </div>
                        <div class="ml-2">
                            <a href="https://elearning.pau.edu.ng/course/view.php?id=2266#" data-route="view-settings" data-route-param="3334" aria-label="Settings" role="button">
                                <i class="icon fa fa-cog fa-fw " aria-hidden="true"></i>
                            </a>
                        </div>
                    </div>
                    <div class="text-right mt-sm-3">
                        <a href="https://elearning.pau.edu.ng/course/view.php?id=2266#" data-route="view-contacts" role="button">
                            <i class="icon fa fa-user fa-fw " aria-hidden="true"></i>
                            Contacts
                            <span class="badge badge-primary bg-primary ml-2 hidden" data-region="contact-request-count" aria-label="There are 0 pending contact requests">
                                0
                            </span>
                        </a>
                    </div>
                </div>
                
                <div class="hidden border-bottom px-2 py-3 view-search" aria-hidden="true" data-region="view-search">
                    <div class="d-flex align-items-center">
                        <a class="mr-2 align-self-stretch d-flex align-items-center" href="https://elearning.pau.edu.ng/course/view.php?id=2266#" data-route-back="" data-action="cancel-search" role="button">
                            <div class="icon-back-in-drawer">
                                <span class="dir-rtl-hide"><i class="icon fa fa-chevron-left fa-fw " aria-hidden="true"></i></span>
                                <span class="dir-ltr-hide"><i class="icon fa fa-chevron-right fa-fw " aria-hidden="true"></i></span>
                            </div>
                            <div class="icon-back-in-app">
                                <span class="dir-rtl-hide"><i class="icon fa fa-times fa-fw " aria-hidden="true"></i></span>
                            </div>                        </a>
                        <div class="input-group">
                            <input type="text" class="form-control" placeholder="Search" aria-label="Search" data-region="search-input">
                            <div class="input-group-append">
                                <button class="btn btn-outline-secondary" type="button" data-action="search" aria-label="Search">
                                    <span data-region="search-icon-container">
                                        <i class="icon fa fa-search fa-fw " aria-hidden="true"></i>
                                    </span>
                                    <span class="hidden" data-region="loading-icon-container">
                                        <span class="loading-icon icon-no-margin"><i class="icon fa fa-circle-o-notch fa-spin fa-fw " title="Loading" aria-label="Loading"></i></span>
                                    </span>
                                </button>
                            </div>
                        </div>
                    </div>
                </div>                
                <div class="hidden border-bottom px-2 py-3" aria-hidden="true" data-region="view-settings">
                    <div class="d-flex align-items-center">
                        <div class="align-self-stretch">
                            <a class="h-100 d-flex mr-2 align-items-center" href="https://elearning.pau.edu.ng/course/view.php?id=2266#" data-route-back="" role="button">
                                <div class="icon-back-in-drawer">
                                    <span class="dir-rtl-hide"><i class="icon fa fa-chevron-left fa-fw " aria-hidden="true"></i></span>
                                    <span class="dir-ltr-hide"><i class="icon fa fa-chevron-right fa-fw " aria-hidden="true"></i></span>
                                </div>
                                <div class="icon-back-in-app">
                                    <span class="dir-rtl-hide"><i class="icon fa fa-times fa-fw " aria-hidden="true"></i></span>
                                </div>                            </a>
                        </div>
                        <div>
                            Settings
                        </div>
                    </div>
                </div>
            </div>
            <div class="body-container position-relative" data-region="body-container">
                
                <div class="hidden" data-region="view-contact" aria-hidden="true">
                    <div class="p-2 pt-3" data-region="content-container"></div>
                </div>                <div class="hidden h-100" data-region="view-contacts" aria-hidden="true" data-user-id="3334">
                    <div class="d-flex flex-column h-100">
                        <div class="p-3 border-bottom">
                            <ul class="nav nav-pills nav-fill" role="tablist">
                                <li class="nav-item">
                                    <a id="contacts-tab-645bb7966bb78645bb79664e1a31" class="nav-link active" href="https://elearning.pau.edu.ng/course/view.php?id=2266#contacts-tab-panel-645bb7966bb78645bb79664e1a31" data-toggle="tab" data-action="show-contacts-section" role="tab" aria-controls="contacts-tab-panel-645bb7966bb78645bb79664e1a31" aria-selected="true">
                                        Contacts
                                    </a>
                                </li>
                                <li class="nav-item">
                                    <a id="requests-tab-645bb7966bb78645bb79664e1a31" class="nav-link" href="https://elearning.pau.edu.ng/course/view.php?id=2266#requests-tab-panel-645bb7966bb78645bb79664e1a31" data-toggle="tab" data-action="show-requests-section" role="tab" aria-controls="requests-tab-panel-645bb7966bb78645bb79664e1a31" aria-selected="false">
                                        Requests
                                        <span class="badge badge-primary bg-primary ml-2 hidden" data-region="contact-request-count" aria-label="There are 0 pending contact requests">
                                            0
                                        </span>
                                    </a>
                                </li>
                            </ul>
                        </div>
                        <div class="tab-content d-flex flex-column h-100">
                                            <div class="tab-pane fade show active h-100 lazy-load-list" aria-live="polite" data-region="lazy-load-list" data-user-id="3334" id="contacts-tab-panel-645bb7966bb78645bb79664e1a31" data-section="contacts" role="tabpanel" aria-labelledby="contacts-tab-645bb7966bb78645bb79664e1a31">
                    
                    <div class="hidden text-center p-2" data-region="empty-message-container">
                        No contacts
                    </div>
                    <div class="hidden list-group" data-region="content-container">
                        
                    </div>
                    <div class="list-group" data-region="placeholder-container">
                        
                    </div>
                    <div class="w-100 text-center p-3 hidden" data-region="loading-icon-container">
                        <span class="loading-icon icon-no-margin"><i class="icon fa fa-circle-o-notch fa-spin fa-fw " title="Loading" aria-label="Loading"></i></span>
                    </div>
                </div>
                
                                            <div class="tab-pane fade h-100 lazy-load-list" aria-live="polite" data-region="lazy-load-list" data-user-id="3334" id="requests-tab-panel-645bb7966bb78645bb79664e1a31" data-section="requests" role="tabpanel" aria-labelledby="requests-tab-645bb7966bb78645bb79664e1a31">
                    
                    <div class="hidden text-center p-2" data-region="empty-message-container">
                        No contact requests
                    </div>
                    <div class="hidden list-group" data-region="content-container">
                        
                    </div>
                    <div class="list-group" data-region="placeholder-container">
                        
                    </div>
                    <div class="w-100 text-center p-3 hidden" data-region="loading-icon-container">
                        <span class="loading-icon icon-no-margin"><i class="icon fa fa-circle-o-notch fa-spin fa-fw " title="Loading" aria-label="Loading"></i></span>
                    </div>
                </div>
                        </div>
                    </div>
                </div>                
                <div class="view-conversation hidden h-100" aria-hidden="true" data-region="view-conversation" data-user-id="3334" data-midnight="1683673200" data-message-poll-min="10" data-message-poll-max="120" data-message-poll-after-max="300" style="overflow-y: auto; overflow-x: hidden">
                    <div class="position-relative h-100" data-region="content-container" style="overflow-y: auto; overflow-x: hidden">
                        <div class="content-message-container hidden h-100 px-2 pt-0" data-region="content-message-container" role="log" style="overflow-y: auto; overflow-x: hidden">
                            <div class="py-3 sticky-top z-index-1 border-bottom text-center hidden" data-region="contact-request-sent-message-container">
                                <p class="m-0">Contact request sent</p>
                                <p class="font-italic font-weight-light" data-region="text"></p>
                            </div>
                            <div class="p-3 text-center hidden" data-region="self-conversation-message-container">
                                <p class="m-0">Personal space</p>
                                <p class="font-italic font-weight-light" data-region="text">Save draft messages, links, notes etc. to access later.</p>
                           </div>
                            <div class="hidden text-center p-3" data-region="more-messages-loading-icon-container"><span class="loading-icon icon-no-margin"><i class="icon fa fa-circle-o-notch fa-spin fa-fw " title="Loading" aria-label="Loading"></i></span>
</div>
                        </div>
                        <div class="p-4 w-100 h-100 hidden position-absolute" data-region="confirm-dialogue-container" style="top: 0; background: rgba(0,0,0,0.3);">
                            
                            <div class="p-3 bg-white" data-region="confirm-dialogue" role="alert">
                                <p class="text-muted" data-region="dialogue-text"></p>
                                <div class="mb-2 custom-control custom-checkbox hidden" data-region="delete-messages-for-all-users-toggle-container">
                                    <input type="checkbox" class="custom-control-input" id="delete-messages-for-all-users" data-region="delete-messages-for-all-users-toggle">
                                    <label class="custom-control-label text-muted" for="delete-messages-for-all-users">
                                        Delete for me and for everyone else
                                    </label>
                                </div>
                                <button type="button" class="btn btn-primary btn-block hidden" data-action="confirm-block">
                                    <span data-region="dialogue-button-text">Block</span>
                                    <span class="hidden" data-region="loading-icon-container"><span class="loading-icon icon-no-margin"><i class="icon fa fa-circle-o-notch fa-spin fa-fw " title="Loading" aria-label="Loading"></i></span>
</span>
                                </button>
                                <button type="button" class="btn btn-primary btn-block hidden" data-action="confirm-unblock">
                                    <span data-region="dialogue-button-text">Unblock</span>
                                    <span class="hidden" data-region="loading-icon-container"><span class="loading-icon icon-no-margin"><i class="icon fa fa-circle-o-notch fa-spin fa-fw " title="Loading" aria-label="Loading"></i></span>
</span>
                                </button>
                                <button type="button" class="btn btn-primary btn-block hidden" data-action="confirm-remove-contact">
                                    <span data-region="dialogue-button-text">Remove</span>
                                    <span class="hidden" data-region="loading-icon-container"><span class="loading-icon icon-no-margin"><i class="icon fa fa-circle-o-notch fa-spin fa-fw " title="Loading" aria-label="Loading"></i></span>
</span>
                                </button>
                                <button type="button" class="btn btn-primary btn-block hidden" data-action="confirm-add-contact">
                                    <span data-region="dialogue-button-text">Add</span>
                                    <span class="hidden" data-region="loading-icon-container"><span class="loading-icon icon-no-margin"><i class="icon fa fa-circle-o-notch fa-spin fa-fw " title="Loading" aria-label="Loading"></i></span>
</span>
                                </button>
                                <button type="button" class="btn btn-primary btn-block hidden" data-action="confirm-delete-selected-messages">
                                    <span data-region="dialogue-button-text">Delete</span>
                                    <span class="hidden" data-region="loading-icon-container"><span class="loading-icon icon-no-margin"><i class="icon fa fa-circle-o-notch fa-spin fa-fw " title="Loading" aria-label="Loading"></i></span>
</span>
                                </button>
                                <button type="button" class="btn btn-primary btn-block hidden" data-action="confirm-delete-conversation">
                                    <span data-region="dialogue-button-text">Delete</span>
                                    <span class="hidden" data-region="loading-icon-container"><span class="loading-icon icon-no-margin"><i class="icon fa fa-circle-o-notch fa-spin fa-fw " title="Loading" aria-label="Loading"></i></span>
</span>
                                </button>
                                <button type="button" class="btn btn-primary btn-block hidden" data-action="request-add-contact">
                                    <span data-region="dialogue-button-text">Send contact request</span>
                                    <span class="hidden" data-region="loading-icon-container"><span class="loading-icon icon-no-margin"><i class="icon fa fa-circle-o-notch fa-spin fa-fw " title="Loading" aria-label="Loading"></i></span>
</span>
                                </button>
                                <button type="button" class="btn btn-primary btn-block hidden" data-action="accept-contact-request">
                                    <span data-region="dialogue-button-text">Accept and add to contacts</span>
                                    <span class="hidden" data-region="loading-icon-container"><span class="loading-icon icon-no-margin"><i class="icon fa fa-circle-o-notch fa-spin fa-fw " title="Loading" aria-label="Loading"></i></span>
</span>
                                </button>
                                <button type="button" class="btn btn-secondary btn-block hidden" data-action="decline-contact-request">
                                    <span data-region="dialogue-button-text">Decline</span>
                                    <span class="hidden" data-region="loading-icon-container"><span class="loading-icon icon-no-margin"><i class="icon fa fa-circle-o-notch fa-spin fa-fw " title="Loading" aria-label="Loading"></i></span>
</span>
                                </button>
                                <button type="button" class="btn btn-primary btn-block" data-action="okay-confirm">OK</button>
                                <button type="button" class="btn btn-secondary btn-block" data-action="cancel-confirm">Cancel</button>
                            </div>
                        </div>
                        <div class="px-2 pb-2 pt-0" data-region="content-placeholder">
                            <div class="h-100 d-flex flex-column">
                                <div class="px-2 pb-2 pt-0 bg-light h-100" style="overflow-y: auto">
                                    <div class="mt-4">
                                        <div class="mb-4">
                                            <div class="mx-auto bg-white" style="height: 25px; width: 100px"></div>
                                        </div>
                                        <div class="d-flex flex-column p-2 bg-white rounded mb-2">
                                            <div class="d-flex align-items-center mb-2">
                                                <div class="mr-2">
                                                    <div class="rounded-circle bg-pulse-grey" style="height: 35px; width: 35px"></div>
                                                </div>
                                                <div class="mr-4 w-75 bg-pulse-grey" style="height: 16px"></div>
                                                <div class="ml-auto bg-pulse-grey" style="width: 35px; height: 16px"></div>
                                            </div>
                                            <div class="bg-pulse-grey w-100" style="height: 16px"></div>
                                            <div class="bg-pulse-grey w-100 mt-2" style="height: 16px"></div>
                                            <div class="bg-pulse-grey w-100 mt-2" style="height: 16px"></div>
                                            <div class="bg-pulse-grey w-100 mt-2" style="height: 16px"></div>
                                            <div class="bg-pulse-grey w-75 mt-2" style="height: 16px"></div>
                                        </div>
                                        <div class="d-flex flex-column p-2 bg-white rounded mb-2">
                                            <div class="d-flex align-items-center mb-2">
                                                <div class="mr-2">
                                                    <div class="rounded-circle bg-pulse-grey" style="height: 35px; width: 35px"></div>
                                                </div>
                                                <div class="mr-4 w-75 bg-pulse-grey" style="height: 16px"></div>
                                                <div class="ml-auto bg-pulse-grey" style="width: 35px; height: 16px"></div>
                                            </div>
                                            <div class="bg-pulse-grey w-100" style="height: 16px"></div>
                                            <div class="bg-pulse-grey w-100 mt-2" style="height: 16px"></div>
                                            <div class="bg-pulse-grey w-100 mt-2" style="height: 16px"></div>
                                            <div class="bg-pulse-grey w-100 mt-2" style="height: 16px"></div>
                                            <div class="bg-pulse-grey w-75 mt-2" style="height: 16px"></div>
                                        </div>
                                        <div class="d-flex flex-column p-2 bg-white rounded mb-2">
                                            <div class="d-flex align-items-center mb-2">
                                                <div class="mr-2">
                                                    <div class="rounded-circle bg-pulse-grey" style="height: 35px; width: 35px"></div>
                                                </div>
                                                <div class="mr-4 w-75 bg-pulse-grey" style="height: 16px"></div>
                                                <div class="ml-auto bg-pulse-grey" style="width: 35px; height: 16px"></div>
                                            </div>
                                            <div class="bg-pulse-grey w-100" style="height: 16px"></div>
                                            <div class="bg-pulse-grey w-100 mt-2" style="height: 16px"></div>
                                            <div class="bg-pulse-grey w-100 mt-2" style="height: 16px"></div>
                                            <div class="bg-pulse-grey w-100 mt-2" style="height: 16px"></div>
                                            <div class="bg-pulse-grey w-75 mt-2" style="height: 16px"></div>
                                        </div>
                                    </div>                                    <div class="mt-4">
                                        <div class="mb-4">
                                            <div class="mx-auto bg-white" style="height: 25px; width: 100px"></div>
                                        </div>
                                        <div class="d-flex flex-column p-2 bg-white rounded mb-2">
                                            <div class="d-flex align-items-center mb-2">
                                                <div class="mr-2">
                                                    <div class="rounded-circle bg-pulse-grey" style="height: 35px; width: 35px"></div>
                                                </div>
                                                <div class="mr-4 w-75 bg-pulse-grey" style="height: 16px"></div>
                                                <div class="ml-auto bg-pulse-grey" style="width: 35px; height: 16px"></div>
                                            </div>
                                            <div class="bg-pulse-grey w-100" style="height: 16px"></div>
                                            <div class="bg-pulse-grey w-100 mt-2" style="height: 16px"></div>
                                            <div class="bg-pulse-grey w-100 mt-2" style="height: 16px"></div>
                                            <div class="bg-pulse-grey w-100 mt-2" style="height: 16px"></div>
                                            <div class="bg-pulse-grey w-75 mt-2" style="height: 16px"></div>
                                        </div>
                                        <div class="d-flex flex-column p-2 bg-white rounded mb-2">
                                            <div class="d-flex align-items-center mb-2">
                                                <div class="mr-2">
                                                    <div class="rounded-circle bg-pulse-grey" style="height: 35px; width: 35px"></div>
                                                </div>
                                                <div class="mr-4 w-75 bg-pulse-grey" style="height: 16px"></div>
                                                <div class="ml-auto bg-pulse-grey" style="width: 35px; height: 16px"></div>
                                            </div>
                                            <div class="bg-pulse-grey w-100" style="height: 16px"></div>
                                            <div class="bg-pulse-grey w-100 mt-2" style="height: 16px"></div>
                                            <div class="bg-pulse-grey w-100 mt-2" style="height: 16px"></div>
                                            <div class="bg-pulse-grey w-100 mt-2" style="height: 16px"></div>
                                            <div class="bg-pulse-grey w-75 mt-2" style="height: 16px"></div>
                                        </div>
                                        <div class="d-flex flex-column p-2 bg-white rounded mb-2">
                                            <div class="d-flex align-items-center mb-2">
                                                <div class="mr-2">
                                                    <div class="rounded-circle bg-pulse-grey" style="height: 35px; width: 35px"></div>
                                                </div>
                                                <div class="mr-4 w-75 bg-pulse-grey" style="height: 16px"></div>
                                                <div class="ml-auto bg-pulse-grey" style="width: 35px; height: 16px"></div>
                                            </div>
                                            <div class="bg-pulse-grey w-100" style="height: 16px"></div>
                                            <div class="bg-pulse-grey w-100 mt-2" style="height: 16px"></div>
                                            <div class="bg-pulse-grey w-100 mt-2" style="height: 16px"></div>
                                            <div class="bg-pulse-grey w-100 mt-2" style="height: 16px"></div>
                                            <div class="bg-pulse-grey w-75 mt-2" style="height: 16px"></div>
                                        </div>
                                    </div>                                    <div class="mt-4">
                                        <div class="mb-4">
                                            <div class="mx-auto bg-white" style="height: 25px; width: 100px"></div>
                                        </div>
                                        <div class="d-flex flex-column p-2 bg-white rounded mb-2">
                                            <div class="d-flex align-items-center mb-2">
                                                <div class="mr-2">
                                                    <div class="rounded-circle bg-pulse-grey" style="height: 35px; width: 35px"></div>
                                                </div>
                                                <div class="mr-4 w-75 bg-pulse-grey" style="height: 16px"></div>
                                                <div class="ml-auto bg-pulse-grey" style="width: 35px; height: 16px"></div>
                                            </div>
                                            <div class="bg-pulse-grey w-100" style="height: 16px"></div>
                                            <div class="bg-pulse-grey w-100 mt-2" style="height: 16px"></div>
                                            <div class="bg-pulse-grey w-100 mt-2" style="height: 16px"></div>
                                            <div class="bg-pulse-grey w-100 mt-2" style="height: 16px"></div>
                                            <div class="bg-pulse-grey w-75 mt-2" style="height: 16px"></div>
                                        </div>
                                        <div class="d-flex flex-column p-2 bg-white rounded mb-2">
                                            <div class="d-flex align-items-center mb-2">
                                                <div class="mr-2">
                                                    <div class="rounded-circle bg-pulse-grey" style="height: 35px; width: 35px"></div>
                                                </div>
                                                <div class="mr-4 w-75 bg-pulse-grey" style="height: 16px"></div>
                                                <div class="ml-auto bg-pulse-grey" style="width: 35px; height: 16px"></div>
                                            </div>
                                            <div class="bg-pulse-grey w-100" style="height: 16px"></div>
                                            <div class="bg-pulse-grey w-100 mt-2" style="height: 16px"></div>
                                            <div class="bg-pulse-grey w-100 mt-2" style="height: 16px"></div>
                                            <div class="bg-pulse-grey w-100 mt-2" style="height: 16px"></div>
                                            <div class="bg-pulse-grey w-75 mt-2" style="height: 16px"></div>
                                        </div>
                                        <div class="d-flex flex-column p-2 bg-white rounded mb-2">
                                            <div class="d-flex align-items-center mb-2">
                                                <div class="mr-2">
                                                    <div class="rounded-circle bg-pulse-grey" style="height: 35px; width: 35px"></div>
                                                </div>
                                                <div class="mr-4 w-75 bg-pulse-grey" style="height: 16px"></div>
                                                <div class="ml-auto bg-pulse-grey" style="width: 35px; height: 16px"></div>
                                            </div>
                                            <div class="bg-pulse-grey w-100" style="height: 16px"></div>
                                            <div class="bg-pulse-grey w-100 mt-2" style="height: 16px"></div>
                                            <div class="bg-pulse-grey w-100 mt-2" style="height: 16px"></div>
                                            <div class="bg-pulse-grey w-100 mt-2" style="height: 16px"></div>
                                            <div class="bg-pulse-grey w-75 mt-2" style="height: 16px"></div>
                                        </div>
                                    </div>                                    <div class="mt-4">
                                        <div class="mb-4">
                                            <div class="mx-auto bg-white" style="height: 25px; width: 100px"></div>
                                        </div>
                                        <div class="d-flex flex-column p-2 bg-white rounded mb-2">
                                            <div class="d-flex align-items-center mb-2">
                                                <div class="mr-2">
                                                    <div class="rounded-circle bg-pulse-grey" style="height: 35px; width: 35px"></div>
                                                </div>
                                                <div class="mr-4 w-75 bg-pulse-grey" style="height: 16px"></div>
                                                <div class="ml-auto bg-pulse-grey" style="width: 35px; height: 16px"></div>
                                            </div>
                                            <div class="bg-pulse-grey w-100" style="height: 16px"></div>
                                            <div class="bg-pulse-grey w-100 mt-2" style="height: 16px"></div>
                                            <div class="bg-pulse-grey w-100 mt-2" style="height: 16px"></div>
                                            <div class="bg-pulse-grey w-100 mt-2" style="height: 16px"></div>
                                            <div class="bg-pulse-grey w-75 mt-2" style="height: 16px"></div>
                                        </div>
                                        <div class="d-flex flex-column p-2 bg-white rounded mb-2">
                                            <div class="d-flex align-items-center mb-2">
                                                <div class="mr-2">
                                                    <div class="rounded-circle bg-pulse-grey" style="height: 35px; width: 35px"></div>
                                                </div>
                                                <div class="mr-4 w-75 bg-pulse-grey" style="height: 16px"></div>
                                                <div class="ml-auto bg-pulse-grey" style="width: 35px; height: 16px"></div>
                                            </div>
                                            <div class="bg-pulse-grey w-100" style="height: 16px"></div>
                                            <div class="bg-pulse-grey w-100 mt-2" style="height: 16px"></div>
                                            <div class="bg-pulse-grey w-100 mt-2" style="height: 16px"></div>
                                            <div class="bg-pulse-grey w-100 mt-2" style="height: 16px"></div>
                                            <div class="bg-pulse-grey w-75 mt-2" style="height: 16px"></div>
                                        </div>
                                        <div class="d-flex flex-column p-2 bg-white rounded mb-2">
                                            <div class="d-flex align-items-center mb-2">
                                                <div class="mr-2">
                                                    <div class="rounded-circle bg-pulse-grey" style="height: 35px; width: 35px"></div>
                                                </div>
                                                <div class="mr-4 w-75 bg-pulse-grey" style="height: 16px"></div>
                                                <div class="ml-auto bg-pulse-grey" style="width: 35px; height: 16px"></div>
                                            </div>
                                            <div class="bg-pulse-grey w-100" style="height: 16px"></div>
                                            <div class="bg-pulse-grey w-100 mt-2" style="height: 16px"></div>
                                            <div class="bg-pulse-grey w-100 mt-2" style="height: 16px"></div>
                                            <div class="bg-pulse-grey w-100 mt-2" style="height: 16px"></div>
                                            <div class="bg-pulse-grey w-75 mt-2" style="height: 16px"></div>
                                        </div>
                                    </div>                                    <div class="mt-4">
                                        <div class="mb-4">
                                            <div class="mx-auto bg-white" style="height: 25px; width: 100px"></div>
                                        </div>
                                        <div class="d-flex flex-column p-2 bg-white rounded mb-2">
                                            <div class="d-flex align-items-center mb-2">
                                                <div class="mr-2">
                                                    <div class="rounded-circle bg-pulse-grey" style="height: 35px; width: 35px"></div>
                                                </div>
                                                <div class="mr-4 w-75 bg-pulse-grey" style="height: 16px"></div>
                                                <div class="ml-auto bg-pulse-grey" style="width: 35px; height: 16px"></div>
                                            </div>
                                            <div class="bg-pulse-grey w-100" style="height: 16px"></div>
                                            <div class="bg-pulse-grey w-100 mt-2" style="height: 16px"></div>
                                            <div class="bg-pulse-grey w-100 mt-2" style="height: 16px"></div>
                                            <div class="bg-pulse-grey w-100 mt-2" style="height: 16px"></div>
                                            <div class="bg-pulse-grey w-75 mt-2" style="height: 16px"></div>
                                        </div>
                                        <div class="d-flex flex-column p-2 bg-white rounded mb-2">
                                            <div class="d-flex align-items-center mb-2">
                                                <div class="mr-2">
                                                    <div class="rounded-circle bg-pulse-grey" style="height: 35px; width: 35px"></div>
                                                </div>
                                                <div class="mr-4 w-75 bg-pulse-grey" style="height: 16px"></div>
                                                <div class="ml-auto bg-pulse-grey" style="width: 35px; height: 16px"></div>
                                            </div>
                                            <div class="bg-pulse-grey w-100" style="height: 16px"></div>
                                            <div class="bg-pulse-grey w-100 mt-2" style="height: 16px"></div>
                                            <div class="bg-pulse-grey w-100 mt-2" style="height: 16px"></div>
                                            <div class="bg-pulse-grey w-100 mt-2" style="height: 16px"></div>
                                            <div class="bg-pulse-grey w-75 mt-2" style="height: 16px"></div>
                                        </div>
                                        <div class="d-flex flex-column p-2 bg-white rounded mb-2">
                                            <div class="d-flex align-items-center mb-2">
                                                <div class="mr-2">
                                                    <div class="rounded-circle bg-pulse-grey" style="height: 35px; width: 35px"></div>
                                                </div>
                                                <div class="mr-4 w-75 bg-pulse-grey" style="height: 16px"></div>
                                                <div class="ml-auto bg-pulse-grey" style="width: 35px; height: 16px"></div>
                                            </div>
                                            <div class="bg-pulse-grey w-100" style="height: 16px"></div>
                                            <div class="bg-pulse-grey w-100 mt-2" style="height: 16px"></div>
                                            <div class="bg-pulse-grey w-100 mt-2" style="height: 16px"></div>
                                            <div class="bg-pulse-grey w-100 mt-2" style="height: 16px"></div>
                                            <div class="bg-pulse-grey w-75 mt-2" style="height: 16px"></div>
                                        </div>
                                    </div>                                </div>
                            </div>                        </div>
                    </div>
                </div>
                
                <div class="hidden" aria-hidden="true" data-region="view-group-info">
                    <div class="pt-3 h-100 d-flex flex-column" data-region="group-info-content-container" style="overflow-y: auto"></div>
                </div>                <div class="h-100 view-overview-body" aria-hidden="false" data-region="view-overview" data-user-id="3334">
                    <div id="message-drawer-view-overview-container-645bb7966bb78645bb79664e1a31" class="d-flex flex-column h-100" style="overflow-y: auto">
                            
                            
                            <div class="section border-0 card" data-region="view-overview-favourites">
                                <div id="view-overview-favourites-toggle" class="card-header p-0" data-region="toggle">
                                    <button class="btn btn-link w-100 text-left p-1 p-sm-2 d-flex align-items-center overview-section-toggle collapsed" data-toggle="collapse" data-target="#view-overview-favourites-target-645bb7966bb78645bb79664e1a31" aria-expanded="false" aria-controls="view-overview-favourites-target-645bb7966bb78645bb79664e1a31">
                                        <span class="collapsed-icon-container">
                                            <i class="icon fa fa-caret-right fa-fw " aria-hidden="true"></i>
                                        </span>
                                        <span class="expanded-icon-container">
                                            <i class="icon fa fa-caret-down fa-fw " aria-hidden="true"></i>
                                        </span>
                                        <span class="font-weight-bold">Starred</span>
                                        <small class="hidden ml-1" data-region="section-total-count-container" aria-label=" total conversations">
                                            (<span data-region="section-total-count"></span>)
                                        </small>
                                        <span class="hidden ml-2" data-region="loading-icon-container">
                                            <span class="loading-icon icon-no-margin"><i class="icon fa fa-circle-o-notch fa-spin fa-fw " title="Loading" aria-label="Loading"></i></span>
                                        </span>
                                        <span class="hidden badge badge-pill badge-primary ml-auto bg-primary" data-region="section-unread-count">
                                            
                                        </span>
                                    </button>
                                </div>
                                                            <div class="collapse border-bottom  lazy-load-list" aria-live="polite" data-region="lazy-load-list" data-user-id="3334" id="view-overview-favourites-target-645bb7966bb78645bb79664e1a31" aria-labelledby="view-overview-favourites-toggle" data-parent="#message-drawer-view-overview-container-645bb7966bb78645bb79664e1a31">
                                
                                <div class="hidden text-center p-2" data-region="empty-message-container">
                                            <p class="text-muted mt-2">No starred conversations</p>

                                </div>
                                <div class="hidden list-group" data-region="content-container">
                                    
                                </div>
                                <div class="list-group" data-region="placeholder-container">
                                            <div class="text-center py-2"><span class="loading-icon icon-no-margin"><i class="icon fa fa-circle-o-notch fa-spin fa-fw " title="Loading" aria-label="Loading"></i></span>
</div>

                                </div>
                                <div class="w-100 text-center p-3 hidden" data-region="loading-icon-container">
                                    <span class="loading-icon icon-no-margin"><i class="icon fa fa-circle-o-notch fa-spin fa-fw " title="Loading" aria-label="Loading"></i></span>
                                </div>
                            </div>
                            </div>
                            
                            
                            <div class="section border-0 card" data-region="view-overview-group-messages">
                                <div id="view-overview-group-messages-toggle" class="card-header p-0" data-region="toggle">
                                    <button class="btn btn-link w-100 text-left p-1 p-sm-2 d-flex align-items-center overview-section-toggle collapsed" data-toggle="collapse" data-target="#view-overview-group-messages-target-645bb7966bb78645bb79664e1a31" aria-expanded="false" aria-controls="view-overview-group-messages-target-645bb7966bb78645bb79664e1a31">
                                        <span class="collapsed-icon-container">
                                            <i class="icon fa fa-caret-right fa-fw " aria-hidden="true"></i>
                                        </span>
                                        <span class="expanded-icon-container">
                                            <i class="icon fa fa-caret-down fa-fw " aria-hidden="true"></i>
                                        </span>
                                        <span class="font-weight-bold">Group</span>
                                        <small class="hidden ml-1" data-region="section-total-count-container" aria-label=" total conversations">
                                            (<span data-region="section-total-count"></span>)
                                        </small>
                                        <span class="hidden ml-2" data-region="loading-icon-container">
                                            <span class="loading-icon icon-no-margin"><i class="icon fa fa-circle-o-notch fa-spin fa-fw " title="Loading" aria-label="Loading"></i></span>
                                        </span>
                                        <span class="hidden badge badge-pill badge-primary ml-auto bg-primary" data-region="section-unread-count">
                                            
                                        </span>
                                    </button>
                                </div>
                                                            <div class="collapse border-bottom  lazy-load-list" aria-live="polite" data-region="lazy-load-list" data-user-id="3334" id="view-overview-group-messages-target-645bb7966bb78645bb79664e1a31" aria-labelledby="view-overview-group-messages-toggle" data-parent="#message-drawer-view-overview-container-645bb7966bb78645bb79664e1a31">
                                
                                <div class="hidden text-center p-2" data-region="empty-message-container">
                                            <p class="text-muted mt-2">No group conversations</p>

                                </div>
                                <div class="hidden list-group" data-region="content-container">
                                    
                                </div>
                                <div class="list-group" data-region="placeholder-container">
                                            <div class="text-center py-2"><span class="loading-icon icon-no-margin"><i class="icon fa fa-circle-o-notch fa-spin fa-fw " title="Loading" aria-label="Loading"></i></span>
</div>

                                </div>
                                <div class="w-100 text-center p-3 hidden" data-region="loading-icon-container">
                                    <span class="loading-icon icon-no-margin"><i class="icon fa fa-circle-o-notch fa-spin fa-fw " title="Loading" aria-label="Loading"></i></span>
                                </div>
                            </div>
                            </div>
                            
                            
                            <div class="section border-0 card" data-region="view-overview-messages">
                                <div id="view-overview-messages-toggle" class="card-header p-0" data-region="toggle">
                                    <button class="btn btn-link w-100 text-left p-1 p-sm-2 d-flex align-items-center overview-section-toggle collapsed" data-toggle="collapse" data-target="#view-overview-messages-target-645bb7966bb78645bb79664e1a31" aria-expanded="false" aria-controls="view-overview-messages-target-645bb7966bb78645bb79664e1a31">
                                        <span class="collapsed-icon-container">
                                            <i class="icon fa fa-caret-right fa-fw " aria-hidden="true"></i>
                                        </span>
                                        <span class="expanded-icon-container">
                                            <i class="icon fa fa-caret-down fa-fw " aria-hidden="true"></i>
                                        </span>
                                        <span class="font-weight-bold">Private</span>
                                        <small class="hidden ml-1" data-region="section-total-count-container" aria-label=" total conversations">
                                            (<span data-region="section-total-count"></span>)
                                        </small>
                                        <span class="hidden ml-2" data-region="loading-icon-container">
                                            <span class="loading-icon icon-no-margin"><i class="icon fa fa-circle-o-notch fa-spin fa-fw " title="Loading" aria-label="Loading"></i></span>
                                        </span>
                                        <span class="hidden badge badge-pill badge-primary ml-auto bg-primary" data-region="section-unread-count">
                                            
                                        </span>
                                    </button>
                                </div>
                                                            <div class="collapse border-bottom  lazy-load-list" aria-live="polite" data-region="lazy-load-list" data-user-id="3334" id="view-overview-messages-target-645bb7966bb78645bb79664e1a31" aria-labelledby="view-overview-messages-toggle" data-parent="#message-drawer-view-overview-container-645bb7966bb78645bb79664e1a31">
                                
                                <div class="hidden text-center p-2" data-region="empty-message-container">
                                            <p class="text-muted mt-2">No private conversations</p>

                                </div>
                                <div class="hidden list-group" data-region="content-container">
                                    
                                </div>
                                <div class="list-group" data-region="placeholder-container">
                                            <div class="text-center py-2"><span class="loading-icon icon-no-margin"><i class="icon fa fa-circle-o-notch fa-spin fa-fw " title="Loading" aria-label="Loading"></i></span>
</div>

                                </div>
                                <div class="w-100 text-center p-3 hidden" data-region="loading-icon-container">
                                    <span class="loading-icon icon-no-margin"><i class="icon fa fa-circle-o-notch fa-spin fa-fw " title="Loading" aria-label="Loading"></i></span>
                                </div>
                            </div>
                            </div>
                    </div>
                </div>
                
                <div data-region="view-search" aria-hidden="true" class="h-100 hidden" data-user-id="3334" data-users-offset="0" data-messages-offset="0" style="overflow-y: auto">
                    <div class="hidden" data-region="search-results-container" style="overflow-y: auto">
                        
                        <div class="d-flex flex-column">
                            <div class="mb-3 bg-white" data-region="all-contacts-container">
                                <div data-region="contacts-container" class="pt-2">
                                    <h4 class="h6 px-2">Contacts</h4>
                                    <div class="list-group" data-region="list"></div>
                                </div>
                                <div data-region="non-contacts-container" class="pt-2 border-top">
                                    <h4 class="h6 px-2">Non-contacts</h4>
                                    <div class="list-group" data-region="list"></div>
                                </div>
                                <div class="text-right">
                                    <button class="btn btn-link text-primary" data-action="load-more-users">
                                        <span data-region="button-text">Load more</span>
                                        <span data-region="loading-icon-container" class="hidden"><span class="loading-icon icon-no-margin"><i class="icon fa fa-circle-o-notch fa-spin fa-fw " title="Loading" aria-label="Loading"></i></span>
</span>
                                    </button>
                                </div>
                            </div>
                            <div class="bg-white" data-region="messages-container">
                                <h4 class="h6 px-2 pt-2">Messages</h4>
                                <div class="list-group" data-region="list"></div>
                                <div class="text-right">
                                    <button class="btn btn-link text-primary" data-action="load-more-messages">
                                        <span data-region="button-text">Load more</span>
                                        <span data-region="loading-icon-container" class="hidden"><span class="loading-icon icon-no-margin"><i class="icon fa fa-circle-o-notch fa-spin fa-fw " title="Loading" aria-label="Loading"></i></span>
</span>
                                    </button>
                                </div>
                            </div>
                            <p class="hidden p-3 text-center" data-region="no-results-container">No results</p>
                        </div>                    </div>
                    <div class="hidden" data-region="loading-placeholder">
                        <div class="text-center pt-3 icon-size-4"><span class="loading-icon icon-no-margin"><i class="icon fa fa-circle-o-notch fa-spin fa-fw " title="Loading" aria-label="Loading"></i></span>
</div>
                    </div>
                    <div class="p-3 text-center" data-region="empty-message-container">
                        <p>Search people and messages</p>
                    </div>
                </div>                
                <div class="h-100 hidden bg-white" aria-hidden="true" data-region="view-settings">
                    <div class="hidden" data-region="content-container">
                        
                        <div data-region="settings" class="p-3">
                            <h3 class="h6 font-weight-bold">Privacy</h3>
                            <p>You can restrict who can message you</p>
                            <div data-preference="blocknoncontacts" class="mb-3">
                                <fieldset>
                                    <legend class="sr-only">Accept messages from:</legend>
                                        <div class="custom-control custom-radio mb-2">
                                            <input type="radio" name="message_blocknoncontacts" class="custom-control-input" id="block-noncontacts-645bb7966bb78645bb79664e1a31-1" value="1">
                                            <label class="custom-control-label ml-2" for="block-noncontacts-645bb7966bb78645bb79664e1a31-1">
                                                My contacts only
                                            </label>
                                        </div>
                                        <div class="custom-control custom-radio mb-2">
                                            <input type="radio" name="message_blocknoncontacts" class="custom-control-input" id="block-noncontacts-645bb7966bb78645bb79664e1a31-0" value="0">
                                            <label class="custom-control-label ml-2" for="block-noncontacts-645bb7966bb78645bb79664e1a31-0">
                                                My contacts and anyone in my courses
                                            </label>
                                        </div>
                                </fieldset>
                            </div>
                        
                            <div class="hidden" data-region="notification-preference-container">
                                <h3 class="mb-2 mt-4 h6 font-weight-bold">Notification preferences</h3>
                            </div>
                        
                            <h3 class="mb-2 mt-4 h6 font-weight-bold">General</h3>
                            <div data-preference="entertosend">
                                <div class="custom-control custom-switch">
                                    <input type="checkbox" class="custom-control-input" id="enter-to-send-645bb7966bb78645bb79664e1a31">
                                    <label class="custom-control-label" for="enter-to-send-645bb7966bb78645bb79664e1a31">
                                        Use enter to send
                                    </label>
                                </div>
                            </div>
                        </div>
                    </div>
                    <div data-region="placeholder-container">
                        
                        <div class="d-flex flex-column p-3">
                            <div class="w-25 bg-pulse-grey h6" style="height: 18px"></div>
                            <div class="w-75 bg-pulse-grey mb-4" style="height: 18px"></div>
                            <div class="mb-3">
                                <div class="w-100 d-flex mb-3">
                                    <div class="bg-pulse-grey rounded-circle" style="width: 18px; height: 18px"></div>
                                    <div class="bg-pulse-grey w-50 ml-2" style="height: 18px"></div>
                                </div>
                                <div class="w-100 d-flex mb-3">
                                    <div class="bg-pulse-grey rounded-circle" style="width: 18px; height: 18px"></div>
                                    <div class="bg-pulse-grey w-50 ml-2" style="height: 18px"></div>
                                </div>
                                <div class="w-100 d-flex mb-3">
                                    <div class="bg-pulse-grey rounded-circle" style="width: 18px; height: 18px"></div>
                                    <div class="bg-pulse-grey w-50 ml-2" style="height: 18px"></div>
                                </div>
                            </div>
                            <div class="w-50 bg-pulse-grey h6 mb-3 mt-2" style="height: 18px"></div>
                            <div class="mb-4">
                                <div class="w-100 d-flex mb-2 align-items-center">
                                    <div class="bg-pulse-grey w-25" style="width: 18px; height: 27px"></div>
                                    <div class="bg-pulse-grey w-25 ml-2" style="height: 18px"></div>
                                </div>
                                <div class="w-100 d-flex mb-2 align-items-center">
                                    <div class="bg-pulse-grey w-25" style="width: 18px; height: 27px"></div>
                                    <div class="bg-pulse-grey w-25 ml-2" style="height: 18px"></div>
                                </div>
                            </div>
                            <div class="w-25 bg-pulse-grey h6 mb-3 mt-2" style="height: 18px"></div>
                            <div class="mb-3">
                                <div class="w-100 d-flex mb-2 align-items-center">
                                    <div class="bg-pulse-grey w-25" style="width: 18px; height: 27px"></div>
                                    <div class="bg-pulse-grey w-50 ml-2" style="height: 18px"></div>
                                </div>
                            </div>
                        </div>                    </div>
                </div>            </div>
            <div class="footer-container position-relative" data-region="footer-container">
                
                <div class="hidden border-top bg-white position-relative" aria-hidden="true" data-region="view-conversation" data-enter-to-send="0">
                    <div class="hidden p-sm-2" data-region="content-messages-footer-container">
                        
                            <div class="emoji-auto-complete-container w-100 hidden" data-region="emoji-auto-complete-container" aria-live="polite" aria-hidden="true">
                            </div>
                        <div class="d-flex mt-sm-1">
                            <textarea dir="auto" data-region="send-message-txt" class="form-control bg-light" rows="3" data-auto-rows="" data-min-rows="3" data-max-rows="5" aria-label="Write a message..." placeholder="Write a message..." style="resize: none"></textarea>
                        
                            <div class="position-relative d-flex flex-column">
                                    <div data-region="emoji-picker-container" class="emoji-picker-container hidden" aria-hidden="true">
                                        
                                        <div data-region="emoji-picker" class="card shadow emoji-picker">
                                            <div class="card-header px-1 pt-1 pb-0 d-flex justify-content-between flex-shrink-0">
                                                <button class="btn btn-outline-secondary icon-no-margin category-button selected" data-action="show-category" data-category="Recent" title="Recent">
                                                    <i class="icon fa fa-clock-o fa-fw " aria-hidden="true"></i>
                                                </button>
                                                <button class="btn btn-outline-secondary icon-no-margin category-button" data-action="show-category" data-category="Smileys &amp; People" title="Smileys &amp; people">
                                                    <i class="icon fa fa-smile-o fa-fw " aria-hidden="true"></i>
                                                </button>
                                                <button class="btn btn-outline-secondary icon-no-margin category-button" data-action="show-category" data-category="Animals &amp; Nature" title="Animals &amp; nature">
                                                    <i class="icon fa fa-leaf fa-fw " aria-hidden="true"></i>
                                                </button>
                                                <button class="btn btn-outline-secondary icon-no-margin category-button" data-action="show-category" data-category="Food &amp; Drink" title="Food &amp; drink">
                                                    <i class="icon fa fa-cutlery fa-fw " aria-hidden="true"></i>
                                                </button>
                                                <button class="btn btn-outline-secondary icon-no-margin category-button" data-action="show-category" data-category="Travel &amp; Places" title="Travel &amp; places">
                                                    <i class="icon fa fa-plane fa-fw " aria-hidden="true"></i>
                                                </button>
                                                <button class="btn btn-outline-secondary icon-no-margin category-button" data-action="show-category" data-category="Activities" title="Activities">
                                                    <i class="icon fa fa-futbol-o fa-fw " aria-hidden="true"></i>
                                                </button>
                                                <button class="btn btn-outline-secondary icon-no-margin category-button" data-action="show-category" data-category="Objects" title="Objects">
                                                    <i class="icon fa fa-lightbulb-o fa-fw " aria-hidden="true"></i>
                                                </button>
                                                <button class="btn btn-outline-secondary icon-no-margin category-button" data-action="show-category" data-category="Symbols" title="Symbols">
                                                    <i class="icon fa fa-heart fa-fw " aria-hidden="true"></i>
                                                </button>
                                                <button class="btn btn-outline-secondary icon-no-margin category-button" data-action="show-category" data-category="Flags" title="Flags">
                                                    <i class="icon fa fa-flag fa-fw " aria-hidden="true"></i>
                                                </button>
                                            </div>
                                            <div class="card-body p-2 d-flex flex-column overflow-hidden">
                                                <div class="input-group mb-1 flex-shrink-0">
                                                    <div class="input-group-prepend">
                                                        <span class="input-group-text pr-0 bg-white text-muted">
                                                            <i class="icon fa fa-search fa-fw " aria-hidden="true"></i>
                                                        </span>
                                                    </div>
                                                    <input type="text" class="form-control border-left-0" placeholder="Search" aria-label="Search" data-region="search-input">
                                                </div>
                                                <div class="flex-grow-1 overflow-auto emojis-container h-100" data-region="emojis-container">
                                                    <div class="position-relative" data-region="row-container"></div>
                                                </div>
                                                <div class="flex-grow-1 overflow-auto search-results-container h-100 hidden" data-region="search-results-container">
                                                    <div class="position-relative" data-region="row-container"></div>
                                                </div>
                                            </div>
                                            <div class="card-footer d-flex flex-shrink-0" data-region="footer">
                                                <div class="emoji-preview" data-region="emoji-preview"></div>
                                                <div data-region="emoji-short-name" class="emoji-short-name text-muted text-wrap ml-2"></div>
                                            </div>
                                        </div>
                                    </div>
                                    <button class="btn btn-link btn-icon icon-size-3 ml-1" aria-label="Toggle emoji picker" data-action="toggle-emoji-picker">
                                        <i class="icon fa fa-smile-o fa-fw " aria-hidden="true"></i>
                                    </button>
                                <button class="btn btn-link btn-icon icon-size-3 ml-1 mt-auto" aria-label="Send message" data-action="send-message">
                                    <span data-region="send-icon-container"><i class="icon fa fa-paper-plane fa-fw " aria-hidden="true"></i></span>
                                    <span class="hidden" data-region="loading-icon-container"><span class="loading-icon icon-no-margin"><i class="icon fa fa-circle-o-notch fa-spin fa-fw " title="Loading" aria-label="Loading"></i></span>
</span>
                                </button>
                            </div>
                        </div>
                    </div>
                    <div class="hidden p-sm-2" data-region="content-messages-footer-edit-mode-container">
                        
                        <div class="d-flex p-3 justify-content-end">
                            <button class="btn btn-link btn-icon my-1 icon-size-4" data-action="delete-selected-messages" data-toggle="tooltip" data-placement="top" title="Delete selected messages">
                                <span data-region="icon-container"><i class="icon fa fa-trash fa-fw " aria-hidden="true"></i></span>
                                <span class="hidden" data-region="loading-icon-container"><span class="loading-icon icon-no-margin"><i class="icon fa fa-circle-o-notch fa-spin fa-fw " title="Loading" aria-label="Loading"></i></span>
</span>
                                <span class="sr-only">Delete selected messages</span>
                            </button>
                        </div>                    </div>
                    <div class="hidden bg-secondary p-sm-3" data-region="content-messages-footer-require-contact-container">
                        
                        <div class="p-3 bg-white">
                            <p data-region="title"></p>
                            <p class="text-muted" data-region="text"></p>
                            <button type="button" class="btn btn-primary btn-block" data-action="request-add-contact">
                                <span data-region="dialogue-button-text">Send contact request</span>
                                <span class="hidden" data-region="loading-icon-container"><span class="loading-icon icon-no-margin"><i class="icon fa fa-circle-o-notch fa-spin fa-fw " title="Loading" aria-label="Loading"></i></span>
</span>
                            </button>
                        </div>
                    </div>
                    <div class="hidden bg-secondary p-sm-3" data-region="content-messages-footer-require-unblock-container">
                        
                        <div class="p-3 bg-white">
                            <p class="text-muted" data-region="text">You have blocked this user.</p>
                            <button type="button" class="btn btn-primary btn-block" data-action="request-unblock">
                                <span data-region="dialogue-button-text">Unblock user</span>
                                <span class="hidden" data-region="loading-icon-container"><span class="loading-icon icon-no-margin"><i class="icon fa fa-circle-o-notch fa-spin fa-fw " title="Loading" aria-label="Loading"></i></span>
</span>
                            </button>
                        </div>
                    </div>
                    <div class="hidden bg-secondary p-sm-3" data-region="content-messages-footer-unable-to-message">
                        
                        <div class="p-3 bg-white">
                            <p class="text-muted" data-region="text">You are unable to message this user</p>
                        </div>
                    </div>
                    <div class="p-sm-2" data-region="placeholder-container">
                        <div class="d-flex">
                            <div class="bg-pulse-grey w-100" style="height: 80px"></div>
                            <div class="mx-2 mb-2 align-self-end bg-pulse-grey" style="height: 20px; width: 20px"></div>
                        </div>                    </div>
                    <div class="hidden position-absolute" data-region="confirm-dialogue-container" style="top: -1px; bottom: 0; right: 0; left: 0; background: rgba(0,0,0,0.3);"></div>
                </div>                    <div data-region="view-overview" class="text-center">
                        <a href="https://elearning.pau.edu.ng/message/index.php">
                            See all
                        </a>
                    </div>
            </div>
        </div>

</div>
    </div>
    
    <!--E.O.Header-->
    <div id="page" class="container-fluid">
        <header id="page-header" class="row">
    <div class="col-12 pt-3 pb-3">
        <div class="card ">
            <div class="card-body ">
                <div class="d-sm-flex align-items-center">
                    <div class="mr-auto">
                        <div class="page-context-header"><div class="page-header-headings"><h1>CSC 102 - Introduction to Problem Solving    2022/2023    COMP.SC STR 2</h1></div></div>
                    </div>

                    <div class="context-header-settings-menu">
                        <div class="action-menu moodle-actionmenu d-inline" id="action-menu-2" data-enhance="moodle-core-actionmenu">

        <div class="menubar d-flex " id="action-menu-2-menubar" role="menubar">

            


                <div class="action-menu-trigger">
                    <div class="dropdown">
                        <a href="https://elearning.pau.edu.ng/course/view.php?id=2266#" tabindex="0" class="d-inline-block  dropdown-toggle icon-no-margin" id="action-menu-toggle-2" aria-label="Actions menu" data-toggle="dropdown" role="button" aria-haspopup="true" aria-expanded="false" aria-controls="action-menu-2-menu">
                            
                            
<i class="icon fa fa-cog fa-fw " title="Actions menu" aria-label="Actions menu"></i>                                
                        </a>
                            <div class="dropdown-menu dropdown-menu-right menu align-tr-br" id="action-menu-2-menu" data-rel="menu-content" aria-labelledby="action-menu-toggle-2" role="menu" data-align="tr-br">
                                            <div class="dropdown-item">

    <a href="https://elearning.pau.edu.ng/enrol/self/unenrolself.php?enrolid=6795" id="action_link645bb79664e1a32" class="" role="menuitem"><i class="icon fa fa-user fa-fw " aria-hidden="true"></i>Unenrol me from CSC,102</a>



</div>
                            </div>
                    </div>
                </div>

        </div>

</div>
                    </div>
                    <div class="header-actions-container flex-shrink-0" data-region="header-actions-container">
                    </div>
                </div>
                <div class="d-flex flex-wrap">
                    <div id="page-navbar">
                        <nav aria-label="Navigation bar">
    <ol class="breadcrumb">
                <li class="breadcrumb-item">
                    <a href="https://elearning.pau.edu.ng/my/">Dashboard</a>
                </li>
        
                <li class="breadcrumb-item">My courses</li>
        
                <li class="breadcrumb-item">
                    <a href="https://elearning.pau.edu.ng/course/view.php?id=2266" aria-current="page" title="CSC 102 - Introduction to Problem Solving    2022/2023    COMP.SC STR 2">CSC,102</a>
                </li>
        </ol>
</nav>
                    </div>
                    <div class="ml-auto d-flex">
                        
                    </div>
                    <div id="course-header">
                        
                    </div>
                </div>
            </div>
        </div>
    </div>
</header>

        <div id="page-content" class="row pb-3">
            <div id="region-main-box" class="col-12">
                <section id="region-main">
                    <span class="notifications" id="user-notifications"></span>
                    <div role="main" id="yui_3_17_2_1_1683732347144_80"><span id="maincontent"></span><form action="https://elearning.pau.edu.ng/course/" method="get"><div><input type="hidden" id="completion_dynamic_change" name="completion_dynamic_change" value="1"></div></form><div class="course-content" id="yui_3_17_2_1_1683732347144_79"><div id="completionprogressid" class="completionprogress">Your progress<a class="btn btn-link p-0" role="button" data-container="body" data-toggle="popover" data-placement="right" data-content="&lt;div class=&quot;no-overflow&quot;&gt;&lt;p&gt;A tick next to an activity name may be used to indicate when the activity is complete.&lt;/p&gt;

&lt;p&gt;If a box with a dotted border is shown, a tick will appear automatically when you have completed the activity according to conditions set by the teacher.&lt;/p&gt;

&lt;p&gt;If a box with a solid border is shown, you can click it to tick the box when you think you have completed the activity. (Clicking it again removes the tick if you change your mind.)&lt;/p&gt;
&lt;/div&gt; " data-html="true" tabindex="0" data-trigger="focus">
  <i class="icon fa fa-question-circle text-info fa-fw " title="Help with Completion tick boxes" aria-label="Help with Completion tick boxes"></i>
</a></div><h2 class="accesshide">Weekly outline</h2><ul class="weeks" id="yui_3_17_2_1_1683732347144_78"><li id="section-0" class="section main clearfix" role="region" aria-labelledby="sectionid-47176-title" data-sectionid="0" data-sectionreturnid="0"><div class="left side"></div><div class="right side"><img class="icon spacer" width="1" height="1" alt="" aria-hidden="true" src="./Course_ CSC 102 - Introduction to Problem Solving 2022_2023 COMP.SC STR 2_files/spacer.gif"></div><div class="content"><h3 id="sectionid-47176-title" class="sectionname accesshide"><span><a href="https://elearning.pau.edu.ng/course/view.php?id=2266#section-0">General</a></span></h3><div class="section_availability"></div><div class="summary"></div><ul class="section img-text"><li class="activity forum modtype_forum " id="module-37914"><div><div class="mod-indent-outer w-100"><div class="mod-indent"></div><div><div class="activityinstance"><a class="aalink" onclick="" href="https://elearning.pau.edu.ng/mod/forum/view.php?id=37914"><img src="./Course_ CSC 102 - Introduction to Problem Solving 2022_2023 COMP.SC STR 2_files/icon.svg" class="iconlarge activityicon" alt="" role="presentation" aria-hidden="true"><span class="instancename">Announcements<span class="accesshide "> Forum</span></span></a></div></div></div></div></li><li class="activity resource modtype_resource " id="module-37923"><div><div class="mod-indent-outer w-100"><div class="mod-indent"></div><div><div class="activityinstance"><a class="aalink" onclick="" href="https://elearning.pau.edu.ng/mod/resource/view.php?id=37923"><img src="./Course_ CSC 102 - Introduction to Problem Solving 2022_2023 COMP.SC STR 2_files/pdf-24.png" class="iconlarge activityicon" alt="" role="presentation" aria-hidden="true"><span class="instancename">CSC 102 - Course Outline<span class="accesshide "> File</span></span></a></div><div class="actions"><form method="post" action="https://elearning.pau.edu.ng/course/togglecompletion.php" class="togglecompletion"><div><input type="hidden" name="id" value="37923"><input type="hidden" name="sesskey" value="XbvngjAGmt"><input type="hidden" name="modulename" value="CSC 102 - Course Outline"><input type="hidden" name="completionstate" value="1"><button class="btn btn-link" aria-live="assertive"><img class="icon " alt="Not completed: CSC 102 - Course Outline. Select to mark as complete." title="Not completed: CSC 102 - Course Outline. Select to mark as complete." src="./Course_ CSC 102 - Introduction to Problem Solving 2022_2023 COMP.SC STR 2_files/completion-manual-n.svg"></button></div></form></div></div></div></div></li><li class="activity url modtype_url " id="module-38278"><div><div class="mod-indent-outer w-100"><div class="mod-indent"></div><div><div class="activityinstance"><a class="aalink" onclick="" href="https://elearning.pau.edu.ng/mod/url/view.php?id=38278"><img src="./Course_ CSC 102 - Introduction to Problem Solving 2022_2023 COMP.SC STR 2_files/icon(1).svg" class="iconlarge activityicon" alt="" role="presentation" aria-hidden="true"><span class="instancename">CSC 102  (Stream II) - GitHub Repository URL</span></a></div><div class="actions"><form method="post" action="https://elearning.pau.edu.ng/course/togglecompletion.php" class="togglecompletion"><div><input type="hidden" name="id" value="38278"><input type="hidden" name="sesskey" value="XbvngjAGmt"><input type="hidden" name="modulename" value="CSC 102  (Stream II) - GitHub Repository URL"><input type="hidden" name="completionstate" value="1"><button class="btn btn-link" aria-live="assertive"><img class="icon " alt="Not completed: CSC 102  (Stream II) - GitHub Repository URL. Select to mark as complete." title="Not completed: CSC 102  (Stream II) - GitHub Repository URL. Select to mark as complete." src="./Course_ CSC 102 - Introduction to Problem Solving 2022_2023 COMP.SC STR 2_files/completion-manual-n.svg"></button></div></form></div></div></div></div></li></ul></div></li><li id="section-1" class="section main clearfix" role="region" aria-labelledby="sectionid-47177-title" data-sectionid="1" data-sectionreturnid="0"><div class="left side"></div><div class="right side"><img class="icon spacer" width="1" height="1" alt="" aria-hidden="true" src="./Course_ CSC 102 - Introduction to Problem Solving 2022_2023 COMP.SC STR 2_files/spacer.gif"></div><div class="content"><h3 id="sectionid-47177-title" class="sectionname"><span><a href="https://elearning.pau.edu.ng/course/view.php?id=2266#section-1">20 March - 26 March</a></span></h3><div class="section_availability"></div><div class="summary"></div><ul class="section img-text"><li class="activity resource modtype_resource " id="module-37928"><div><div class="mod-indent-outer w-100"><div class="mod-indent"></div><div><div class="activityinstance"><a class="aalink" onclick="" href="https://elearning.pau.edu.ng/mod/resource/view.php?id=37928"><img src="./Course_ CSC 102 - Introduction to Problem Solving 2022_2023 COMP.SC STR 2_files/mpeg-24.png" class="iconlarge activityicon" alt="" role="presentation" aria-hidden="true"><span class="instancename">Week 1 - Introduction to Problem Solving<span class="accesshide "> File</span></span></a></div><div class="actions"><form method="post" action="https://elearning.pau.edu.ng/course/togglecompletion.php" class="togglecompletion"><div><input type="hidden" name="id" value="37928"><input type="hidden" name="sesskey" value="XbvngjAGmt"><input type="hidden" name="modulename" value="Week 1 - Introduction to Problem Solving"><input type="hidden" name="completionstate" value="1"><button class="btn btn-link" aria-live="assertive"><img class="icon " alt="Not completed: Week 1 - Introduction to Problem Solving. Select to mark as complete." title="Not completed: Week 1 - Introduction to Problem Solving. Select to mark as complete." src="./Course_ CSC 102 - Introduction to Problem Solving 2022_2023 COMP.SC STR 2_files/completion-manual-n.svg"></button></div></form></div></div></div></div></li></ul></div></li><li id="section-2" class="section main clearfix" role="region" aria-labelledby="sectionid-47178-title" data-sectionid="2" data-sectionreturnid="0"><div class="left side"></div><div class="right side"><img class="icon spacer" width="1" height="1" alt="" aria-hidden="true" src="./Course_ CSC 102 - Introduction to Problem Solving 2022_2023 COMP.SC STR 2_files/spacer.gif"></div><div class="content"><h3 id="sectionid-47178-title" class="sectionname"><span><a href="https://elearning.pau.edu.ng/course/view.php?id=2266#section-2">27 March - 2 April</a></span></h3><div class="section_availability"></div><div class="summary"></div><ul class="section img-text"><li class="activity resource modtype_resource " id="module-38370"><div><div class="mod-indent-outer w-100"><div class="mod-indent"></div><div><div class="activityinstance"><a class="aalink" onclick="" href="https://elearning.pau.edu.ng/mod/resource/view.php?id=38370"><img src="./Course_ CSC 102 - Introduction to Problem Solving 2022_2023 COMP.SC STR 2_files/powerpoint-24.png" class="iconlarge activityicon" alt="" role="presentation" aria-hidden="true"><span class="instancename">Week 2 - Lecture<span class="accesshide "> File</span></span></a></div><div class="actions"><form method="post" action="https://elearning.pau.edu.ng/course/togglecompletion.php" class="togglecompletion"><div><input type="hidden" name="id" value="38370"><input type="hidden" name="sesskey" value="XbvngjAGmt"><input type="hidden" name="modulename" value="Week 2 - Lecture"><input type="hidden" name="completionstate" value="1"><button class="btn btn-link" aria-live="assertive"><img class="icon " alt="Not completed: Week 2 - Lecture. Select to mark as complete." title="Not completed: Week 2 - Lecture. Select to mark as complete." src="./Course_ CSC 102 - Introduction to Problem Solving 2022_2023 COMP.SC STR 2_files/completion-manual-n.svg"></button></div></form></div></div></div></div></li><li class="activity resource modtype_resource " id="module-38369"><div><div class="mod-indent-outer w-100"><div class="mod-indent"></div><div><div class="activityinstance"><a class="aalink" onclick="" href="https://elearning.pau.edu.ng/mod/resource/view.php?id=38369"><img src="./Course_ CSC 102 - Introduction to Problem Solving 2022_2023 COMP.SC STR 2_files/powerpoint-24.png" class="iconlarge activityicon" alt="" role="presentation" aria-hidden="true"><span class="instancename">Week 2 - Practice<span class="accesshide "> File</span></span></a></div><div class="actions"><form method="post" action="https://elearning.pau.edu.ng/course/togglecompletion.php" class="togglecompletion"><div><input type="hidden" name="id" value="38369"><input type="hidden" name="sesskey" value="XbvngjAGmt"><input type="hidden" name="modulename" value="Week 2 - Practice"><input type="hidden" name="completionstate" value="1"><button class="btn btn-link" aria-live="assertive"><img class="icon " alt="Not completed: Week 2 - Practice. Select to mark as complete." title="Not completed: Week 2 - Practice. Select to mark as complete." src="./Course_ CSC 102 - Introduction to Problem Solving 2022_2023 COMP.SC STR 2_files/completion-manual-n.svg"></button></div></form></div></div></div></div></li></ul></div></li><li id="section-3" class="section main clearfix" role="region" aria-labelledby="sectionid-47179-title" data-sectionid="3" data-sectionreturnid="0"><div class="left side"></div><div class="right side"><img class="icon spacer" width="1" height="1" alt="" aria-hidden="true" src="./Course_ CSC 102 - Introduction to Problem Solving 2022_2023 COMP.SC STR 2_files/spacer.gif"></div><div class="content"><h3 id="sectionid-47179-title" class="sectionname"><span><a href="https://elearning.pau.edu.ng/course/view.php?id=2266#section-3">3 April - 9 April</a></span></h3><div class="section_availability"></div><div class="summary"></div><ul class="section img-text"><li class="activity assign modtype_assign " id="module-38881"><div><div class="mod-indent-outer w-100"><div class="mod-indent"></div><div><div class="activityinstance"><a class="aalink" onclick="" href="https://elearning.pau.edu.ng/mod/assign/view.php?id=38881"><img src="./Course_ CSC 102 - Introduction to Problem Solving 2022_2023 COMP.SC STR 2_files/icon(2).svg" class="iconlarge activityicon" alt="" role="presentation" aria-hidden="true"><span class="instancename">Week 3 (CA1) - OBL Creative Analysis &amp; Design &amp; Assignment</span></a></div><div class="actions"><form method="post" action="https://elearning.pau.edu.ng/course/togglecompletion.php" class="togglecompletion"><div><input type="hidden" name="id" value="38881"><input type="hidden" name="sesskey" value="XbvngjAGmt"><input type="hidden" name="modulename" value="Week 3 (CA1) - OBL Creative Analysis &amp; Design &amp; Assignment"><input type="hidden" name="completionstate" value="1"><button class="btn btn-link" aria-live="assertive"><img class="icon " alt="Not completed: Week 3 (CA1) - OBL Creative Analysis &amp; Design &amp; Assignment. Select to mark as complete." title="Not completed: Week 3 (CA1) - OBL Creative Analysis &amp; Design &amp; Assignment. Select to mark as complete." src="./Course_ CSC 102 - Introduction to Problem Solving 2022_2023 COMP.SC STR 2_files/completion-manual-n.svg"></button></div></form></div></div></div></div></li></ul></div></li><li id="section-4" class="section main clearfix" role="region" aria-labelledby="sectionid-47180-title" data-sectionid="4" data-sectionreturnid="0"><div class="left side"></div><div class="right side"><img class="icon spacer" width="1" height="1" alt="" aria-hidden="true" src="./Course_ CSC 102 - Introduction to Problem Solving 2022_2023 COMP.SC STR 2_files/spacer.gif"></div><div class="content"><h3 id="sectionid-47180-title" class="sectionname"><span><a href="https://elearning.pau.edu.ng/course/view.php?id=2266#section-4">10 April - 16 April</a></span></h3><div class="section_availability"></div><div class="summary"></div><ul class="section img-text"><li class="activity resource modtype_resource " id="module-39087"><div><div class="mod-indent-outer w-100"><div class="mod-indent"></div><div><div class="activityinstance"><a class="aalink" onclick="" href="https://elearning.pau.edu.ng/mod/resource/view.php?id=39087"><img src="./Course_ CSC 102 - Introduction to Problem Solving 2022_2023 COMP.SC STR 2_files/powerpoint-24.png" class="iconlarge activityicon" alt="" role="presentation" aria-hidden="true"><span class="instancename">Week 4 - Lecture<span class="accesshide "> File</span></span></a></div><div class="actions"><form method="post" action="https://elearning.pau.edu.ng/course/togglecompletion.php" class="togglecompletion"><div><input type="hidden" name="id" value="39087"><input type="hidden" name="sesskey" value="XbvngjAGmt"><input type="hidden" name="modulename" value="Week 4 - Lecture"><input type="hidden" name="completionstate" value="1"><button class="btn btn-link" aria-live="assertive"><img class="icon " alt="Not completed: Week 4 - Lecture. Select to mark as complete." title="Not completed: Week 4 - Lecture. Select to mark as complete." src="./Course_ CSC 102 - Introduction to Problem Solving 2022_2023 COMP.SC STR 2_files/completion-manual-n.svg"></button></div></form></div></div></div></div></li><li class="activity resource modtype_resource " id="module-39088"><div><div class="mod-indent-outer w-100"><div class="mod-indent"></div><div><div class="activityinstance"><a class="aalink" onclick="" href="https://elearning.pau.edu.ng/mod/resource/view.php?id=39088"><img src="./Course_ CSC 102 - Introduction to Problem Solving 2022_2023 COMP.SC STR 2_files/powerpoint-24.png" class="iconlarge activityicon" alt="" role="presentation" aria-hidden="true"><span class="instancename">Week 4 - Practice<span class="accesshide "> File</span></span></a></div><div class="actions"><form method="post" action="https://elearning.pau.edu.ng/course/togglecompletion.php" class="togglecompletion"><div><input type="hidden" name="id" value="39088"><input type="hidden" name="sesskey" value="XbvngjAGmt"><input type="hidden" name="modulename" value="Week 4 - Practice"><input type="hidden" name="completionstate" value="1"><button class="btn btn-link" aria-live="assertive"><img class="icon " alt="Not completed: Week 4 - Practice. Select to mark as complete." title="Not completed: Week 4 - Practice. Select to mark as complete." src="./Course_ CSC 102 - Introduction to Problem Solving 2022_2023 COMP.SC STR 2_files/completion-manual-n.svg"></button></div></form></div></div></div></div></li></ul></div></li><li id="section-5" class="section main clearfix" role="region" aria-labelledby="sectionid-47181-title" data-sectionid="5" data-sectionreturnid="0"><div class="left side"></div><div class="right side"><img class="icon spacer" width="1" height="1" alt="" aria-hidden="true" src="./Course_ CSC 102 - Introduction to Problem Solving 2022_2023 COMP.SC STR 2_files/spacer.gif"></div><div class="content"><h3 id="sectionid-47181-title" class="sectionname"><span><a href="https://elearning.pau.edu.ng/course/view.php?id=2266#section-5">17 April - 23 April</a></span></h3><div class="section_availability"></div><div class="summary"></div><ul class="section img-text"><li class="activity resource modtype_resource " id="module-39357"><div><div class="mod-indent-outer w-100"><div class="mod-indent"></div><div><div class="activityinstance"><a class="aalink" onclick="" href="https://elearning.pau.edu.ng/mod/resource/view.php?id=39357"><img src="./Course_ CSC 102 - Introduction to Problem Solving 2022_2023 COMP.SC STR 2_files/powerpoint-24.png" class="iconlarge activityicon" alt="" role="presentation" aria-hidden="true"><span class="instancename">Week 5 - Lecture &amp; Practice<span class="accesshide "> File</span></span></a></div><div class="actions"><form method="post" action="https://elearning.pau.edu.ng/course/togglecompletion.php" class="togglecompletion"><div><input type="hidden" name="id" value="39357"><input type="hidden" name="sesskey" value="XbvngjAGmt"><input type="hidden" name="modulename" value="Week 5 - Lecture &amp; Practice"><input type="hidden" name="completionstate" value="1"><button class="btn btn-link" aria-live="assertive"><img class="icon " alt="Not completed: Week 5 - Lecture &amp; Practice. Select to mark as complete." title="Not completed: Week 5 - Lecture &amp; Practice. Select to mark as complete." src="./Course_ CSC 102 - Introduction to Problem Solving 2022_2023 COMP.SC STR 2_files/completion-manual-n.svg"></button></div></form></div></div></div></div></li></ul></div></li><li id="section-6" class="section main clearfix" role="region" aria-labelledby="sectionid-47182-title" data-sectionid="6" data-sectionreturnid="0"><div class="left side"></div><div class="right side"><img class="icon spacer" width="1" height="1" alt="" aria-hidden="true" src="./Course_ CSC 102 - Introduction to Problem Solving 2022_2023 COMP.SC STR 2_files/spacer.gif"></div><div class="content"><h3 id="sectionid-47182-title" class="sectionname"><span><a href="https://elearning.pau.edu.ng/course/view.php?id=2266#section-6">24 April - 30 April</a></span></h3><div class="section_availability"></div><div class="summary"></div><ul class="section img-text"><li class="activity resource modtype_resource " id="module-39635"><div><div class="mod-indent-outer w-100"><div class="mod-indent"></div><div><div class="activityinstance"><a class="aalink" onclick="" href="https://elearning.pau.edu.ng/mod/resource/view.php?id=39635"><img src="./Course_ CSC 102 - Introduction to Problem Solving 2022_2023 COMP.SC STR 2_files/text-24.png" class="iconlarge activityicon" alt="" role="presentation" aria-hidden="true"><span class="instancename">Week 6P (I)<span class="accesshide "> File</span></span></a></div><div class="actions"><form method="post" action="https://elearning.pau.edu.ng/course/togglecompletion.php" class="togglecompletion"><div><input type="hidden" name="id" value="39635"><input type="hidden" name="sesskey" value="XbvngjAGmt"><input type="hidden" name="modulename" value="Week 6P (I)"><input type="hidden" name="completionstate" value="0"><button class="btn btn-link" aria-live="assertive"><img class="icon " alt="Completed: Week 6P (I). Select to mark as not complete." title="Completed: Week 6P (I). Select to mark as not complete." src="./Course_ CSC 102 - Introduction to Problem Solving 2022_2023 COMP.SC STR 2_files/completion-manual-y.svg"></button></div></form></div></div></div></div></li><li class="activity resource modtype_resource " id="module-39636"><div><div class="mod-indent-outer w-100"><div class="mod-indent"></div><div><div class="activityinstance"><a class="aalink" onclick="" href="https://elearning.pau.edu.ng/mod/resource/view.php?id=39636"><img src="./Course_ CSC 102 - Introduction to Problem Solving 2022_2023 COMP.SC STR 2_files/text-24.png" class="iconlarge activityicon" alt="" role="presentation" aria-hidden="true"><span class="instancename">Week 6P (II)<span class="accesshide "> File</span></span></a></div><div class="actions"><form method="post" action="https://elearning.pau.edu.ng/course/togglecompletion.php" class="togglecompletion"><div><input type="hidden" name="id" value="39636"><input type="hidden" name="sesskey" value="XbvngjAGmt"><input type="hidden" name="modulename" value="Week 6P (II)"><input type="hidden" name="completionstate" value="1"><button class="btn btn-link" aria-live="assertive"><img class="icon " alt="Not completed: Week 6P (II). Select to mark as complete." title="Not completed: Week 6P (II). Select to mark as complete." src="./Course_ CSC 102 - Introduction to Problem Solving 2022_2023 COMP.SC STR 2_files/completion-manual-n.svg"></button></div></form></div></div></div></div></li><li class="activity resource modtype_resource " id="module-39638"><div><div class="mod-indent-outer w-100"><div class="mod-indent"></div><div><div class="activityinstance"><a class="aalink" onclick="" href="https://elearning.pau.edu.ng/mod/resource/view.php?id=39638"><img src="./Course_ CSC 102 - Introduction to Problem Solving 2022_2023 COMP.SC STR 2_files/spreadsheet-24.png" class="iconlarge activityicon" alt="" role="presentation" aria-hidden="true"><span class="instancename">Employee_Records<span class="accesshide "> File</span></span></a></div><div class="actions"><form method="post" action="https://elearning.pau.edu.ng/course/togglecompletion.php" class="togglecompletion"><div><input type="hidden" name="id" value="39638"><input type="hidden" name="sesskey" value="XbvngjAGmt"><input type="hidden" name="modulename" value="Employee_Records"><input type="hidden" name="completionstate" value="0"><button class="btn btn-link" aria-live="assertive"><img class="icon " alt="Completed: Employee_Records. Select to mark as not complete." title="Completed: Employee_Records. Select to mark as not complete." src="./Course_ CSC 102 - Introduction to Problem Solving 2022_2023 COMP.SC STR 2_files/completion-manual-y.svg"></button></div></form></div></div></div></div></li></ul></div></li><li id="section-7" class="section main clearfix" role="region" aria-labelledby="sectionid-47183-title" data-sectionid="7" data-sectionreturnid="0"><div class="left side"></div><div class="right side"><img class="icon spacer" width="1" height="1" alt="" aria-hidden="true" src="./Course_ CSC 102 - Introduction to Problem Solving 2022_2023 COMP.SC STR 2_files/spacer.gif"></div><div class="content"><h3 id="sectionid-47183-title" class="sectionname"><span><a href="https://elearning.pau.edu.ng/course/view.php?id=2266#section-7">1 May - 7 May</a></span></h3><div class="section_availability"></div><div class="summary"></div><ul class="section img-text"><li class="activity resource modtype_resource " id="module-39858"><div><div class="mod-indent-outer w-100"><div class="mod-indent"></div><div><div class="activityinstance"><a class="aalink" onclick="" href="https://elearning.pau.edu.ng/mod/resource/view.php?id=39858"><img src="./Course_ CSC 102 - Introduction to Problem Solving 2022_2023 COMP.SC STR 2_files/powerpoint-24.png" class="iconlarge activityicon" alt="" role="presentation" aria-hidden="true"><span class="instancename">Week 7 - Practice<span class="accesshide "> File</span></span></a></div><div class="actions"><form method="post" action="https://elearning.pau.edu.ng/course/togglecompletion.php" class="togglecompletion"><div><input type="hidden" name="id" value="39858"><input type="hidden" name="sesskey" value="XbvngjAGmt"><input type="hidden" name="modulename" value="Week 7 - Practice"><input type="hidden" name="completionstate" value="1"><button class="btn btn-link" aria-live="assertive"><img class="icon " alt="Not completed: Week 7 - Practice. Select to mark as complete." title="Not completed: Week 7 - Practice. Select to mark as complete." src="./Course_ CSC 102 - Introduction to Problem Solving 2022_2023 COMP.SC STR 2_files/completion-manual-n.svg"></button></div></form></div></div></div></div></li><li class="activity resource modtype_resource " id="module-39859"><div><div class="mod-indent-outer w-100"><div class="mod-indent"></div><div><div class="activityinstance"><a class="aalink" onclick="" href="https://elearning.pau.edu.ng/mod/resource/view.php?id=39859"><img src="./Course_ CSC 102 - Introduction to Problem Solving 2022_2023 COMP.SC STR 2_files/spreadsheet-24.png" class="iconlarge activityicon" alt="" role="presentation" aria-hidden="true"><span class="instancename">JT-Ventures Dataset<span class="accesshide "> File</span></span></a></div><div class="actions"><form method="post" action="https://elearning.pau.edu.ng/course/togglecompletion.php" class="togglecompletion"><div><input type="hidden" name="id" value="39859"><input type="hidden" name="sesskey" value="XbvngjAGmt"><input type="hidden" name="modulename" value="JT-Ventures Dataset"><input type="hidden" name="completionstate" value="1"><button class="btn btn-link" aria-live="assertive"><img class="icon " alt="Not completed: JT-Ventures Dataset. Select to mark as complete." title="Not completed: JT-Ventures Dataset. Select to mark as complete." src="./Course_ CSC 102 - Introduction to Problem Solving 2022_2023 COMP.SC STR 2_files/completion-manual-n.svg"></button></div></form></div></div></div></div></li></ul></div></li><li id="section-8" class="section main clearfix current" role="region" aria-labelledby="sectionid-47184-title" data-sectionid="8" data-sectionreturnid="0"><div class="left side"><span class="accesshide ">This week</span></div><div class="right side"><img class="icon spacer" width="1" height="1" alt="" aria-hidden="true" src="./Course_ CSC 102 - Introduction to Problem Solving 2022_2023 COMP.SC STR 2_files/spacer.gif"></div><div class="content" id="yui_3_17_2_1_1683732347144_77"><h3 id="sectionid-47184-title" class="sectionname"><span><a href="https://elearning.pau.edu.ng/course/view.php?id=2266#section-8">8 May - 14 May</a></span></h3><div class="section_availability"></div><div class="summary"></div><ul class="section img-text" id="yui_3_17_2_1_1683732347144_76"><li class="activity resource modtype_resource " id="module-40172"><div id="yui_3_17_2_1_1683732347144_75"><div class="mod-indent-outer w-100" id="yui_3_17_2_1_1683732347144_74"><div class="mod-indent"></div><div id="yui_3_17_2_1_1683732347144_73"><div class="activityinstance"><a class="aalink" onclick="" href="https://elearning.pau.edu.ng/mod/resource/view.php?id=40172"><img src="./Course_ CSC 102 - Introduction to Problem Solving 2022_2023 COMP.SC STR 2_files/text-24.png" class="iconlarge activityicon" alt="" role="presentation" aria-hidden="true"><span class="instancename">Week 8P<span class="accesshide "> File</span></span></a></div><div class="actions" id="yui_3_17_2_1_1683732347144_72"><form method="post" action="https://elearning.pau.edu.ng/course/togglecompletion.php" class="togglecompletion" id="yui_3_17_2_1_1683732347144_71"><div id="yui_3_17_2_1_1683732347144_70"><input type="hidden" name="id" value="40172"><input type="hidden" name="sesskey" value="XbvngjAGmt"><input type="hidden" name="modulename" value="Week 8P"><input type="hidden" name="completionstate" value="0"><button class="btn btn-link" aria-live="assertive" id="yui_3_17_2_1_1683732347144_69"><img class="icon " src="./Course_ CSC 102 - Introduction to Problem Solving 2022_2023 COMP.SC STR 2_files/completion-manual-y.svg" alt="Completed: Week 8P. Select to mark as not complete." title="Completed: Week 8P. Select to mark as not complete." id="yui_3_17_2_1_1683732347144_106"></button></div></form></div></div></div></div></li></ul></div></li><li id="section-9" class="section main clearfix" role="region" aria-labelledby="sectionid-47185-title" data-sectionid="9" data-sectionreturnid="0"><div class="left side"></div><div class="right side"><img class="icon spacer" width="1" height="1" alt="" aria-hidden="true" src="./Course_ CSC 102 - Introduction to Problem Solving 2022_2023 COMP.SC STR 2_files/spacer.gif"></div><div class="content"><h3 id="sectionid-47185-title" class="sectionname"><span><a href="https://elearning.pau.edu.ng/course/view.php?id=2266#section-9">15 May - 21 May</a></span></h3><div class="section_availability"></div><div class="summary"></div><ul class="section img-text"></ul></div></li><li id="section-10" class="section main clearfix" role="region" aria-labelledby="sectionid-47186-title" data-sectionid="10" data-sectionreturnid="0"><div class="left side"></div><div class="right side"><img class="icon spacer" width="1" height="1" alt="" aria-hidden="true" src="./Course_ CSC 102 - Introduction to Problem Solving 2022_2023 COMP.SC STR 2_files/spacer.gif"></div><div class="content"><h3 id="sectionid-47186-title" class="sectionname"><span><a href="https://elearning.pau.edu.ng/course/view.php?id=2266#section-10">22 May - 28 May</a></span></h3><div class="section_availability"></div><div class="summary"></div><ul class="section img-text"></ul></div></li><li id="section-11" class="section main clearfix" role="region" aria-labelledby="sectionid-47187-title" data-sectionid="11" data-sectionreturnid="0"><div class="left side"></div><div class="right side"><img class="icon spacer" width="1" height="1" alt="" aria-hidden="true" src="./Course_ CSC 102 - Introduction to Problem Solving 2022_2023 COMP.SC STR 2_files/spacer.gif"></div><div class="content"><h3 id="sectionid-47187-title" class="sectionname"><span><a href="https://elearning.pau.edu.ng/course/view.php?id=2266#section-11">29 May - 4 June</a></span></h3><div class="section_availability"></div><div class="summary"></div><ul class="section img-text"></ul></div></li><li id="section-12" class="section main clearfix" role="region" aria-labelledby="sectionid-47188-title" data-sectionid="12" data-sectionreturnid="0"><div class="left side"></div><div class="right side"><img class="icon spacer" width="1" height="1" alt="" aria-hidden="true" src="./Course_ CSC 102 - Introduction to Problem Solving 2022_2023 COMP.SC STR 2_files/spacer.gif"></div><div class="content"><h3 id="sectionid-47188-title" class="sectionname"><span><a href="https://elearning.pau.edu.ng/course/view.php?id=2266#section-12">5 June - 11 June</a></span></h3><div class="section_availability"></div><div class="summary"></div><ul class="section img-text"></ul></div></li><li id="section-13" class="section main clearfix" role="region" aria-labelledby="sectionid-47189-title" data-sectionid="13" data-sectionreturnid="0"><div class="left side"></div><div class="right side"><img class="icon spacer" width="1" height="1" alt="" aria-hidden="true" src="./Course_ CSC 102 - Introduction to Problem Solving 2022_2023 COMP.SC STR 2_files/spacer.gif"></div><div class="content"><h3 id="sectionid-47189-title" class="sectionname"><span><a href="https://elearning.pau.edu.ng/course/view.php?id=2266#section-13">12 June - 18 June</a></span></h3><div class="section_availability"></div><div class="summary"></div><ul class="section img-text"></ul></div></li><li id="section-14" class="section main clearfix" role="region" aria-labelledby="sectionid-47190-title" data-sectionid="14" data-sectionreturnid="0"><div class="left side"></div><div class="right side"><img class="icon spacer" width="1" height="1" alt="" aria-hidden="true" src="./Course_ CSC 102 - Introduction to Problem Solving 2022_2023 COMP.SC STR 2_files/spacer.gif"></div><div class="content"><h3 id="sectionid-47190-title" class="sectionname"><span><a href="https://elearning.pau.edu.ng/course/view.php?id=2266#section-14">19 June - 25 June</a></span></h3><div class="section_availability"></div><div class="summary"></div><ul class="section img-text"></ul></div></li><li id="section-15" class="section main clearfix" role="region" aria-labelledby="sectionid-47191-title" data-sectionid="15" data-sectionreturnid="0"><div class="left side"></div><div class="right side"><img class="icon spacer" width="1" height="1" alt="" aria-hidden="true" src="./Course_ CSC 102 - Introduction to Problem Solving 2022_2023 COMP.SC STR 2_files/spacer.gif"></div><div class="content"><h3 id="sectionid-47191-title" class="sectionname"><span><a href="https://elearning.pau.edu.ng/course/view.php?id=2266#section-15">26 June - 2 July</a></span></h3><div class="section_availability"></div><div class="summary"></div><ul class="section img-text"></ul></div></li><li id="section-16" class="section main clearfix" role="region" aria-labelledby="sectionid-47192-title" data-sectionid="16" data-sectionreturnid="0"><div class="left side"></div><div class="right side"><img class="icon spacer" width="1" height="1" alt="" aria-hidden="true" src="./Course_ CSC 102 - Introduction to Problem Solving 2022_2023 COMP.SC STR 2_files/spacer.gif"></div><div class="content"><h3 id="sectionid-47192-title" class="sectionname"><span><a href="https://elearning.pau.edu.ng/course/view.php?id=2266#section-16">3 July - 9 July</a></span></h3><div class="section_availability"></div><div class="summary"></div><ul class="section img-text"></ul></div></li><li id="section-17" class="section main clearfix" role="region" aria-labelledby="sectionid-47193-title" data-sectionid="17" data-sectionreturnid="0"><div class="left side"></div><div class="right side"><img class="icon spacer" width="1" height="1" alt="" aria-hidden="true" src="./Course_ CSC 102 - Introduction to Problem Solving 2022_2023 COMP.SC STR 2_files/spacer.gif"></div><div class="content"><h3 id="sectionid-47193-title" class="sectionname"><span><a href="https://elearning.pau.edu.ng/course/view.php?id=2266#section-17">10 July - 16 July</a></span></h3><div class="section_availability"></div><div class="summary"></div><ul class="section img-text"></ul></div></li><li id="section-18" class="section main clearfix" role="region" aria-labelledby="sectionid-47194-title" data-sectionid="18" data-sectionreturnid="0"><div class="left side"></div><div class="right side"><img class="icon spacer" width="1" height="1" alt="" aria-hidden="true" src="./Course_ CSC 102 - Introduction to Problem Solving 2022_2023 COMP.SC STR 2_files/spacer.gif"></div><div class="content"><h3 id="sectionid-47194-title" class="sectionname"><span><a href="https://elearning.pau.edu.ng/course/view.php?id=2266#section-18">17 July - 23 July</a></span></h3><div class="section_availability"></div><div class="summary"></div><ul class="section img-text"></ul></div></li><li id="section-19" class="section main clearfix" role="region" aria-labelledby="sectionid-47195-title" data-sectionid="19" data-sectionreturnid="0"><div class="left side"></div><div class="right side"><img class="icon spacer" width="1" height="1" alt="" aria-hidden="true" src="./Course_ CSC 102 - Introduction to Problem Solving 2022_2023 COMP.SC STR 2_files/spacer.gif"></div><div class="content"><h3 id="sectionid-47195-title" class="sectionname"><span><a href="https://elearning.pau.edu.ng/course/view.php?id=2266#section-19">24 July - 30 July</a></span></h3><div class="section_availability"></div><div class="summary"></div><ul class="section img-text"></ul></div></li><li id="section-20" class="section main clearfix" role="region" aria-labelledby="sectionid-47196-title" data-sectionid="20" data-sectionreturnid="0"><div class="left side"></div><div class="right side"><img class="icon spacer" width="1" height="1" alt="" aria-hidden="true" src="./Course_ CSC 102 - Introduction to Problem Solving 2022_2023 COMP.SC STR 2_files/spacer.gif"></div><div class="content"><h3 id="sectionid-47196-title" class="sectionname"><span><a href="https://elearning.pau.edu.ng/course/view.php?id=2266#section-20">31 July - 6 August</a></span></h3><div class="section_availability"></div><div class="summary"></div><ul class="section img-text"></ul></div></li></ul></div></div>
                    
                    
                </section>
            </div>
        </div>
    </div>
    <div id="nav-drawer" data-region="drawer" class="d-print-none moodle-has-zindex closed" aria-hidden="true" tabindex="-1">
        <nav class="list-group" aria-label="">
            <ul>
                    <li>
                        <a class="list-group-item list-group-item-action active active_tree_node " href="https://elearning.pau.edu.ng/course/view.php?id=2266" data-key="coursehome" data-isexpandable="0" data-indent="0" data-showdivider="0" data-type="60" data-nodetype="0" data-collapse="0" data-forceopen="1" data-isactive="1" data-hidden="0" data-preceedwithhr="0">
                            <div class="ml-0">
                                <div class="media">
                                        <span class="media-left">
                                            <i class="icon fa fa-graduation-cap fa-fw " aria-hidden="true"></i>
                                        </span>
                                    <span class="media-body font-weight-bold">CSC,102</span>
                                </div>
                            </div>
                        </a>
                    </li>
                    <li>
                        <a class="list-group-item list-group-item-action  " href="https://elearning.pau.edu.ng/user/index.php?id=2266" data-key="participants" data-isexpandable="0" data-indent="0" data-showdivider="0" data-type="90" data-nodetype="1" data-collapse="0" data-forceopen="0" data-isactive="0" data-hidden="0" data-preceedwithhr="0" data-parent-key="2266">
                            <div class="ml-0">
                                <div class="media">
                                        <span class="media-left">
                                            <i class="icon fa fa-users fa-fw " aria-hidden="true"></i>
                                        </span>
                                    <span class="media-body ">Participants</span>
                                </div>
                            </div>
                        </a>
                    </li>
                    <li>
                        <a class="list-group-item list-group-item-action  " href="https://elearning.pau.edu.ng/badges/view.php?type=2&amp;id=2266" data-key="badgesview" data-isexpandable="0" data-indent="0" data-showdivider="0" data-type="70" data-nodetype="0" data-collapse="0" data-forceopen="0" data-isactive="0" data-hidden="0" data-preceedwithhr="0" data-parent-key="2266">
                            <div class="ml-0">
                                <div class="media">
                                        <span class="media-left">
                                            <i class="icon fa fa-shield fa-fw " aria-hidden="true"></i>
                                        </span>
                                    <span class="media-body ">Badges</span>
                                </div>
                            </div>
                        </a>
                    </li>
                    <li>
                        <a class="list-group-item list-group-item-action  " href="https://elearning.pau.edu.ng/admin/tool/lp/coursecompetencies.php?courseid=2266" data-key="competencies" data-isexpandable="0" data-indent="0" data-showdivider="0" data-type="70" data-nodetype="0" data-collapse="0" data-forceopen="0" data-isactive="0" data-hidden="0" data-preceedwithhr="0" data-parent-key="2266">
                            <div class="ml-0">
                                <div class="media">
                                        <span class="media-left">
                                            <i class="icon fa fa-check-square-o fa-fw " aria-hidden="true"></i>
                                        </span>
                                    <span class="media-body ">Competencies</span>
                                </div>
                            </div>
                        </a>
                    </li>
                    <li>
                        <a class="list-group-item list-group-item-action  " href="https://elearning.pau.edu.ng/grade/report/index.php?id=2266" data-key="grades" data-isexpandable="0" data-indent="0" data-showdivider="0" data-type="70" data-nodetype="0" data-collapse="0" data-forceopen="0" data-isactive="0" data-hidden="0" data-preceedwithhr="0" data-parent-key="2266">
                            <div class="ml-0">
                                <div class="media">
                                        <span class="media-left">
                                            <i class="icon fa fa-table fa-fw " aria-hidden="true"></i>
                                        </span>
                                    <span class="media-body ">Grades</span>
                                </div>
                            </div>
                        </a>
                    </li>
                    <li>
                        <a class="list-group-item list-group-item-action  " href="https://elearning.pau.edu.ng/course/view.php?id=2266#section-0" data-key="47176" data-isexpandable="0" data-indent="0" data-showdivider="0" data-type="30" data-nodetype="1" data-collapse="0" data-forceopen="0" data-isactive="0" data-hidden="0" data-preceedwithhr="0" data-parent-key="2266">
                            <div class="ml-0">
                                <div class="media">
                                        <span class="media-left">
                                            <i class="icon fa fa-folder-o fa-fw " aria-hidden="true"></i>
                                        </span>
                                    <span class="media-body ">General</span>
                                </div>
                            </div>
                        </a>
                    </li>
                    <li>
                        <a class="list-group-item list-group-item-action  " href="https://elearning.pau.edu.ng/course/view.php?id=2266#section-1" data-key="47177" data-isexpandable="0" data-indent="0" data-showdivider="0" data-type="30" data-nodetype="1" data-collapse="0" data-forceopen="0" data-isactive="0" data-hidden="0" data-preceedwithhr="0" data-parent-key="2266">
                            <div class="ml-0">
                                <div class="media">
                                        <span class="media-left">
                                            <i class="icon fa fa-folder-o fa-fw " aria-hidden="true"></i>
                                        </span>
                                    <span class="media-body ">20 March - 26 March</span>
                                </div>
                            </div>
                        </a>
                    </li>
                    <li>
                        <a class="list-group-item list-group-item-action  " href="https://elearning.pau.edu.ng/course/view.php?id=2266#section-2" data-key="47178" data-isexpandable="0" data-indent="0" data-showdivider="0" data-type="30" data-nodetype="1" data-collapse="0" data-forceopen="0" data-isactive="0" data-hidden="0" data-preceedwithhr="0" data-parent-key="2266">
                            <div class="ml-0">
                                <div class="media">
                                        <span class="media-left">
                                            <i class="icon fa fa-folder-o fa-fw " aria-hidden="true"></i>
                                        </span>
                                    <span class="media-body ">27 March - 2 April</span>
                                </div>
                            </div>
                        </a>
                    </li>
                    <li>
                        <a class="list-group-item list-group-item-action  " href="https://elearning.pau.edu.ng/course/view.php?id=2266#section-3" data-key="47179" data-isexpandable="0" data-indent="0" data-showdivider="0" data-type="30" data-nodetype="1" data-collapse="0" data-forceopen="0" data-isactive="0" data-hidden="0" data-preceedwithhr="0" data-parent-key="2266">
                            <div class="ml-0">
                                <div class="media">
                                        <span class="media-left">
                                            <i class="icon fa fa-folder-o fa-fw " aria-hidden="true"></i>
                                        </span>
                                    <span class="media-body ">3 April - 9 April</span>
                                </div>
                            </div>
                        </a>
                    </li>
                    <li>
                        <a class="list-group-item list-group-item-action  " href="https://elearning.pau.edu.ng/course/view.php?id=2266#section-4" data-key="47180" data-isexpandable="0" data-indent="0" data-showdivider="0" data-type="30" data-nodetype="1" data-collapse="0" data-forceopen="0" data-isactive="0" data-hidden="0" data-preceedwithhr="0" data-parent-key="2266">
                            <div class="ml-0">
                                <div class="media">
                                        <span class="media-left">
                                            <i class="icon fa fa-folder-o fa-fw " aria-hidden="true"></i>
                                        </span>
                                    <span class="media-body ">10 April - 16 April</span>
                                </div>
                            </div>
                        </a>
                    </li>
                    <li>
                        <a class="list-group-item list-group-item-action  " href="https://elearning.pau.edu.ng/course/view.php?id=2266#section-5" data-key="47181" data-isexpandable="0" data-indent="0" data-showdivider="0" data-type="30" data-nodetype="1" data-collapse="0" data-forceopen="0" data-isactive="0" data-hidden="0" data-preceedwithhr="0" data-parent-key="2266">
                            <div class="ml-0">
                                <div class="media">
                                        <span class="media-left">
                                            <i class="icon fa fa-folder-o fa-fw " aria-hidden="true"></i>
                                        </span>
                                    <span class="media-body ">17 April - 23 April</span>
                                </div>
                            </div>
                        </a>
                    </li>
                    <li>
                        <a class="list-group-item list-group-item-action  " href="https://elearning.pau.edu.ng/course/view.php?id=2266#section-6" data-key="47182" data-isexpandable="0" data-indent="0" data-showdivider="0" data-type="30" data-nodetype="1" data-collapse="0" data-forceopen="0" data-isactive="0" data-hidden="0" data-preceedwithhr="0" data-parent-key="2266">
                            <div class="ml-0">
                                <div class="media">
                                        <span class="media-left">
                                            <i class="icon fa fa-folder-o fa-fw " aria-hidden="true"></i>
                                        </span>
                                    <span class="media-body ">24 April - 30 April</span>
                                </div>
                            </div>
                        </a>
                    </li>
                    <li>
                        <a class="list-group-item list-group-item-action  " href="https://elearning.pau.edu.ng/course/view.php?id=2266#section-7" data-key="47183" data-isexpandable="0" data-indent="0" data-showdivider="0" data-type="30" data-nodetype="1" data-collapse="0" data-forceopen="0" data-isactive="0" data-hidden="0" data-preceedwithhr="0" data-parent-key="2266">
                            <div class="ml-0">
                                <div class="media">
                                        <span class="media-left">
                                            <i class="icon fa fa-folder-o fa-fw " aria-hidden="true"></i>
                                        </span>
                                    <span class="media-body ">1 May - 7 May</span>
                                </div>
                            </div>
                        </a>
                    </li>
                    <li>
                        <a class="list-group-item list-group-item-action  " href="https://elearning.pau.edu.ng/course/view.php?id=2266#section-8" data-key="47184" data-isexpandable="0" data-indent="0" data-showdivider="0" data-type="30" data-nodetype="1" data-collapse="0" data-forceopen="0" data-isactive="0" data-hidden="0" data-preceedwithhr="0" data-parent-key="2266">
                            <div class="ml-0">
                                <div class="media">
                                        <span class="media-left">
                                            <i class="icon fa fa-folder-o fa-fw " aria-hidden="true"></i>
                                        </span>
                                    <span class="media-body ">8 May - 14 May</span>
                                </div>
                            </div>
                        </a>
                    </li>
                    <li>
                        <a class="list-group-item list-group-item-action  " href="https://elearning.pau.edu.ng/course/view.php?id=2266#section-9" data-key="47185" data-isexpandable="0" data-indent="0" data-showdivider="0" data-type="30" data-nodetype="1" data-collapse="0" data-forceopen="0" data-isactive="0" data-hidden="0" data-preceedwithhr="0" data-parent-key="2266">
                            <div class="ml-0">
                                <div class="media">
                                        <span class="media-left">
                                            <i class="icon fa fa-folder-o fa-fw " aria-hidden="true"></i>
                                        </span>
                                    <span class="media-body ">15 May - 21 May</span>
                                </div>
                            </div>
                        </a>
                    </li>
                    <li>
                        <a class="list-group-item list-group-item-action  " href="https://elearning.pau.edu.ng/course/view.php?id=2266#section-10" data-key="47186" data-isexpandable="0" data-indent="0" data-showdivider="0" data-type="30" data-nodetype="1" data-collapse="0" data-forceopen="0" data-isactive="0" data-hidden="0" data-preceedwithhr="0" data-parent-key="2266">
                            <div class="ml-0">
                                <div class="media">
                                        <span class="media-left">
                                            <i class="icon fa fa-folder-o fa-fw " aria-hidden="true"></i>
                                        </span>
                                    <span class="media-body ">22 May - 28 May</span>
                                </div>
                            </div>
                        </a>
                    </li>
                    <li>
                        <a class="list-group-item list-group-item-action  " href="https://elearning.pau.edu.ng/course/view.php?id=2266#section-11" data-key="47187" data-isexpandable="0" data-indent="0" data-showdivider="0" data-type="30" data-nodetype="1" data-collapse="0" data-forceopen="0" data-isactive="0" data-hidden="0" data-preceedwithhr="0" data-parent-key="2266">
                            <div class="ml-0">
                                <div class="media">
                                        <span class="media-left">
                                            <i class="icon fa fa-folder-o fa-fw " aria-hidden="true"></i>
                                        </span>
                                    <span class="media-body ">29 May - 4 June</span>
                                </div>
                            </div>
                        </a>
                    </li>
                    <li>
                        <a class="list-group-item list-group-item-action  " href="https://elearning.pau.edu.ng/course/view.php?id=2266#section-12" data-key="47188" data-isexpandable="0" data-indent="0" data-showdivider="0" data-type="30" data-nodetype="1" data-collapse="0" data-forceopen="0" data-isactive="0" data-hidden="0" data-preceedwithhr="0" data-parent-key="2266">
                            <div class="ml-0">
                                <div class="media">
                                        <span class="media-left">
                                            <i class="icon fa fa-folder-o fa-fw " aria-hidden="true"></i>
                                        </span>
                                    <span class="media-body ">5 June - 11 June</span>
                                </div>
                            </div>
                        </a>
                    </li>
                    <li>
                        <a class="list-group-item list-group-item-action  " href="https://elearning.pau.edu.ng/course/view.php?id=2266#section-13" data-key="47189" data-isexpandable="0" data-indent="0" data-showdivider="0" data-type="30" data-nodetype="1" data-collapse="0" data-forceopen="0" data-isactive="0" data-hidden="0" data-preceedwithhr="0" data-parent-key="2266">
                            <div class="ml-0">
                                <div class="media">
                                        <span class="media-left">
                                            <i class="icon fa fa-folder-o fa-fw " aria-hidden="true"></i>
                                        </span>
                                    <span class="media-body ">12 June - 18 June</span>
                                </div>
                            </div>
                        </a>
                    </li>
                    <li>
                        <a class="list-group-item list-group-item-action  " href="https://elearning.pau.edu.ng/course/view.php?id=2266#section-14" data-key="47190" data-isexpandable="0" data-indent="0" data-showdivider="0" data-type="30" data-nodetype="1" data-collapse="0" data-forceopen="0" data-isactive="0" data-hidden="0" data-preceedwithhr="0" data-parent-key="2266">
                            <div class="ml-0">
                                <div class="media">
                                        <span class="media-left">
                                            <i class="icon fa fa-folder-o fa-fw " aria-hidden="true"></i>
                                        </span>
                                    <span class="media-body ">19 June - 25 June</span>
                                </div>
                            </div>
                        </a>
                    </li>
                    <li>
                        <a class="list-group-item list-group-item-action  " href="https://elearning.pau.edu.ng/course/view.php?id=2266#section-15" data-key="47191" data-isexpandable="0" data-indent="0" data-showdivider="0" data-type="30" data-nodetype="1" data-collapse="0" data-forceopen="0" data-isactive="0" data-hidden="0" data-preceedwithhr="0" data-parent-key="2266">
                            <div class="ml-0">
                                <div class="media">
                                        <span class="media-left">
                                            <i class="icon fa fa-folder-o fa-fw " aria-hidden="true"></i>
                                        </span>
                                    <span class="media-body ">26 June - 2 July</span>
                                </div>
                            </div>
                        </a>
                    </li>
                    <li>
                        <a class="list-group-item list-group-item-action  " href="https://elearning.pau.edu.ng/course/view.php?id=2266#section-16" data-key="47192" data-isexpandable="0" data-indent="0" data-showdivider="0" data-type="30" data-nodetype="1" data-collapse="0" data-forceopen="0" data-isactive="0" data-hidden="0" data-preceedwithhr="0" data-parent-key="2266">
                            <div class="ml-0">
                                <div class="media">
                                        <span class="media-left">
                                            <i class="icon fa fa-folder-o fa-fw " aria-hidden="true"></i>
                                        </span>
                                    <span class="media-body ">3 July - 9 July</span>
                                </div>
                            </div>
                        </a>
                    </li>
                    <li>
                        <a class="list-group-item list-group-item-action  " href="https://elearning.pau.edu.ng/course/view.php?id=2266#section-17" data-key="47193" data-isexpandable="0" data-indent="0" data-showdivider="0" data-type="30" data-nodetype="1" data-collapse="0" data-forceopen="0" data-isactive="0" data-hidden="0" data-preceedwithhr="0" data-parent-key="2266">
                            <div class="ml-0">
                                <div class="media">
                                        <span class="media-left">
                                            <i class="icon fa fa-folder-o fa-fw " aria-hidden="true"></i>
                                        </span>
                                    <span class="media-body ">10 July - 16 July</span>
                                </div>
                            </div>
                        </a>
                    </li>
                    <li>
                        <a class="list-group-item list-group-item-action  " href="https://elearning.pau.edu.ng/course/view.php?id=2266#section-18" data-key="47194" data-isexpandable="0" data-indent="0" data-showdivider="0" data-type="30" data-nodetype="1" data-collapse="0" data-forceopen="0" data-isactive="0" data-hidden="0" data-preceedwithhr="0" data-parent-key="2266">
                            <div class="ml-0">
                                <div class="media">
                                        <span class="media-left">
                                            <i class="icon fa fa-folder-o fa-fw " aria-hidden="true"></i>
                                        </span>
                                    <span class="media-body ">17 July - 23 July</span>
                                </div>
                            </div>
                        </a>
                    </li>
                    <li>
                        <a class="list-group-item list-group-item-action  " href="https://elearning.pau.edu.ng/course/view.php?id=2266#section-19" data-key="47195" data-isexpandable="0" data-indent="0" data-showdivider="0" data-type="30" data-nodetype="1" data-collapse="0" data-forceopen="0" data-isactive="0" data-hidden="0" data-preceedwithhr="0" data-parent-key="2266">
                            <div class="ml-0">
                                <div class="media">
                                        <span class="media-left">
                                            <i class="icon fa fa-folder-o fa-fw " aria-hidden="true"></i>
                                        </span>
                                    <span class="media-body ">24 July - 30 July</span>
                                </div>
                            </div>
                        </a>
                    </li>
                    <li>
                        <a class="list-group-item list-group-item-action  " href="https://elearning.pau.edu.ng/course/view.php?id=2266#section-20" data-key="47196" data-isexpandable="0" data-indent="0" data-showdivider="0" data-type="30" data-nodetype="1" data-collapse="0" data-forceopen="0" data-isactive="0" data-hidden="0" data-preceedwithhr="0" data-parent-key="2266">
                            <div class="ml-0">
                                <div class="media">
                                        <span class="media-left">
                                            <i class="icon fa fa-folder-o fa-fw " aria-hidden="true"></i>
                                        </span>
                                    <span class="media-body ">31 July - 6 August</span>
                                </div>
                            </div>
                        </a>
                    </li>
                    </ul>
                    </nav>
                    <nav class="list-group mt-1" aria-label="Site">
                    <ul>
                    <li>
                        <a class="list-group-item list-group-item-action  " href="https://elearning.pau.edu.ng/my/" data-key="myhome" data-isexpandable="0" data-indent="0" data-showdivider="1" data-type="1" data-nodetype="1" data-collapse="0" data-forceopen="1" data-isactive="0" data-hidden="0" data-preceedwithhr="0">
                            <div class="ml-0">
                                <div class="media">
                                        <span class="media-left">
                                            <i class="icon fa fa-tachometer fa-fw " aria-hidden="true"></i>
                                        </span>
                                    <span class="media-body ">Dashboard</span>
                                </div>
                            </div>
                        </a>
                    </li>
                    <li>
                        <a class="list-group-item list-group-item-action  " href="https://elearning.pau.edu.ng/?redirect=0" data-key="home" data-isexpandable="0" data-indent="0" data-showdivider="0" data-type="70" data-nodetype="0" data-collapse="0" data-forceopen="0" data-isactive="0" data-hidden="0" data-preceedwithhr="0" data-parent-key="myhome">
                            <div class="ml-0">
                                <div class="media">
                                        <span class="media-left">
                                            <i class="icon fa fa-home fa-fw " aria-hidden="true"></i>
                                        </span>
                                    <span class="media-body ">Site home</span>
                                </div>
                            </div>
                        </a>
                    </li>
                    <li>
                        <a class="list-group-item list-group-item-action  " href="https://elearning.pau.edu.ng/calendar/view.php?view=month&amp;course=2266" data-key="calendar" data-isexpandable="0" data-indent="0" data-showdivider="0" data-type="60" data-nodetype="0" data-collapse="0" data-forceopen="0" data-isactive="0" data-hidden="0" data-preceedwithhr="0" data-parent-key="1">
                            <div class="ml-0">
                                <div class="media">
                                        <span class="media-left">
                                            <i class="icon fa fa-calendar fa-fw " aria-hidden="true"></i>
                                        </span>
                                    <span class="media-body ">Calendar</span>
                                </div>
                            </div>
                        </a>
                    </li>
                    <li>
                        <a class="list-group-item list-group-item-action  " href="https://elearning.pau.edu.ng/user/files.php" data-key="privatefiles" data-isexpandable="0" data-indent="0" data-showdivider="0" data-type="70" data-nodetype="0" data-collapse="0" data-forceopen="0" data-isactive="0" data-hidden="0" data-preceedwithhr="0" data-parent-key="1">
                            <div class="ml-0">
                                <div class="media">
                                        <span class="media-left">
                                            <i class="icon fa fa-file-o fa-fw " aria-hidden="true"></i>
                                        </span>
                                    <span class="media-body ">Private files</span>
                                </div>
                            </div>
                        </a>
                    </li>
                    <li>
                        <div class="list-group-item " data-key="mycourses" data-isexpandable="1" data-indent="0" data-showdivider="0" data-type="0" data-nodetype="1" data-collapse="0" data-forceopen="1" data-isactive="0" data-hidden="0" data-preceedwithhr="0" data-parent-key="myhome">
                            <div class="ml-0">
                                <div class="media">
                                        <span class="media-left">
                                            <i class="icon fa fa-graduation-cap fa-fw " aria-hidden="true"></i>
                                        </span>
                                    <span class="media-body">My courses</span>
                                </div>
                            </div>
                        </div>
                    </li>
                    <li>
                        <a class="list-group-item list-group-item-action  " href="https://elearning.pau.edu.ng/course/view.php?id=2075" data-key="2075" data-isexpandable="1" data-indent="1" data-showdivider="0" data-type="20" data-nodetype="1" data-collapse="0" data-forceopen="0" data-isactive="0" data-hidden="0" data-preceedwithhr="0" data-parent-key="mycourses">
                            <div class="ml-1">
                                <div class="media">
                                        <span class="media-left">
                                            <i class="icon fa fa-graduation-cap fa-fw " aria-hidden="true"></i>
                                        </span>
                                    <span class="media-body ">GST125</span>
                                </div>
                            </div>
                        </a>
                    </li>
                    <li>
                        <a class="list-group-item list-group-item-action  " href="https://elearning.pau.edu.ng/course/view.php?id=2074" data-key="2074" data-isexpandable="1" data-indent="1" data-showdivider="0" data-type="20" data-nodetype="1" data-collapse="0" data-forceopen="0" data-isactive="0" data-hidden="0" data-preceedwithhr="0" data-parent-key="mycourses">
                            <div class="ml-1">
                                <div class="media">
                                        <span class="media-left">
                                            <i class="icon fa fa-graduation-cap fa-fw " aria-hidden="true"></i>
                                        </span>
                                    <span class="media-body ">Gst104</span>
                                </div>
                            </div>
                        </a>
                    </li>
                    <li>
                        <a class="list-group-item list-group-item-action  " href="https://elearning.pau.edu.ng/course/view.php?id=2067" data-key="2067" data-isexpandable="1" data-indent="1" data-showdivider="0" data-type="20" data-nodetype="1" data-collapse="0" data-forceopen="0" data-isactive="0" data-hidden="0" data-preceedwithhr="0" data-parent-key="mycourses">
                            <div class="ml-1">
                                <div class="media">
                                        <span class="media-left">
                                            <i class="icon fa fa-graduation-cap fa-fw " aria-hidden="true"></i>
                                        </span>
                                    <span class="media-body ">Gst105</span>
                                </div>
                            </div>
                        </a>
                    </li>
                    <li>
                        <a class="list-group-item list-group-item-action  " href="https://elearning.pau.edu.ng/course/view.php?id=2269" data-key="2269" data-isexpandable="1" data-indent="1" data-showdivider="0" data-type="20" data-nodetype="1" data-collapse="0" data-forceopen="0" data-isactive="0" data-hidden="0" data-preceedwithhr="0" data-parent-key="mycourses">
                            <div class="ml-1">
                                <div class="media">
                                        <span class="media-left">
                                            <i class="icon fa fa-graduation-cap fa-fw " aria-hidden="true"></i>
                                        </span>
                                    <span class="media-body ">PHY- 102</span>
                                </div>
                            </div>
                        </a>
                    </li>
                    <li>
                        <a class="list-group-item list-group-item-action  " href="https://elearning.pau.edu.ng/course/view.php?id=2268" data-key="2268" data-isexpandable="1" data-indent="1" data-showdivider="0" data-type="20" data-nodetype="1" data-collapse="0" data-forceopen="0" data-isactive="0" data-hidden="0" data-preceedwithhr="0" data-parent-key="mycourses">
                            <div class="ml-1">
                                <div class="media">
                                        <span class="media-left">
                                            <i class="icon fa fa-graduation-cap fa-fw " aria-hidden="true"></i>
                                        </span>
                                    <span class="media-body ">PHY- 108</span>
                                </div>
                            </div>
                        </a>
                    </li>
                    <li>
                        <a class="list-group-item list-group-item-action active active_tree_node " href="https://elearning.pau.edu.ng/course/view.php?id=2266" data-key="2266" data-isexpandable="1" data-indent="1" data-showdivider="0" data-type="20" data-nodetype="1" data-collapse="0" data-forceopen="1" data-isactive="1" data-hidden="0" data-preceedwithhr="0" data-parent-key="mycourses">
                            <div class="ml-1">
                                <div class="media">
                                        <span class="media-left">
                                            <i class="icon fa fa-graduation-cap fa-fw " aria-hidden="true"></i>
                                        </span>
                                    <span class="media-body font-weight-bold">CSC,102</span>
                                </div>
                            </div>
                        </a>
                    </li>
                    <li>
                        <a class="list-group-item list-group-item-action  " href="https://elearning.pau.edu.ng/course/view.php?id=2087" data-key="2087" data-isexpandable="1" data-indent="1" data-showdivider="0" data-type="20" data-nodetype="1" data-collapse="0" data-forceopen="0" data-isactive="0" data-hidden="0" data-preceedwithhr="0" data-parent-key="mycourses">
                            <div class="ml-1">
                                <div class="media">
                                        <span class="media-left">
                                            <i class="icon fa fa-graduation-cap fa-fw " aria-hidden="true"></i>
                                        </span>
                                    <span class="media-body ">MTH102</span>
                                </div>
                            </div>
                        </a>
                    </li>
            </ul>
        </nav>
    </div>
</div><div id="yui3-css-stamp" style="position: absolute !important; visibility: hidden !important" class=""></div>

<footer id="footer" class="py-3 bg-dark text-light">
    <div class="footer-main">
        <div class="container">
            <div class="row">
                <div class="col-md-3">
                    <div class="footer-desc">
                        <p>The Mission Statement of the University is: to form competent and committed professionals and encourage them to serve with personal initiative and social responsibility the community in which they work, thereby helping to build a better society in Nigeria and Africa at large. This dream encapsulates the purpose of the University.</p>
                    </div>
                </div>
                <div class="col-md-3">
                    <div class="footer-nav">
                        <h4>Quick Links</h4>
                        <ul>
                           <li><a href="http://http//www.pau.edu.ng/about-pau/">About Us</a></li>
<li><a href="http://www.example.com/terms-of-use.php">Terms of use</a></li>
<li><a href="http://http//helpdesk.pau.edu.ng/">FAQ</a></li>
<li><a href="http://http//www.pau.edu.ng/">Contact</a></li>

                        </ul>
                    </div>
                </div>
                <div class="col-md-3">
                    <div class="social-media">
                        <h4>Follow Us</h4>
                        <ul>
                            <li class="smedia-01">
                                <a href="https://www.facebook.com/PanAtlanticUniversity" target="_blank">
                                    <span class="media-icon">
                                    <i class="fa fa-facebook-f"></i>
                                    </span>
                                    <span class="media-name">Facebook</span>
                                </a>
                            </li>

                            <li class="smedia-02">
                                <a href="https://twitter.com/PanAtlanticUni" target="_blank">
                                    <span class="media-icon">
                                    <i class="fa fa-twitter"></i>
                                    </span>
                                    <span class="media-name">Twitter</span>
                                </a>
                            </li>


                            <li class="smedia-04">
                                <a href="https://www.youtube.com/watch?v=3-cnWHWhLBU" target="_blank">
                                   <span class="media-icon">
                                   <i class="fa fa-pinterest-p"></i>
                                   </span>
                                   <span class="media-name">Pinterest</span>
                                </a>
                            </li>
                        </ul>
                    </div>
                </div>
                <div class="col-md-3">
                    <div class="footer-contact">
                        <h4>Contact</h4>
                        <p>Main Campus Km 52, Lekki-Epe Expressway (Near Eleko Beach Junction), Ibeju-Lekki,, Lagos.            P.O. Box 73688, Victoria Island, Lagos.</p>
                            <p><i class="fa fa-phone-square"></i>Phone: +234 1 712 1278</p>

                            <p><i class="fa fa-envelope"></i>
                            E-mail: <a class="mail-link" href="mailto:info@pau.edu.ng">info@pau.edu.ng</a>
                            </p>

                    </div>
                </div>
            </div>
        </div>
    </div>
<div class="footer-foot">
    <div class="container"><p class="text-center">Copyright © 2018-2028 - Developed by <a href="http://www.pau.edu.ng/">PAU ICT</a>. Powered by <a href="http://www.pau.edu.ng/">PAU</a></p></div>
</div>

</footer>

<footer>
<div class="tool_dataprivacy"><a href="https://elearning.pau.edu.ng/admin/tool/dataprivacy/summary.php">Data retention summary</a></div>


<script>
//<![CDATA[
var require = {
    baseUrl : 'https://elearning.pau.edu.ng/lib/requirejs.php/1678713699/',
    // We only support AMD modules with an explicit define() statement.
    enforceDefine: true,
    skipDataMain: true,
    waitSeconds : 0,

    paths: {
        jquery: 'https://elearning.pau.edu.ng/lib/javascript.php/1678713699/lib/jquery/jquery-3.4.1.min',
        jqueryui: 'https://elearning.pau.edu.ng/lib/javascript.php/1678713699/lib/jquery/ui-1.12.1/jquery-ui.min',
        jqueryprivate: 'https://elearning.pau.edu.ng/lib/javascript.php/1678713699/lib/requirejs/jquery-private'
    },

    // Custom jquery config map.
    map: {
      // '*' means all modules will get 'jqueryprivate'
      // for their 'jquery' dependency.
      '*': { jquery: 'jqueryprivate' },
      // Stub module for 'process'. This is a workaround for a bug in MathJax (see MDL-60458).
      '*': { process: 'core/first' },

      // 'jquery-private' wants the real jQuery module
      // though. If this line was not here, there would
      // be an unresolvable cyclic dependency.
      jqueryprivate: { jquery: 'jquery' }
    }
};

//]]>
</script>
<script src="./Course_ CSC 102 - Introduction to Problem Solving 2022_2023 COMP.SC STR 2_files/javascript(5).php"></script>
<script>
//<![CDATA[
M.util.js_pending("core/first");require(['core/first'], function() {
require(['core/prefetch']);
;
require(["media_videojs/loader"], function(loader) {
    loader.setUp(function(videojs) {
        videojs.options.flash.swf = "https://elearning.pau.edu.ng/media/player/videojs/videojs/video-js.swf";
videojs.addLanguage('en', {
  "Audio Player": "Audio Player",
  "Video Player": "Video Player",
  "Play": "Play",
  "Pause": "Pause",
  "Replay": "Replay",
  "Current Time": "Current Time",
  "Duration": "Duration",
  "Remaining Time": "Remaining Time",
  "Stream Type": "Stream Type",
  "LIVE": "LIVE",
  "Seek to live, currently behind live": "Seek to live, currently behind live",
  "Seek to live, currently playing live": "Seek to live, currently playing live",
  "Loaded": "Loaded",
  "Progress": "Progress",
  "Progress Bar": "Progress Bar",
  "progress bar timing: currentTime={1} duration={2}": "{1} of {2}",
  "Fullscreen": "Fullscreen",
  "Non-Fullscreen": "Non-Fullscreen",
  "Mute": "Mute",
  "Unmute": "Unmute",
  "Playback Rate": "Playback Rate",
  "Subtitles": "Subtitles",
  "subtitles off": "subtitles off",
  "Captions": "Captions",
  "captions off": "captions off",
  "Chapters": "Chapters",
  "Descriptions": "Descriptions",
  "descriptions off": "descriptions off",
  "Audio Track": "Audio Track",
  "Volume Level": "Volume Level",
  "You aborted the media playback": "You aborted the media playback",
  "A network error caused the media download to fail part-way.": "A network error caused the media download to fail part-way.",
  "The media could not be loaded, either because the server or network failed or because the format is not supported.": "The media could not be loaded, either because the server or network failed or because the format is not supported.",
  "The media playback was aborted due to a corruption problem or because the media used features your browser did not support.": "The media playback was aborted due to a corruption problem or because the media used features your browser did not support.",
  "No compatible source was found for this media.": "No compatible source was found for this media.",
  "The media is encrypted and we do not have the keys to decrypt it.": "The media is encrypted and we do not have the keys to decrypt it.",
  "Play Video": "Play Video",
  "Close": "Close",
  "Close Modal Dialog": "Close Modal Dialog",
  "Modal Window": "Modal Window",
  "This is a modal window": "This is a modal window",
  "This modal can be closed by pressing the Escape key or activating the close button.": "This modal can be closed by pressing the Escape key or activating the close button.",
  ", opens captions settings dialog": ", opens captions settings dialog",
  ", opens subtitles settings dialog": ", opens subtitles settings dialog",
  ", opens descriptions settings dialog": ", opens descriptions settings dialog",
  ", selected": ", selected",
  "captions settings": "captions settings",
  "subtitles settings": "subtitles settings",
  "descriptions settings": "descriptions settings",
  "Text": "Text",
  "White": "White",
  "Black": "Black",
  "Red": "Red",
  "Green": "Green",
  "Blue": "Blue",
  "Yellow": "Yellow",
  "Magenta": "Magenta",
  "Cyan": "Cyan",
  "Background": "Background",
  "Window": "Window",
  "Transparent": "Transparent",
  "Semi-Transparent": "Semi-Transparent",
  "Opaque": "Opaque",
  "Font Size": "Font Size",
  "Text Edge Style": "Text Edge Style",
  "None": "None",
  "Raised": "Raised",
  "Depressed": "Depressed",
  "Uniform": "Uniform",
  "Dropshadow": "Dropshadow",
  "Font Family": "Font Family",
  "Proportional Sans-Serif": "Proportional Sans-Serif",
  "Monospace Sans-Serif": "Monospace Sans-Serif",
  "Proportional Serif": "Proportional Serif",
  "Monospace Serif": "Monospace Serif",
  "Casual": "Casual",
  "Script": "Script",
  "Small Caps": "Small Caps",
  "Reset": "Reset",
  "restore all settings to the default values": "restore all settings to the default values",
  "Done": "Done",
  "Caption Settings Dialog": "Caption Settings Dialog",
  "Beginning of dialog window. Escape will cancel and close the window.": "Beginning of dialog window. Escape will cancel and close the window.",
  "End of dialog window.": "End of dialog window.",
  "{1} is loading.": "{1} is loading.",
  "Exit Picture-in-Picture": "Exit Picture-in-Picture",
  "Picture-in-Picture": "Picture-in-Picture"
});

    });
});;

require(['jquery', 'message_popup/notification_popover_controller'], function($, controller) {
    var container = $('#nav-notification-popover-container');
    var controller = new controller(container);
    controller.registerEventListeners();
    controller.registerListNavigationEventListeners();
});
;

require(
[
    'jquery',
    'core_message/message_popover'
],
function(
    $,
    Popover
) {
    var toggle = $('#message-drawer-toggle-645bb7966ace0645bb79664e1a10');
    Popover.init(toggle);
});
;

require(['jquery', 'core_message/message_drawer'], function($, MessageDrawer) {
    var root = $('#message-drawer-645bb7966bb78645bb79664e1a31');
    MessageDrawer.init(root, '645bb7966bb78645bb79664e1a31', false);
});
;

require(['theme_boost/loader']);
require(['theme_boost/drawer'], function(mod) {
    mod.init();
});
;
M.util.js_pending('core/notification'); require(['core/notification'], function(amd) {amd.init(73737, [], true); M.util.js_complete('core/notification');});;
M.util.js_pending('core/log'); require(['core/log'], function(amd) {amd.setConfig({"level":"warn"}); M.util.js_complete('core/log');});;
M.util.js_pending('core/page_global'); require(['core/page_global'], function(amd) {amd.init(); M.util.js_complete('core/page_global');});M.util.js_complete("core/first");
});
//]]>
</script>
<script src="./Course_ CSC 102 - Introduction to Problem Solving 2022_2023 COMP.SC STR 2_files/javascript(6).php"></script>
<script src="./Course_ CSC 102 - Introduction to Problem Solving 2022_2023 COMP.SC STR 2_files/javascript(7).php"></script>
<script>
//<![CDATA[
M.str = {"moodle":{"lastmodified":"Last modified","name":"Name","error":"Error","info":"Information","yes":"Yes","no":"No","cancel":"Cancel","confirm":"Confirm","areyousure":"Are you sure?","closebuttontitle":"Close","unknownerror":"Unknown error","file":"File","url":"URL"},"repository":{"type":"Type","size":"Size","invalidjson":"Invalid JSON string","nofilesattached":"No files attached","filepicker":"File picker","logout":"Logout","nofilesavailable":"No files available","norepositoriesavailable":"Sorry, none of your current repositories can return files in the required format.","fileexistsdialogheader":"File exists","fileexistsdialog_editor":"A file with that name has already been attached to the text you are editing.","fileexistsdialog_filemanager":"A file with that name has already been attached","renameto":"Rename to \"{$a}\"","referencesexist":"There are {$a} alias\/shortcut files that use this file as their source","select":"Select"},"admin":{"confirmdeletecomments":"You are about to delete comments, are you sure?","confirmation":"Confirmation"},"completion":{"completion-alt-manual-y":"Completed: {$a}. Select to mark as not complete.","completion-alt-manual-n":"Not completed: {$a}. Select to mark as complete."},"debug":{"debuginfo":"Debug info","line":"Line","stacktrace":"Stack trace"},"langconfig":{"labelsep":": "}};
//]]>
</script>
<script>
//<![CDATA[
(function() {Y.use("moodle-filter_mathjaxloader-loader",function() {M.filter_mathjaxloader.configure({"mathjaxconfig":"\nMathJax.Hub.Config({\n    config: [\"Accessible.js\", \"Safe.js\"],\n    errorSettings: { message: [\"!\"] },\n    skipStartupTypeset: true,\n    messageStyle: \"none\"\n});\n","lang":"en"});
});
 M.util.js_pending('random645bb79664e1a1'); Y.use('core_completion', function(Y) { M.core_completion.init(Y);  M.util.js_complete('random645bb79664e1a1'); });
M.util.help_popups.setup(Y);
 M.util.js_pending('random645bb79664e1a33'); Y.on('domready', function() { M.util.js_complete("init");  M.util.js_complete('random645bb79664e1a33'); });
})();
//]]>
</script>


</footer></body></html>