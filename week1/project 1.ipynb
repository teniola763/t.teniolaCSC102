{
 "cells": [
  {
   "cell_type": "code",
   "execution_count": 11,
   "metadata": {},
   "outputs": [
    {
     "ename": "SyntaxError",
     "evalue": "invalid syntax (<ipython-input-11-34f4ba12ba4c>, line 19)",
     "output_type": "error",
     "traceback": [
      "\u001b[1;36m  File \u001b[1;32m\"<ipython-input-11-34f4ba12ba4c>\"\u001b[1;36m, line \u001b[1;32m19\u001b[0m\n\u001b[1;33m    elif a == \"2\":\u001b[0m\n\u001b[1;37m    ^\u001b[0m\n\u001b[1;31mSyntaxError\u001b[0m\u001b[1;31m:\u001b[0m invalid syntax\n"
     ]
    }
   ],
   "source": [
    "'''python program for simple interest'''\n",
    "print(\"welcome to the internet calculator \")\n",
    "print(\"Enter 1 for simple interest , 2 for compound interest and 3 for annuity plan \")\n",
    "a ==str(input(\"what would you like to calculate: \"))\n",
    "\n",
    "if a == \"1\":\n",
    "\n",
    "    P=input(\"Enter principal amount : \")\n",
    "\n",
    "    R=input(\"Enter Rate of interest: \")\n",
    "\n",
    "    T=input(\"Enter time in years: \")\n",
    "\n",
    "    simple_interest = P * (1.0 + R/100.0)*T\n",
    "\n",
    "    print(\"Simple Interest is: \",simple_interest )\n",
    "\n",
    "'''python program for compound interest '''\n",
    "elif a == \"2\":\n",
    "\n",
    "    P=input(\"Enter principal amount: \")\n",
    "\n",
    "    R=input(\"Enter Rate of interest: \")\n",
    "\n",
    "    T=input(\"Enter time in years: \")\n",
    "\n",
    "    n=input(\"Enter the number of times interest applied per time: \")\n",
    "\n",
    "    compound_interest = P * (1 + R/n)**(n*T)\n",
    "\n",
    "\n",
    "    print(\"compound interest is: \",compound_interest )\n",
    "\n",
    "'''python program for annuity plan'''\n",
    "elif a == \"3\":\n",
    "\n",
    "    PMT=input(\"Enter periodic cash flows: \")\n",
    "\n",
    "    R=input(\"Enter periodic rate: \")\n",
    "\n",
    "    n=input(\"Enter the total number of payments for the annuity due: \")\n",
    "\n",
    "    t=input(\"Enter the number of periods: \")\n",
    "\n",
    "    annuity_plan = PMT * ((1 + R/n)**(n*t) - 1) / R/n\n",
    "\n",
    "    print(\"Annuity plan is: \",annuity_plan )\n",
    " \n",
    " "
   ]
  },
  {
   "cell_type": "code",
   "execution_count": null,
   "metadata": {},
   "outputs": [],
   "source": []
  },
  {
   "cell_type": "code",
   "execution_count": null,
   "metadata": {},
   "outputs": [],
   "source": []
  },
  {
   "cell_type": "code",
   "execution_count": null,
   "metadata": {},
   "outputs": [],
   "source": []
  },
  {
   "cell_type": "code",
   "execution_count": null,
   "metadata": {},
   "outputs": [],
   "source": []
  }
 ],
 "metadata": {
  "kernelspec": {
   "display_name": "Python 3",
   "language": "python",
   "name": "python3"
  },
  "language_info": {
   "codemirror_mode": {
    "name": "ipython",
    "version": 3
   },
   "file_extension": ".py",
   "mimetype": "text/x-python",
   "name": "python",
   "nbconvert_exporter": "python",
   "pygments_lexer": "ipython3",
   "version": "3.8.5"
  }
 },
 "nbformat": 4,
 "nbformat_minor": 5
}
