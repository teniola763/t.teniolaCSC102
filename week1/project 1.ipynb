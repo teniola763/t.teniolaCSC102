{
 "cells": [
  {
   "cell_type": "code",
   "execution_count": null,
   "id": "d7fdad77",
   "metadata": {},
   "outputs": [],
   "source": [
    "'''python program for simple interest'''\n",
    "P=float(input(\"Enter principal amount : \"))\n",
    "R=float(input(\"Enter Rate of interest: \"))\n",
    "T=float(input(\"Enter time in years: \"))\n",
    "simple_interest = P * (1.0 + R/100.0)*T\n",
    "print(\"Simple Interest is: \",simple_interest )\n",
    "\n",
    "'''python program for compound interest '''\n",
    "P=float(input(\"Enter principal amount: \"))\n",
    "R=float(input(\"Enter Rate of interest: \"))\n",
    "T=float(input(\"Enter time in years: \"))\n",
    "n=float(input(\"Enter the number of times interest applied per time: \"))\n",
    "compound_interest = P * (1 + R/n)**(n*T)\n",
    "print(\"compound interest is: \",compound_interest )\n",
    "\n",
    "'''python program for annuity plan'''\n",
    "PMT=float(input(\"Enter periodic cash flows: \"))\n",
    "R=float(input(\"Enter periodic rate: \"))\n",
    "n=float(input(\"Enter the total number of payments for the annuity due: \"))\n",
    "t=float(input(\"Enter the number of periods: \"))\n",
    "annuity_plan = PMT * ((1 + R/n)**(n*t) - 1) / R/n\n",
    "print(\"Annuity plan is: \",annuity_plan )\n",
    "\n",
    "\n"
   ]
  },
  {
   "cell_type": "code",
   "execution_count": null,
   "id": "e65dc972",
   "metadata": {},
   "outputs": [],
   "source": []
  },
  {
   "cell_type": "code",
   "execution_count": null,
   "id": "6fe43fe3",
   "metadata": {},
   "outputs": [],
   "source": []
  },
  {
   "cell_type": "code",
   "execution_count": null,
   "id": "ed05550a",
   "metadata": {},
   "outputs": [],
   "source": []
  }
 ],
 "metadata": {
  "kernelspec": {
   "display_name": "Python 3 (ipykernel)",
   "language": "python",
   "name": "python3"
  },
  "language_info": {
   "codemirror_mode": {
    "name": "ipython",
    "version": 3
   },
   "file_extension": ".py",
   "mimetype": "text/x-python",
   "name": "python",
   "nbconvert_exporter": "python",
   "pygments_lexer": "ipython3",
   "version": "3.10.9"
  }
 },
 "nbformat": 4,
 "nbformat_minor": 5
}
