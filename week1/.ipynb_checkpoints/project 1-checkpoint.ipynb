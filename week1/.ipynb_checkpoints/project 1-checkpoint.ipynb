{
 "cells": [
  {
   "cell_type": "code",
   "execution_count": 7,
   "id": "bfb39517",
   "metadata": {},
   "outputs": [
    {
     "name": "stdout",
     "output_type": "stream",
     "text": [
      "Enter principal amount : 300\n",
      "Enter Rate of interest: 3\n",
      "Enter time in years: 4\n",
      "Simple Interest is:  1236.0\n"
     ]
    }
   ],
   "source": [
    "'''python program for simple interest'''\n",
    "P=float(input(\"Enter principal amount : \"))\n",
    "R=float(input(\"Enter Rate of interest: \"))\n",
    "T=float(input(\"Enter time in years: \"))\n",
    "simple_interest = P * (1.0 + R/100.0)*T\n",
    "print(\"Simple Interest is: \",simple_interest )\n"
   ]
  },
  {
   "cell_type": "code",
   "execution_count": null,
   "id": "05bf4310",
   "metadata": {},
   "outputs": [],
   "source": []
  },
  {
   "cell_type": "code",
   "execution_count": null,
   "id": "355cfa25",
   "metadata": {},
   "outputs": [],
   "source": []
  }
 ],
 "metadata": {
  "kernelspec": {
   "display_name": "Python 3 (ipykernel)",
   "language": "python",
   "name": "python3"
  },
  "language_info": {
   "codemirror_mode": {
    "name": "ipython",
    "version": 3
   },
   "file_extension": ".py",
   "mimetype": "text/x-python",
   "name": "python",
   "nbconvert_exporter": "python",
   "pygments_lexer": "ipython3",
   "version": "3.10.9"
  }
 },
 "nbformat": 4,
 "nbformat_minor": 5
}
