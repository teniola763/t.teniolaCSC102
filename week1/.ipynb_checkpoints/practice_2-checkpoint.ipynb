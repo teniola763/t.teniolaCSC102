{
 "cells": [
  {
   "cell_type": "code",
   "execution_count": 4,
   "id": "3ff716cb",
   "metadata": {},
   "outputs": [
    {
     "name": "stdout",
     "output_type": "stream",
     "text": [
      "Hi my name is Matthew. I am String\n",
      "<class 'str'>\n",
      "Hi my name is Precious. I am String\n",
      "<class 'str'>\n"
     ]
    }
   ],
   "source": [
    "'''Phython program to print strings and type'''\n",
    "str1 = \"Hi my name is Matthew. I am String\"\n",
    "str2 = \"Hi my name is Precious. I am String\"\n",
    "\n",
    "'''displaying str1 and its type'''\n",
    "print(str1)\n",
    "print(type(str1))\n",
    "\n",
    "'''displaying str2 and its type'''\n",
    "print(str2)\n",
    "print(type(str2))\n",
    "\n",
    "\n",
    "\n"
   ]
  },
  {
   "cell_type": "code",
   "execution_count": null,
   "id": "a86b668c",
   "metadata": {},
   "outputs": [],
   "source": []
  }
 ],
 "metadata": {
  "kernelspec": {
   "display_name": "Python 3 (ipykernel)",
   "language": "python",
   "name": "python3"
  },
  "language_info": {
   "codemirror_mode": {
    "name": "ipython",
    "version": 3
   },
   "file_extension": ".py",
   "mimetype": "text/x-python",
   "name": "python",
   "nbconvert_exporter": "python",
   "pygments_lexer": "ipython3",
   "version": "3.10.9"
  }
 },
 "nbformat": 4,
 "nbformat_minor": 5
}
