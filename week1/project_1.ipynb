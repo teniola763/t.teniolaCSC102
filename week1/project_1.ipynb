{
 "cells": [
  {
   "cell_type": "code",
   "execution_count": 22,
   "metadata": {},
   "outputs": [
    {
     "name": "stdout",
     "output_type": "stream",
     "text": [
      "welcome to the internet calculator \n",
      "Enter 1 for simple interest , 2 for compound interest and 3 for annuity plan \n",
      "what would you like to calculate: 1\n",
      "Enter principal amount : 1\n",
      "Enter Rate of interest: 1\n",
      "Enter time in years: 1\n"
     ]
    },
    {
     "ename": "TypeError",
     "evalue": "unsupported operand type(s) for /: 'str' and 'float'",
     "output_type": "error",
     "traceback": [
      "\u001b[1;31m---------------------------------------------------------------------------\u001b[0m",
      "\u001b[1;31mTypeError\u001b[0m                                 Traceback (most recent call last)",
      "\u001b[1;32m<ipython-input-22-3ea67a33e7e9>\u001b[0m in \u001b[0;36m<module>\u001b[1;34m\u001b[0m\n\u001b[0;32m     12\u001b[0m     \u001b[0mT\u001b[0m\u001b[1;33m=\u001b[0m\u001b[0minput\u001b[0m\u001b[1;33m(\u001b[0m\u001b[1;34m\"Enter time in years: \"\u001b[0m\u001b[1;33m)\u001b[0m\u001b[1;33m\u001b[0m\u001b[1;33m\u001b[0m\u001b[0m\n\u001b[0;32m     13\u001b[0m \u001b[1;33m\u001b[0m\u001b[0m\n\u001b[1;32m---> 14\u001b[1;33m     \u001b[0msimple_interest\u001b[0m \u001b[1;33m=\u001b[0m \u001b[0mP\u001b[0m \u001b[1;33m*\u001b[0m \u001b[1;33m(\u001b[0m\u001b[1;36m1.0\u001b[0m \u001b[1;33m+\u001b[0m \u001b[0mR\u001b[0m\u001b[1;33m/\u001b[0m\u001b[1;36m100.0\u001b[0m\u001b[1;33m)\u001b[0m\u001b[1;33m*\u001b[0m\u001b[0mT\u001b[0m\u001b[1;33m\u001b[0m\u001b[1;33m\u001b[0m\u001b[0m\n\u001b[0m\u001b[0;32m     15\u001b[0m \u001b[1;33m\u001b[0m\u001b[0m\n\u001b[0;32m     16\u001b[0m     \u001b[0mprint\u001b[0m\u001b[1;33m(\u001b[0m\u001b[1;34m\"Simple Interest is: \"\u001b[0m\u001b[1;33m,\u001b[0m\u001b[0msimple_interest\u001b[0m \u001b[1;33m)\u001b[0m\u001b[1;33m\u001b[0m\u001b[1;33m\u001b[0m\u001b[0m\n",
      "\u001b[1;31mTypeError\u001b[0m: unsupported operand type(s) for /: 'str' and 'float'"
     ]
    }
   ],
   "source": [
    "'''python program for simple interest'''\n",
    "print(\"welcome to the internet calculator \")\n",
    "print(\"Enter 1 for simple interest , 2 for compound interest and 3 for annuity plan \")\n",
    "a = str (input(\"what would you like to calculate: \"))\n",
    "\n",
    "if a == \"1\":\n",
    "\n",
    "    P=input(\"Enter principal amount : \")\n",
    "\n",
    "    R=input(\"Enter Rate of interest: \")\n",
    "\n",
    "    T=input(\"Enter time in years: \")\n",
    "\n",
    "    simple_interest = P * (1.0 + R/100.0)*T\n",
    "\n",
    "    print(\"Simple Interest is: \",simple_interest )\n",
    "\n",
    "'''python program for compound interest '''\n",
    "if a == \"2\":\n",
    "\n",
    "    P=input(\"Enter principal amount: \")\n",
    "\n",
    "    R=input(\"Enter Rate of interest: \")\n",
    "\n",
    "    T=input(\"Enter time in years: \")\n",
    "\n",
    "    n=input(\"Enter the number of times interest applied per time: \")\n",
    "\n",
    "    compound_interest = P * (1 + R/n)**(n*T)\n",
    "\n",
    "\n",
    "    print(\"compound interest is: \",compound_interest )\n",
    "\n",
    "'''python program for annuity plan'''\n",
    "if a == \"3\":\n",
    "\n",
    "    PMT=input(\"Enter periodic cash flows: \")\n",
    "\n",
    "    R=input(\"Enter periodic rate: \")\n",
    "\n",
    "    n=input(\"Enter the total number of payments for the annuity due: \")\n",
    "\n",
    "    t=input(\"Enter the number of periods: \")\n",
    "\n",
    "    annuity_plan = PMT * ((1 + R/n)**(n*t) - 1) / R/n\n",
    "\n",
    "    print(\"Annuity plan is: \",annuity_plan )\n",
    "    \n",
    "else:\n",
    "    print(\"This cannot be calculated with this program.\")\n",
    " \n",
    " "
   ]
  },
  {
   "cell_type": "code",
   "execution_count": null,
   "metadata": {},
   "outputs": [],
   "source": []
  }
 ],
 "metadata": {
  "kernelspec": {
   "display_name": "Python 3",
   "language": "python",
   "name": "python3"
  },
  "language_info": {
   "codemirror_mode": {
    "name": "ipython",
    "version": 3
   },
   "file_extension": ".py",
   "mimetype": "text/x-python",
   "name": "python",
   "nbconvert_exporter": "python",
   "pygments_lexer": "ipython3",
   "version": "3.8.5"
  }
 },
 "nbformat": 4,
 "nbformat_minor": 5
}
